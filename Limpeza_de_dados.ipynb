{
 "cells": [
  {
   "cell_type": "markdown",
   "id": "6a7fb6cb-900f-4325-a6fe-decafafc3c67",
   "metadata": {
    "tags": []
   },
   "source": [
    "# Projeto Final - Limpeza de Dados"
   ]
  },
  {
   "cell_type": "markdown",
   "id": "964497e2-4152-40e9-b5a7-84450252b2d0",
   "metadata": {
    "tags": []
   },
   "source": [
    "## Setup"
   ]
  },
  {
   "cell_type": "code",
   "execution_count": null,
   "id": "2854547a-e80f-4de4-ac03-d7d9e06d6c87",
   "metadata": {},
   "outputs": [],
   "source": [
    "from pyspark.sql import functions as sf"
   ]
  },
  {
   "cell_type": "code",
   "execution_count": null,
   "id": "d70a5d8b-d4bb-4a4b-9a54-25da8ffc838a",
   "metadata": {},
   "outputs": [],
   "source": [
    "# Criar a sessao do Spark\n",
    "from pyspark.sql import SparkSession\n",
    "spark = SparkSession \\\n",
    "            .builder \\\n",
    "            .master(\"local[4]\") \\\n",
    "            .appName(\"nyc_caio_garcia\") \\\n",
    "            .config(\"spark.jars.packages\", \"org.apache.hadoop:hadoop-azure:3.3.4,com.microsoft.azure:azure-storage:8.6.6\") \\\n",
    "            .getOrCreate()"
   ]
  },
  {
   "cell_type": "code",
   "execution_count": null,
   "id": "1a7d4876-0f97-4e38-a005-5d4023a78348",
   "metadata": {},
   "outputs": [],
   "source": [
    "# Acesso aos dados na nuvem\n",
    "STORAGE_ACCOUNT = 'dlspadseastusprod'\n",
    "CONTAINER = 'big-data-comp-nuvem'\n",
    "FOLDER = 'airline-delay'\n",
    "TOKEN = 'lSuH4ZI9BhOFEhCF/7ZQbrpPBIhgtLcPDfXjJ8lMxQZjaADW4p6tcmiZGDX9u05o7FqSE2t9d2RD+ASt0YFG8g=='\n",
    "\n",
    "spark.conf.set(\"fs.azure.account.key.\" + STORAGE_ACCOUNT + \".blob.core.windows.net\", TOKEN)"
   ]
  },
  {
   "cell_type": "markdown",
   "id": "1f6c76c8-4ac8-4658-8f17-039cb3d4a8ca",
   "metadata": {},
   "source": [
    "### Schema\n",
    "Schema definido de acordo com o dicionário de dados em `projeto_final_dicionário.xlsx`"
   ]
  },
  {
   "cell_type": "code",
   "execution_count": null,
   "id": "fe7e09a0-9c71-4b06-a8ff-038b37d8b6ef",
   "metadata": {},
   "outputs": [],
   "source": [
    "from pyspark.sql.types import *\n",
    "\n",
    "labels = (('FL_DATE', TimestampType()),\n",
    "          ('OP_CARRRIER', StringType()),\n",
    "          ('OP_CARRIER_FL_NUM', IntegerType()),\n",
    "          ('ORIGIN', StringType()),\n",
    "          ('DEST', StringType()),\n",
    "          ('CRS_DEP_TIME', IntegerType()),\n",
    "          ('DEP_TIME', FloatType()),\n",
    "          ('DEP_DELAY', FloatType()),\n",
    "          ('TAXI_OUT', FloatType()),\n",
    "          ('WHEELS_OFF', FloatType()),\n",
    "          ('WHEELS_ON', FloatType()),\n",
    "          ('TAXI_IN', FloatType()),\n",
    "          ('CRS_ARR_TIME', IntegerType()),\n",
    "          ('ARR_TIME', FloatType()),\n",
    "          ('ARR_DELAY', FloatType()),\n",
    "          ('CANCELLED', FloatType()),\n",
    "          ('CANCELLATION_CODE', StringType()),\n",
    "          ('DIVERTED', FloatType()),\n",
    "          ('CRS_ELAPSED_TIME', FloatType()),\n",
    "          ('ACTUAL_ELAPSED_TIME', FloatType()),\n",
    "          ('AIR_TIME', FloatType()),\n",
    "          ('DISTANCE', FloatType()),\n",
    "          ('CARRIER_DELAY', FloatType()),\n",
    "          ('WEATHER_DELAY', FloatType()),\n",
    "          ('NAS_DELAY', FloatType()),\n",
    "          ('SECURITY_DELAY', FloatType()),\n",
    "          ('LATE_AIRCRAFT_DELAY', StringType()))\n",
    "\n",
    "schema = StructType([StructField(x[0], x[1], True) for x in labels])"
   ]
  },
  {
   "cell_type": "markdown",
   "id": "45c4b10f-534e-4543-baf4-b157d802e015",
   "metadata": {},
   "source": [
    "### Carregamento de dados\n",
    "Dados carregados da nuvem como spark data frame"
   ]
  },
  {
   "cell_type": "code",
   "execution_count": null,
   "id": "53cbc885-775c-4991-ae70-8a2995b227e6",
   "metadata": {},
   "outputs": [],
   "source": [
    "config = spark.sparkContext._jsc.hadoopConfiguration()\n",
    "config.set(\"fs.azure.account.key.\" + STORAGE_ACCOUNT + \".blob.core.windows.net\", TOKEN)\n",
    "sc = spark.sparkContext\n",
    "\n",
    "df = spark.read.csv(\"wasbs://{}@{}.blob.core.windows.net/{}/2009.csv\"\\\n",
    "                    .format(CONTAINER, STORAGE_ACCOUNT, FOLDER), header=True, schema=schema)\n",
    "df.take(2)"
   ]
  },
  {
   "cell_type": "code",
   "execution_count": null,
   "id": "3719918f-1480-47fa-a516-f60b7ff55b8f",
   "metadata": {},
   "outputs": [],
   "source": [
    "OBSERVACOES = df.count()\n",
    "assert (OBSERVACOES == 6429338)"
   ]
  },
  {
   "cell_type": "markdown",
   "id": "c2a63038-6084-4b33-be5d-e91df607d041",
   "metadata": {},
   "source": [
    "A base contem 6429338 observações."
   ]
  },
  {
   "cell_type": "code",
   "execution_count": null,
   "id": "d9b5dc9f-3802-4a9a-bbfc-2a60220d732f",
   "metadata": {},
   "outputs": [],
   "source": [
    "CANCELAMENTOS = df.filter(df.CANCELLED == 1).count()\n",
    "assert (CANCELAMENTOS == 87038)"
   ]
  },
  {
   "cell_type": "markdown",
   "id": "63098638-ce24-4cf9-88e3-5656cd3b0712",
   "metadata": {},
   "source": [
    "Dos voos na base, 87038 foram cancelados."
   ]
  },
  {
   "cell_type": "markdown",
   "id": "d3310590-09b3-4fed-be80-3d90b2a311d4",
   "metadata": {},
   "source": [
    "## Tratamento de dados faltantes"
   ]
  },
  {
   "cell_type": "markdown",
   "id": "de608229-774c-4f14-be45-7b48fdc1f298",
   "metadata": {},
   "source": [
    "Das 27 colunas na base de dados, 16 tem valores faltantes. Os dados ausentes na coluna CANCELATION_CODE sao 100% consistentes com a informacao de cancelamento, isto eh, apenas os voos que nao foram cancelados tem a coluna CANCELATION_CODE vazia. As outras 15 colunas podem ser agrupadas em 3 grupos: _Voo_, _Chegada_ e _Atrasos_."
   ]
  },
  {
   "cell_type": "markdown",
   "id": "bf07a3be-4412-4013-9ee6-0f8abd3995e3",
   "metadata": {
    "tags": []
   },
   "source": [
    "### Resumo"
   ]
  },
  {
   "cell_type": "code",
   "execution_count": null,
   "id": "e1d7d23b-f9ae-4234-adb2-ad02682b9c86",
   "metadata": {
    "tags": []
   },
   "outputs": [],
   "source": [
    "missing_counts = df.select([sf.col(column).isNull().cast(\"int\").alias(column) for column in df.columns]) \\\n",
    "                       .groupBy() \\\n",
    "                       .sum()"
   ]
  },
  {
   "cell_type": "code",
   "execution_count": null,
   "id": "ea7a7f14-7c6f-4abe-97bd-39286d92b574",
   "metadata": {},
   "outputs": [],
   "source": [
    "missing_counts.toPandas().transpose()"
   ]
  },
  {
   "cell_type": "markdown",
   "id": "fc26e98d-433c-47c9-aec0-c7e4b57890af",
   "metadata": {
    "jp-MarkdownHeadingCollapsed": true,
    "tags": []
   },
   "source": [
    "### Cancelamentos"
   ]
  },
  {
   "cell_type": "code",
   "execution_count": null,
   "id": "bf163363-ebbf-4e68-a7b9-d50a267947ef",
   "metadata": {},
   "outputs": [],
   "source": [
    "assert (df.filter((df.CANCELLATION_CODE.isNull()) &\n",
    "                  (df.CANCELLED == 0)).count() ==\n",
    "        df.filter(df.CANCELLED == 0).count())"
   ]
  },
  {
   "cell_type": "markdown",
   "id": "8a2c1b4a-9691-4607-a1ce-ce68c690819f",
   "metadata": {},
   "source": [
    "Todos os valores faltantes de CANCELLATION_CODE são referentes a voos que não foram cancelados."
   ]
  },
  {
   "cell_type": "markdown",
   "id": "fc33922d-d997-47dd-a4df-fb7e779afa17",
   "metadata": {
    "jp-MarkdownHeadingCollapsed": true,
    "tags": []
   },
   "source": [
    "### Voo"
   ]
  },
  {
   "cell_type": "markdown",
   "id": "b1e02169-1998-49cd-8767-cf2530808c3f",
   "metadata": {
    "jp-MarkdownHeadingCollapsed": true,
    "tags": []
   },
   "source": [
    "#### Testes"
   ]
  },
  {
   "cell_type": "code",
   "execution_count": null,
   "id": "f54caca1-c6fb-4108-bf45-62f0a8883da5",
   "metadata": {},
   "outputs": [],
   "source": [
    "assert (df.filter((df.DEP_TIME.isNull())   &\n",
    "                  (df.DEP_DELAY.isNull())  &\n",
    "                  (df.TAXI_OUT.isNull())   &\n",
    "                  (df.WHEELS_OFF.isNull()) &\n",
    "                  (df.WHEELS_ON.isNull())  &\n",
    "                  (df.TAXI_IN.isNull())    &\n",
    "                  (df.ARR_TIME.isNull())).count() ==\n",
    "        df.filter(df.DEP_TIME.isNull()).count())\n",
    "\n",
    "assert (df.filter((df.DEP_TIME.isNull())   &\n",
    "                  (df.DEP_DELAY.isNull())).count() ==\n",
    "        df.filter(df.DEP_TIME.isNull()).count())"
   ]
  },
  {
   "cell_type": "code",
   "execution_count": null,
   "id": "822e2907-17b5-4647-95ad-521095ccecbc",
   "metadata": {},
   "outputs": [],
   "source": [
    "assert (df.filter((df.DEP_TIME.isNull())   &\n",
    "                  (df.CANCELLED == 1)).count() ==\n",
    "        df.filter(df.DEP_TIME.isNull()).count())"
   ]
  },
  {
   "cell_type": "code",
   "execution_count": null,
   "id": "09a4ec27-f674-4d71-879a-b8e23fa8ac1b",
   "metadata": {},
   "outputs": [],
   "source": [
    "assert (df.filter((df.TAXI_OUT.isNull())   &\n",
    "                  (df.WHEELS_OFF.isNull()) &\n",
    "                  (df.WHEELS_ON.isNull())  &\n",
    "                  (df.TAXI_IN.isNull())    &\n",
    "                  (df.ARR_TIME.isNull())).count() ==\n",
    "        df.filter(df.TAXI_OUT.isNull()).count())\n",
    "\n",
    "assert (df.filter((df.TAXI_OUT.isNull())   &\n",
    "                  (df.WHEELS_OFF.isNull())).count() ==\n",
    "        df.filter(df.TAXI_OUT.isNull()).count())"
   ]
  },
  {
   "cell_type": "code",
   "execution_count": null,
   "id": "5bd913d4-3138-4828-88a3-2096e267e967",
   "metadata": {},
   "outputs": [],
   "source": [
    "assert (df.filter((df.TAXI_OUT.isNull())   &\n",
    "                  (df.CANCELLED == 1)).count() ==\n",
    "        df.filter(df.TAXI_OUT.isNull()).count())"
   ]
  },
  {
   "cell_type": "code",
   "execution_count": null,
   "id": "c143a583-4792-47d5-a1f2-73d4385092d9",
   "metadata": {},
   "outputs": [],
   "source": [
    "assert (df.filter((df.WHEELS_ON.isNull())  &\n",
    "                  (df.TAXI_IN.isNull())    &\n",
    "                  (df.ARR_TIME.isNull())).count() ==\n",
    "        df.filter(df.TAXI_IN.isNull()).count())"
   ]
  },
  {
   "cell_type": "code",
   "execution_count": null,
   "id": "1d6f1ef6-a9d2-4be2-9470-ee291e9e95be",
   "metadata": {},
   "outputs": [],
   "source": [
    "assert (df.filter((df.TAXI_IN.isNull())   &\n",
    "                  (df.CANCELLED == 1)).count() ==\n",
    "        df.filter(df.CANCELLED == 1).count())"
   ]
  },
  {
   "cell_type": "markdown",
   "id": "3e3a7142-6bbe-48d3-a3e1-84113dce5562",
   "metadata": {
    "jp-MarkdownHeadingCollapsed": true,
    "tags": []
   },
   "source": [
    "#### Análise"
   ]
  },
  {
   "cell_type": "markdown",
   "id": "b7cedab5-fcbd-4a7e-aa6d-4dd72e0c3b23",
   "metadata": {},
   "source": [
    "O grupo _Voo_ apresenta uma relação entre voos cancelados e as 7 variáveis:\n",
    " - DEP_TIME\n",
    " - DEP_DELAY\n",
    " - TAXI_OUT\n",
    " - WHEELS_OFF\n",
    " - WHEELS_ON\n",
    " - TAXI_IN\n",
    " - ARR_TIME\n",
    " \n",
    "Os valores faltantes para WHEELS_ON, TAXI_IN e ARR_TIME coincidem nas mesmas observações (com uma exceção descrita mais abaixo). Todos os voos cancelados se encontram dentre essas observações. Os valores faltantes para TAXI_OUT e WHEELS_OFF coincidem nas mesmas observações, todas referentes a voos cancelados. Finalmente, os valores faltantes de DEP_TIME e DEP_DELAY coincidem nas mesmas observações, todas com valores faltantes para TAXI_OUT.\n",
    "\n",
    "Destas relações, supomos:\n",
    " - Alguns voos parecem não ter sua chegada propriamente registrada. Casos de pousos de emergencia em localização diferente da planejada são plausíveis mas supomos que sejam menos frequentes. Esses casos (`(df.WHEELS_ON.isNull()) & (df.CANCELLED == 0)`) podem vir a ser uma categoria relevante na análise.\n",
    " - A diferença entre DEP_TIME e WHEELS_OFF pode ser devido a voos que chegam a sair do chão antes de serem cancelados, e voos que são cancelados após o embarque mas antes da decolagem.\n",
    " - Nenhum desses valores faltantes parece implausível o suficiente para assumirmos erro nos dados baseado apenas nessa análise. Alguns desses dados podem vir a ser retirados mesmo assim por questão de propriedades dos algorítmos utilizados mais a frente."
   ]
  },
  {
   "cell_type": "markdown",
   "id": "53ea660b-90ab-49cd-9b00-6d3c6ec62a2a",
   "metadata": {},
   "source": [
    "### Chegada"
   ]
  },
  {
   "cell_type": "markdown",
   "id": "6898560b-3e2c-428b-b518-fbd51121f92a",
   "metadata": {
    "tags": []
   },
   "source": [
    "### Atrasos\n",
    "TODO"
   ]
  },
  {
   "cell_type": "markdown",
   "id": "34976d73-0eba-47dc-b073-5e7617064c4b",
   "metadata": {},
   "source": [
    "#### Testes"
   ]
  },
  {
   "cell_type": "code",
   "execution_count": null,
   "id": "67590453-4503-47e9-8b4d-a6050e5ee726",
   "metadata": {},
   "outputs": [],
   "source": [
    "assert (df.filter((df.CANCELLED == 0) &\n",
    "                  (df.DEP_DELAY > 0)).count() == \n",
    "        2252608)"
   ]
  },
  {
   "cell_type": "code",
   "execution_count": null,
   "id": "848dc97e-4dcc-48c3-b393-b68056591ca5",
   "metadata": {},
   "outputs": [],
   "source": [
    "assert (df.filter((df.CANCELLED == 0) &\n",
    "                  (df.ARR_DELAY > 0)).count() ==\n",
    "        2402990)"
   ]
  },
  {
   "cell_type": "code",
   "execution_count": null,
   "id": "360b6632-a55e-4403-8b74-4b68cef59ab2",
   "metadata": {},
   "outputs": [],
   "source": [
    "assert (df.filter((df.CANCELLED == 0) &\n",
    "                  ((df.DEP_DELAY > 0) |\n",
    "                   (df.ARR_DELAY > 0))).count() ==\n",
    "        3052688)"
   ]
  },
  {
   "cell_type": "code",
   "execution_count": null,
   "id": "17d210a0-6792-4ca1-b80b-032fe3aeb81e",
   "metadata": {},
   "outputs": [],
   "source": [
    "assert (OBSERVACOES - df.filter(df.CARRIER_DELAY.isNull()).count() ==\n",
    "        1170501)"
   ]
  },
  {
   "cell_type": "code",
   "execution_count": null,
   "id": "f63473d2-eb2c-46bb-81ea-3a16533465e8",
   "metadata": {},
   "outputs": [],
   "source": [
    "assert (df.filter((df.CARRIER_DELAY.isNull()) &\n",
    "                  (df.WEATHER_DELAY.isNull()) &\n",
    "                  (df.NAS_DELAY.isNull()) &\n",
    "                  (df.SECURITY_DELAY.isNull()) &\n",
    "                  (df.LATE_AIRCRAFT_DELAY.isNull())).count() ==\n",
    "        df.filter(df.CARRIER_DELAY.isNull()).count())"
   ]
  },
  {
   "cell_type": "code",
   "execution_count": null,
   "id": "2c6ac87d-a9e9-439b-83c3-e9638dd6adbd",
   "metadata": {},
   "outputs": [],
   "source": [
    "assert (df.filter((df.CARRIER_DELAY.isNull()) &\n",
    "                  ((df.DEP_DELAY > 0) |\n",
    "                   (df.ARR_DELAY > 0))).count() ==\n",
    "        df.filter(df.CARRIER_DELAY.isNull()).count())"
   ]
  },
  {
   "cell_type": "code",
   "execution_count": null,
   "id": "6bdac41c-6b88-4273-90ed-28ce5ce51ab0",
   "metadata": {},
   "outputs": [],
   "source": [
    "df.filter(df.CARRIER_DELAY == 0).select(df.OP_CARRIER_FL_NUM, df.CARRIER_DELAY).take(10)"
   ]
  },
  {
   "cell_type": "markdown",
   "id": "8a6d5baa-0389-4631-b701-4a6d89ef4e4f",
   "metadata": {},
   "source": [
    "#### Análise"
   ]
  },
  {
   "cell_type": "markdown",
   "id": "295fcc3b-629d-48c1-a863-6dc0208e31cf",
   "metadata": {},
   "source": [
    "Todos os dados faltantes referentes a categoria de atraso coincidem nas mesmas observações.\n",
    "\n",
    "Há menos observações com informação sobre a causa do atraso do que voos atrasados, independente se medindo o atraso de saída ou de chegada."
   ]
  },
  {
   "cell_type": "markdown",
   "id": "69b19f0e-bc57-4d53-9519-51dd48f1fc0e",
   "metadata": {},
   "source": [
    "### Anomalia"
   ]
  },
  {
   "cell_type": "code",
   "execution_count": null,
   "id": "40e21064-0258-41df-ba6c-06bd7d30b141",
   "metadata": {},
   "outputs": [],
   "source": [
    "assert (df.filter((df.ACTUAL_ELAPSED_TIME.isNull()) &\n",
    "                  (df.AIR_TIME == 0)                &\n",
    "                  (df.WHEELS_ON.isNull())           &\n",
    "                  (df.ARR_TIME.isNull())            &\n",
    "                  (df.ARR_DELAY == 0)               &\n",
    "                  (df.TAXI_IN == 0)                 &\n",
    "                  (df.CANCELLED == 0)).count() == 1)"
   ]
  },
  {
   "cell_type": "markdown",
   "id": "a1001ec0-a98d-4068-b913-da7feb48ba41",
   "metadata": {},
   "source": [
    "Uma mesma observação é responsavel pela discrepância na quantidade total de valores faltantes entre WHEELS_ON, TAXI_IN e ARR_TIME, e ARR_DELAY, ACTUAL_ELAPSED_TIME e AIR_TIME.\n",
    "Um valor de `AIR_TIME == 0` nao faz sentido para um voo que não foi cancelado, e o mesmo se aplica a `TAXI_IN == 0`. Ao retirar essa observação da base, a análise de dados faltantes por grupo torna-se mais consistente."
   ]
  }
 ],
 "metadata": {
  "kernelspec": {
   "display_name": "Python 3 (ipykernel)",
   "language": "python",
   "name": "python3"
  },
  "language_info": {
   "codemirror_mode": {
    "name": "ipython",
    "version": 3
   },
   "file_extension": ".py",
   "mimetype": "text/x-python",
   "name": "python",
   "nbconvert_exporter": "python",
   "pygments_lexer": "ipython3",
   "version": "3.10.8"
  }
 },
 "nbformat": 4,
 "nbformat_minor": 5
}
