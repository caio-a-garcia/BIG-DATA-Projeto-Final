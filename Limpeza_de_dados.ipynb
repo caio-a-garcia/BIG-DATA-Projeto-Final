{
 "cells": [
  {
   "cell_type": "markdown",
   "id": "6a7fb6cb-900f-4325-a6fe-decafafc3c67",
   "metadata": {
    "tags": []
   },
   "source": [
    "# Projeto Final - Limpeza de Dados"
   ]
  },
  {
   "cell_type": "markdown",
   "id": "964497e2-4152-40e9-b5a7-84450252b2d0",
   "metadata": {
    "tags": []
   },
   "source": [
    "## Setup"
   ]
  },
  {
   "cell_type": "code",
   "execution_count": 1,
   "id": "2854547a-e80f-4de4-ac03-d7d9e06d6c87",
   "metadata": {},
   "outputs": [],
   "source": [
    "from pyspark.sql import functions as sf\n",
    "import pyspark.sql.functions as f\n",
    "\n",
    "# Modeling\n",
    "from pyspark.ml.feature import VectorAssembler, StandardScaler\n",
    "from pyspark.ml.feature import OneHotEncoder, StringIndexer\n",
    "from pyspark.ml.regression import LinearRegression\n",
    "from pyspark.ml import Pipeline\n",
    "from pyspark.ml.tuning import CrossValidator, ParamGridBuilder\n",
    "from pyspark.ml.evaluation import RegressionEvaluator"
   ]
  },
  {
   "cell_type": "code",
   "execution_count": 2,
   "id": "f0f50d82-2f20-43c3-85d2-5ec0fd8a945a",
   "metadata": {},
   "outputs": [],
   "source": [
    "## Bibliotecas Gráficas\n",
    "import seaborn as sns\n",
    "import matplotlib.pyplot as plt"
   ]
  },
  {
   "cell_type": "code",
   "execution_count": 3,
   "id": "d70a5d8b-d4bb-4a4b-9a54-25da8ffc838a",
   "metadata": {},
   "outputs": [],
   "source": [
    "# Criar a sessao do Spark\n",
    "from pyspark.sql import SparkSession\n",
    "spark = SparkSession \\\n",
    "            .builder \\\n",
    "            .master(\"local[4]\") \\\n",
    "            .appName(\"nyc_caio_garcia\") \\\n",
    "            .config(\"spark.jars.packages\", \"org.apache.hadoop:hadoop-azure:3.3.4,com.microsoft.azure:azure-storage:8.6.6\") \\\n",
    "            .getOrCreate()"
   ]
  },
  {
   "cell_type": "code",
   "execution_count": 4,
   "id": "1a7d4876-0f97-4e38-a005-5d4023a78348",
   "metadata": {},
   "outputs": [],
   "source": [
    "# Acesso aos dados na nuvem\n",
    "STORAGE_ACCOUNT = 'dlspadseastusprod'\n",
    "CONTAINER = 'big-data-comp-nuvem'\n",
    "FOLDER = 'airline-delay'\n",
    "TOKEN = 'lSuH4ZI9BhOFEhCF/7ZQbrpPBIhgtLcPDfXjJ8lMxQZjaADW4p6tcmiZGDX9u05o7FqSE2t9d2RD+ASt0YFG8g=='\n",
    "\n",
    "spark.conf.set(\"fs.azure.account.key.\" + STORAGE_ACCOUNT + \".blob.core.windows.net\", TOKEN)"
   ]
  },
  {
   "cell_type": "markdown",
   "id": "1f6c76c8-4ac8-4658-8f17-039cb3d4a8ca",
   "metadata": {},
   "source": [
    "### Schema\n",
    "Schema definido de acordo com o dicionário de dados em `projeto_final_dicionário.xlsx`"
   ]
  },
  {
   "cell_type": "code",
   "execution_count": 5,
   "id": "fe7e09a0-9c71-4b06-a8ff-038b37d8b6ef",
   "metadata": {},
   "outputs": [],
   "source": [
    "from pyspark.sql.types import *\n",
    "\n",
    "labels = (('FL_DATE', TimestampType()),\n",
    "          ('OP_CARRIER', StringType()),\n",
    "          ('OP_CARRIER_FL_NUM', IntegerType()),\n",
    "          ('ORIGIN', StringType()),\n",
    "          ('DEST', StringType()),\n",
    "          ('CRS_DEP_TIME', IntegerType()),\n",
    "          ('DEP_TIME', FloatType()),\n",
    "          ('DEP_DELAY', FloatType()),\n",
    "          ('TAXI_OUT', FloatType()),\n",
    "          ('WHEELS_OFF', FloatType()),\n",
    "          ('WHEELS_ON', FloatType()),\n",
    "          ('TAXI_IN', FloatType()),\n",
    "          ('CRS_ARR_TIME', IntegerType()),\n",
    "          ('ARR_TIME', FloatType()),\n",
    "          ('ARR_DELAY', FloatType()),\n",
    "          ('CANCELLED', FloatType()),\n",
    "          ('CANCELLATION_CODE', StringType()),\n",
    "          ('DIVERTED', FloatType()),\n",
    "          ('CRS_ELAPSED_TIME', FloatType()),\n",
    "          ('ACTUAL_ELAPSED_TIME', FloatType()),\n",
    "          ('AIR_TIME', FloatType()),\n",
    "          ('DISTANCE', FloatType()),\n",
    "          ('CARRIER_DELAY', FloatType()),\n",
    "          ('WEATHER_DELAY', FloatType()),\n",
    "          ('NAS_DELAY', FloatType()),\n",
    "          ('SECURITY_DELAY', FloatType()),\n",
    "          ('LATE_AIRCRAFT_DELAY', StringType()))\n",
    "\n",
    "schema = StructType([StructField(x[0], x[1], True) for x in labels])"
   ]
  },
  {
   "cell_type": "code",
   "execution_count": 6,
   "id": "30a50626-1dfc-45a0-9a6c-5a20fc41d1eb",
   "metadata": {},
   "outputs": [],
   "source": [
    "# Columns with values in minutes\n",
    "minute_columns = [\"TAXI_OUT\",\"TAXI_IN\",\"DEP_DELAY\",\"ARR_DELAY\",\"AIR_TIME\",\"CRS_ELAPSED_TIME\",\"ACTUAL_ELAPSED_TIME\",\n",
    "                  \"CARRIER_DELAY\",\"WEATHER_DELAY\",\"NAS_DELAY\",\"SECURITY_DELAY\",\"LATE_AIRCRAFT_DELAY\"]\n",
    "\n",
    "# Subset from minute columns with no data leak from moment of take off\n",
    "clean_min_columns = [\"TAXI_OUT\", \"DEP_DELAY\", \"CRS_ELAPSED_TIME\"]\n",
    "\n",
    "# Columns with time information on format 'hhmm'\n",
    "# Not proper for numerical manipulation\n",
    "odd_format_columns = [\"CRS_DEP_TIME\",\"DEP_TIME\",\"WHEELS_OFF\",\"WHEELS_ON\",\"ARR_TIME\",\"CRS_ARR_TIME\"]"
   ]
  },
  {
   "cell_type": "markdown",
   "id": "45c4b10f-534e-4543-baf4-b157d802e015",
   "metadata": {},
   "source": [
    "### Carregamento de dados\n",
    "Dados carregados da nuvem como spark data frame"
   ]
  },
  {
   "cell_type": "markdown",
   "id": "9b363da8-9ca0-46cc-a2ae-51c55a181092",
   "metadata": {},
   "source": [
    "Exemplo para o ano de 2009:"
   ]
  },
  {
   "cell_type": "code",
   "execution_count": 7,
   "id": "53cbc885-775c-4991-ae70-8a2995b227e6",
   "metadata": {},
   "outputs": [
    {
     "data": {
      "text/plain": [
       "[Row(FL_DATE=datetime.datetime(2009, 1, 1, 0, 0), OP_CARRIER='XE', OP_CARRIER_FL_NUM=1204, ORIGIN='DCA', DEST='EWR', CRS_DEP_TIME=1100, DEP_TIME=1058.0, DEP_DELAY=-2.0, TAXI_OUT=18.0, WHEELS_OFF=1116.0, WHEELS_ON=1158.0, TAXI_IN=8.0, CRS_ARR_TIME=1202, ARR_TIME=1206.0, ARR_DELAY=4.0, CANCELLED=0.0, CANCELLATION_CODE=None, DIVERTED=0.0, CRS_ELAPSED_TIME=62.0, ACTUAL_ELAPSED_TIME=68.0, AIR_TIME=42.0, DISTANCE=199.0, CARRIER_DELAY=None, WEATHER_DELAY=None, NAS_DELAY=None, SECURITY_DELAY=None, LATE_AIRCRAFT_DELAY=None),\n",
       " Row(FL_DATE=datetime.datetime(2009, 1, 1, 0, 0), OP_CARRIER='XE', OP_CARRIER_FL_NUM=1206, ORIGIN='EWR', DEST='IAD', CRS_DEP_TIME=1510, DEP_TIME=1509.0, DEP_DELAY=-1.0, TAXI_OUT=28.0, WHEELS_OFF=1537.0, WHEELS_ON=1620.0, TAXI_IN=4.0, CRS_ARR_TIME=1632, ARR_TIME=1624.0, ARR_DELAY=-8.0, CANCELLED=0.0, CANCELLATION_CODE=None, DIVERTED=0.0, CRS_ELAPSED_TIME=82.0, ACTUAL_ELAPSED_TIME=75.0, AIR_TIME=43.0, DISTANCE=213.0, CARRIER_DELAY=None, WEATHER_DELAY=None, NAS_DELAY=None, SECURITY_DELAY=None, LATE_AIRCRAFT_DELAY=None)]"
      ]
     },
     "execution_count": 7,
     "metadata": {},
     "output_type": "execute_result"
    }
   ],
   "source": [
    "config = spark.sparkContext._jsc.hadoopConfiguration()\n",
    "config.set(\"fs.azure.account.key.\" + STORAGE_ACCOUNT + \".blob.core.windows.net\", TOKEN)\n",
    "sc = spark.sparkContext\n",
    "\n",
    "df_exemple = spark.read.csv(\"wasbs://{}@{}.blob.core.windows.net/{}/2009.csv\"\\\n",
    "                    .format(CONTAINER, STORAGE_ACCOUNT, FOLDER), header=True, schema=schema)\n",
    "df_exemple.take(2)"
   ]
  },
  {
   "cell_type": "markdown",
   "id": "8928cef2-a684-4438-a0a1-2e6a28268118",
   "metadata": {},
   "source": [
    "Como temos dados para os anos de 2009 até o ano de 2018. Iremos criar um dicionario contendo os dataframes de cada ano separadamente. "
   ]
  },
  {
   "cell_type": "code",
   "execution_count": 8,
   "id": "db663578-2344-45e7-b16f-f6cc528516ff",
   "metadata": {},
   "outputs": [
    {
     "data": {
      "text/plain": [
       "[Row(FL_DATE=datetime.datetime(2012, 1, 1, 0, 0), OP_CARRIER='MQ', OP_CARRIER_FL_NUM=4041, ORIGIN='BMI', DEST='ORD', CRS_DEP_TIME=None, DEP_TIME=1702.0, DEP_DELAY=-13.0, TAXI_OUT=9.0, WHEELS_OFF=1711.0, WHEELS_ON=1748.0, TAXI_IN=9.0, CRS_ARR_TIME=None, ARR_TIME=1757.0, ARR_DELAY=-13.0, CANCELLED=0.0, CANCELLATION_CODE=None, DIVERTED=0.0, CRS_ELAPSED_TIME=55.0, ACTUAL_ELAPSED_TIME=55.0, AIR_TIME=37.0, DISTANCE=116.0, CARRIER_DELAY=None, WEATHER_DELAY=None, NAS_DELAY=None, SECURITY_DELAY=None, LATE_AIRCRAFT_DELAY=None),\n",
       " Row(FL_DATE=datetime.datetime(2012, 1, 1, 0, 0), OP_CARRIER='MQ', OP_CARRIER_FL_NUM=4041, ORIGIN='ORD', DEST='BMI', CRS_DEP_TIME=None, DEP_TIME=1540.0, DEP_DELAY=-5.0, TAXI_OUT=11.0, WHEELS_OFF=1551.0, WHEELS_ON=1614.0, TAXI_IN=5.0, CRS_ARR_TIME=None, ARR_TIME=1619.0, ARR_DELAY=-16.0, CANCELLED=0.0, CANCELLATION_CODE=None, DIVERTED=0.0, CRS_ELAPSED_TIME=50.0, ACTUAL_ELAPSED_TIME=39.0, AIR_TIME=23.0, DISTANCE=116.0, CARRIER_DELAY=None, WEATHER_DELAY=None, NAS_DELAY=None, SECURITY_DELAY=None, LATE_AIRCRAFT_DELAY=None),\n",
       " Row(FL_DATE=datetime.datetime(2012, 1, 1, 0, 0), OP_CARRIER='MQ', OP_CARRIER_FL_NUM=4042, ORIGIN='SGF', DEST='ORD', CRS_DEP_TIME=None, DEP_TIME=705.0, DEP_DELAY=-10.0, TAXI_OUT=12.0, WHEELS_OFF=717.0, WHEELS_ON=832.0, TAXI_IN=18.0, CRS_ARR_TIME=None, ARR_TIME=850.0, ARR_DELAY=-20.0, CANCELLED=0.0, CANCELLATION_CODE=None, DIVERTED=0.0, CRS_ELAPSED_TIME=115.0, ACTUAL_ELAPSED_TIME=105.0, AIR_TIME=75.0, DISTANCE=438.0, CARRIER_DELAY=None, WEATHER_DELAY=None, NAS_DELAY=None, SECURITY_DELAY=None, LATE_AIRCRAFT_DELAY=None),\n",
       " Row(FL_DATE=datetime.datetime(2012, 1, 1, 0, 0), OP_CARRIER='MQ', OP_CARRIER_FL_NUM=4045, ORIGIN='ORD', DEST='DBQ', CRS_DEP_TIME=None, DEP_TIME=1529.0, DEP_DELAY=-6.0, TAXI_OUT=13.0, WHEELS_OFF=1542.0, WHEELS_ON=1613.0, TAXI_IN=2.0, CRS_ARR_TIME=None, ARR_TIME=1615.0, ARR_DELAY=-15.0, CANCELLED=0.0, CANCELLATION_CODE=None, DIVERTED=0.0, CRS_ELAPSED_TIME=55.0, ACTUAL_ELAPSED_TIME=46.0, AIR_TIME=31.0, DISTANCE=147.0, CARRIER_DELAY=None, WEATHER_DELAY=None, NAS_DELAY=None, SECURITY_DELAY=None, LATE_AIRCRAFT_DELAY=None),\n",
       " Row(FL_DATE=datetime.datetime(2012, 1, 1, 0, 0), OP_CARRIER='MQ', OP_CARRIER_FL_NUM=4047, ORIGIN='ORD', DEST='RIC', CRS_DEP_TIME=None, DEP_TIME=1615.0, DEP_DELAY=15.0, TAXI_OUT=12.0, WHEELS_OFF=1627.0, WHEELS_ON=1853.0, TAXI_IN=11.0, CRS_ARR_TIME=None, ARR_TIME=1904.0, ARR_DELAY=9.0, CANCELLED=0.0, CANCELLATION_CODE=None, DIVERTED=0.0, CRS_ELAPSED_TIME=115.0, ACTUAL_ELAPSED_TIME=109.0, AIR_TIME=86.0, DISTANCE=642.0, CARRIER_DELAY=None, WEATHER_DELAY=None, NAS_DELAY=None, SECURITY_DELAY=None, LATE_AIRCRAFT_DELAY=None)]"
      ]
     },
     "execution_count": 8,
     "metadata": {},
     "output_type": "execute_result"
    }
   ],
   "source": [
    "# Criando dicionario de dataframes\n",
    "df_for_year = {}\n",
    "\n",
    "# Loop lendo arquivo de cada ano e salvando no dicionario\n",
    "for year in range(2009, 2019):\n",
    "    # Ajustando o caminho\n",
    "    file_path = \"wasbs://{}@{}.blob.core.windows.net/{}/{}.csv\"\\\n",
    "                    .format(CONTAINER, STORAGE_ACCOUNT, FOLDER, year)\n",
    "    \n",
    "    # lendo arquivo csv \n",
    "    df_name = \"df_{}\".format(year)\n",
    "    df = spark.read.csv(file_path, header=True, schema=schema)\n",
    "    \n",
    "    # Adicionando df ao dicionario de dataframes \n",
    "    df_for_year[df_name] = df\n",
    "    \n",
    "\n",
    "# Visualizando as primeiras linhas de 2012\n",
    "df_for_year[\"df_2012\"].take(5)"
   ]
  },
  {
   "cell_type": "markdown",
   "id": "dca9d793-c5d2-40f8-a333-6efbaa41d1bc",
   "metadata": {},
   "source": [
    "Com todos os dataframes pré-importados(lazy) podemos realizar um merge unindo todos os anos."
   ]
  },
  {
   "cell_type": "code",
   "execution_count": 9,
   "id": "31132514-807e-4e85-9f0f-bf3cb30ec720",
   "metadata": {},
   "outputs": [],
   "source": [
    "# Importando função reduce para realizar o merge\n",
    "from functools import reduce "
   ]
  },
  {
   "cell_type": "code",
   "execution_count": 10,
   "id": "6d1d973a-fdd4-4d4d-be60-8ce34974b628",
   "metadata": {},
   "outputs": [
    {
     "data": {
      "text/plain": [
       "[Row(FL_DATE=datetime.datetime(2009, 1, 1, 0, 0), OP_CARRIER='XE', OP_CARRIER_FL_NUM=1204, ORIGIN='DCA', DEST='EWR', CRS_DEP_TIME=1100, DEP_TIME=1058.0, DEP_DELAY=-2.0, TAXI_OUT=18.0, WHEELS_OFF=1116.0, WHEELS_ON=1158.0, TAXI_IN=8.0, CRS_ARR_TIME=1202, ARR_TIME=1206.0, ARR_DELAY=4.0, CANCELLED=0.0, CANCELLATION_CODE=None, DIVERTED=0.0, CRS_ELAPSED_TIME=62.0, ACTUAL_ELAPSED_TIME=68.0, AIR_TIME=42.0, DISTANCE=199.0, CARRIER_DELAY=None, WEATHER_DELAY=None, NAS_DELAY=None, SECURITY_DELAY=None, LATE_AIRCRAFT_DELAY=None, year=2009),\n",
       " Row(FL_DATE=datetime.datetime(2009, 1, 1, 0, 0), OP_CARRIER='XE', OP_CARRIER_FL_NUM=1206, ORIGIN='EWR', DEST='IAD', CRS_DEP_TIME=1510, DEP_TIME=1509.0, DEP_DELAY=-1.0, TAXI_OUT=28.0, WHEELS_OFF=1537.0, WHEELS_ON=1620.0, TAXI_IN=4.0, CRS_ARR_TIME=1632, ARR_TIME=1624.0, ARR_DELAY=-8.0, CANCELLED=0.0, CANCELLATION_CODE=None, DIVERTED=0.0, CRS_ELAPSED_TIME=82.0, ACTUAL_ELAPSED_TIME=75.0, AIR_TIME=43.0, DISTANCE=213.0, CARRIER_DELAY=None, WEATHER_DELAY=None, NAS_DELAY=None, SECURITY_DELAY=None, LATE_AIRCRAFT_DELAY=None, year=2009),\n",
       " Row(FL_DATE=datetime.datetime(2009, 1, 1, 0, 0), OP_CARRIER='XE', OP_CARRIER_FL_NUM=1207, ORIGIN='EWR', DEST='DCA', CRS_DEP_TIME=1100, DEP_TIME=1059.0, DEP_DELAY=-1.0, TAXI_OUT=20.0, WHEELS_OFF=1119.0, WHEELS_ON=1155.0, TAXI_IN=6.0, CRS_ARR_TIME=1210, ARR_TIME=1201.0, ARR_DELAY=-9.0, CANCELLED=0.0, CANCELLATION_CODE=None, DIVERTED=0.0, CRS_ELAPSED_TIME=70.0, ACTUAL_ELAPSED_TIME=62.0, AIR_TIME=36.0, DISTANCE=199.0, CARRIER_DELAY=None, WEATHER_DELAY=None, NAS_DELAY=None, SECURITY_DELAY=None, LATE_AIRCRAFT_DELAY=None, year=2009),\n",
       " Row(FL_DATE=datetime.datetime(2009, 1, 1, 0, 0), OP_CARRIER='XE', OP_CARRIER_FL_NUM=1208, ORIGIN='DCA', DEST='EWR', CRS_DEP_TIME=1240, DEP_TIME=1249.0, DEP_DELAY=9.0, TAXI_OUT=10.0, WHEELS_OFF=1259.0, WHEELS_ON=1336.0, TAXI_IN=9.0, CRS_ARR_TIME=1357, ARR_TIME=1345.0, ARR_DELAY=-12.0, CANCELLED=0.0, CANCELLATION_CODE=None, DIVERTED=0.0, CRS_ELAPSED_TIME=77.0, ACTUAL_ELAPSED_TIME=56.0, AIR_TIME=37.0, DISTANCE=199.0, CARRIER_DELAY=None, WEATHER_DELAY=None, NAS_DELAY=None, SECURITY_DELAY=None, LATE_AIRCRAFT_DELAY=None, year=2009),\n",
       " Row(FL_DATE=datetime.datetime(2009, 1, 1, 0, 0), OP_CARRIER='XE', OP_CARRIER_FL_NUM=1209, ORIGIN='IAD', DEST='EWR', CRS_DEP_TIME=1715, DEP_TIME=1705.0, DEP_DELAY=-10.0, TAXI_OUT=24.0, WHEELS_OFF=1729.0, WHEELS_ON=1809.0, TAXI_IN=13.0, CRS_ARR_TIME=1900, ARR_TIME=1822.0, ARR_DELAY=-38.0, CANCELLED=0.0, CANCELLATION_CODE=None, DIVERTED=0.0, CRS_ELAPSED_TIME=105.0, ACTUAL_ELAPSED_TIME=77.0, AIR_TIME=40.0, DISTANCE=213.0, CARRIER_DELAY=None, WEATHER_DELAY=None, NAS_DELAY=None, SECURITY_DELAY=None, LATE_AIRCRAFT_DELAY=None, year=2009),\n",
       " Row(FL_DATE=datetime.datetime(2009, 1, 1, 0, 0), OP_CARRIER='XE', OP_CARRIER_FL_NUM=1212, ORIGIN='ATL', DEST='EWR', CRS_DEP_TIME=1915, DEP_TIME=1913.0, DEP_DELAY=-2.0, TAXI_OUT=19.0, WHEELS_OFF=1932.0, WHEELS_ON=2108.0, TAXI_IN=15.0, CRS_ARR_TIME=2142, ARR_TIME=2123.0, ARR_DELAY=-19.0, CANCELLED=0.0, CANCELLATION_CODE=None, DIVERTED=0.0, CRS_ELAPSED_TIME=147.0, ACTUAL_ELAPSED_TIME=130.0, AIR_TIME=96.0, DISTANCE=745.0, CARRIER_DELAY=None, WEATHER_DELAY=None, NAS_DELAY=None, SECURITY_DELAY=None, LATE_AIRCRAFT_DELAY=None, year=2009),\n",
       " Row(FL_DATE=datetime.datetime(2009, 1, 1, 0, 0), OP_CARRIER='XE', OP_CARRIER_FL_NUM=1212, ORIGIN='CLE', DEST='ATL', CRS_DEP_TIME=1645, DEP_TIME=1637.0, DEP_DELAY=-8.0, TAXI_OUT=12.0, WHEELS_OFF=1649.0, WHEELS_ON=1820.0, TAXI_IN=5.0, CRS_ARR_TIME=1842, ARR_TIME=1825.0, ARR_DELAY=-17.0, CANCELLED=0.0, CANCELLATION_CODE=None, DIVERTED=0.0, CRS_ELAPSED_TIME=117.0, ACTUAL_ELAPSED_TIME=108.0, AIR_TIME=91.0, DISTANCE=554.0, CARRIER_DELAY=None, WEATHER_DELAY=None, NAS_DELAY=None, SECURITY_DELAY=None, LATE_AIRCRAFT_DELAY=None, year=2009),\n",
       " Row(FL_DATE=datetime.datetime(2009, 1, 1, 0, 0), OP_CARRIER='XE', OP_CARRIER_FL_NUM=1214, ORIGIN='DCA', DEST='EWR', CRS_DEP_TIME=1915, DEP_TIME=1908.0, DEP_DELAY=-7.0, TAXI_OUT=9.0, WHEELS_OFF=1917.0, WHEELS_ON=1953.0, TAXI_IN=34.0, CRS_ARR_TIME=2035, ARR_TIME=2027.0, ARR_DELAY=-8.0, CANCELLED=0.0, CANCELLATION_CODE=None, DIVERTED=0.0, CRS_ELAPSED_TIME=80.0, ACTUAL_ELAPSED_TIME=79.0, AIR_TIME=36.0, DISTANCE=199.0, CARRIER_DELAY=None, WEATHER_DELAY=None, NAS_DELAY=None, SECURITY_DELAY=None, LATE_AIRCRAFT_DELAY=None, year=2009),\n",
       " Row(FL_DATE=datetime.datetime(2009, 1, 1, 0, 0), OP_CARRIER='XE', OP_CARRIER_FL_NUM=1215, ORIGIN='EWR', DEST='DCA', CRS_DEP_TIME=1715, DEP_TIME=1710.0, DEP_DELAY=-5.0, TAXI_OUT=28.0, WHEELS_OFF=1738.0, WHEELS_ON=1819.0, TAXI_IN=4.0, CRS_ARR_TIME=1838, ARR_TIME=1823.0, ARR_DELAY=-15.0, CANCELLED=0.0, CANCELLATION_CODE=None, DIVERTED=0.0, CRS_ELAPSED_TIME=83.0, ACTUAL_ELAPSED_TIME=73.0, AIR_TIME=41.0, DISTANCE=199.0, CARRIER_DELAY=None, WEATHER_DELAY=None, NAS_DELAY=None, SECURITY_DELAY=None, LATE_AIRCRAFT_DELAY=None, year=2009),\n",
       " Row(FL_DATE=datetime.datetime(2009, 1, 1, 0, 0), OP_CARRIER='XE', OP_CARRIER_FL_NUM=1217, ORIGIN='EWR', DEST='DCA', CRS_DEP_TIME=1300, DEP_TIME=1255.0, DEP_DELAY=-5.0, TAXI_OUT=15.0, WHEELS_OFF=1310.0, WHEELS_ON=1349.0, TAXI_IN=7.0, CRS_ARR_TIME=1408, ARR_TIME=1356.0, ARR_DELAY=-12.0, CANCELLED=0.0, CANCELLATION_CODE=None, DIVERTED=0.0, CRS_ELAPSED_TIME=68.0, ACTUAL_ELAPSED_TIME=61.0, AIR_TIME=39.0, DISTANCE=199.0, CARRIER_DELAY=None, WEATHER_DELAY=None, NAS_DELAY=None, SECURITY_DELAY=None, LATE_AIRCRAFT_DELAY=None, year=2009)]"
      ]
     },
     "execution_count": 10,
     "metadata": {},
     "output_type": "execute_result"
    }
   ],
   "source": [
    "# União de todos os DataFrames em um único Data frame\n",
    "df_final = reduce(sf.DataFrame.union, df_for_year.values())\n",
    "\n",
    "# Criando a coluna \"year\" baseada na coluna \"date\"\n",
    "df_final = df_final.withColumn(\"year\", sf.year(\"FL_DATE\"))\n",
    "\n",
    "# Exibindo as primeiras linhas\n",
    "df_final.take(10)"
   ]
  },
  {
   "cell_type": "markdown",
   "id": "bc098521-84bb-4c1e-a93b-1ca635776b06",
   "metadata": {},
   "source": [
    "Assim, temos o dataframe com todos os anos."
   ]
  },
  {
   "cell_type": "code",
   "execution_count": 11,
   "id": "3719918f-1480-47fa-a516-f60b7ff55b8f",
   "metadata": {},
   "outputs": [],
   "source": [
    "OBSERVACOES = df_final.count()\n",
    "assert (OBSERVACOES == 61556964)"
   ]
  },
  {
   "cell_type": "code",
   "execution_count": 12,
   "id": "e4990d5a-7dcd-4586-ab03-a71bb63bd77a",
   "metadata": {},
   "outputs": [
    {
     "data": {
      "text/plain": [
       "61556964"
      ]
     },
     "execution_count": 12,
     "metadata": {},
     "output_type": "execute_result"
    }
   ],
   "source": [
    "OBSERVACOES"
   ]
  },
  {
   "cell_type": "markdown",
   "id": "c2a63038-6084-4b33-be5d-e91df607d041",
   "metadata": {},
   "source": [
    "A base contem 61556964 observações."
   ]
  },
  {
   "cell_type": "code",
   "execution_count": 13,
   "id": "d9b5dc9f-3802-4a9a-bbfc-2a60220d732f",
   "metadata": {},
   "outputs": [],
   "source": [
    "CANCELAMENTOS = df_final.filter(df_final.CANCELLED == 1).count()\n",
    "assert (CANCELAMENTOS == 973209)"
   ]
  },
  {
   "cell_type": "code",
   "execution_count": 14,
   "id": "3c8278bc-cfbb-4cc9-8c0f-bfd61a3b2a03",
   "metadata": {},
   "outputs": [
    {
     "data": {
      "text/plain": [
       "973209"
      ]
     },
     "execution_count": 14,
     "metadata": {},
     "output_type": "execute_result"
    }
   ],
   "source": [
    "CANCELAMENTOS"
   ]
  },
  {
   "cell_type": "markdown",
   "id": "63098638-ce24-4cf9-88e3-5656cd3b0712",
   "metadata": {},
   "source": [
    "Dos voos na base, 973209 foram cancelados."
   ]
  },
  {
   "cell_type": "markdown",
   "id": "d3310590-09b3-4fed-be80-3d90b2a311d4",
   "metadata": {
    "tags": []
   },
   "source": [
    "## Tratamento de dados faltantes"
   ]
  },
  {
   "cell_type": "markdown",
   "id": "de608229-774c-4f14-be45-7b48fdc1f298",
   "metadata": {},
   "source": [
    "Das 27 colunas na base de dados, 16 tem valores faltantes. Os dados ausentes na coluna CANCELATION_CODE sao 100% consistentes com a informacao de cancelamento, isto eh, apenas os voos que nao foram cancelados tem a coluna CANCELATION_CODE vazia. As outras 15 colunas podem ser agrupadas em 3 grupos: _Voo_, _Chegada_ e _Atrasos_."
   ]
  },
  {
   "cell_type": "markdown",
   "id": "bf07a3be-4412-4013-9ee6-0f8abd3995e3",
   "metadata": {
    "tags": []
   },
   "source": [
    "### Resumo"
   ]
  },
  {
   "cell_type": "code",
   "execution_count": 50,
   "id": "e1d7d23b-f9ae-4234-adb2-ad02682b9c86",
   "metadata": {
    "tags": []
   },
   "outputs": [],
   "source": [
    "missing_counts = df_final.select([sf.col(column).isNull().cast(\"int\").alias(column) for column in df_final.columns]) \\\n",
    "                       .groupBy() \\\n",
    "                       .sum()"
   ]
  },
  {
   "cell_type": "code",
   "execution_count": 51,
   "id": "ea7a7f14-7c6f-4abe-97bd-39286d92b574",
   "metadata": {},
   "outputs": [],
   "source": [
    "# Criando dataframe de colunas com valores zerados\n",
    "missing_counts_df = missing_counts.toPandas().transpose()\n",
    "\n",
    "# Filtrando apenas colunas com valores nulos\n",
    "missing_counts_df = missing_counts_df[missing_counts_df[0]>0]\n",
    "\n",
    "# Renomeando a coluna\n",
    "missing_counts_df = missing_counts_df.rename(columns={0:\"nulos\"})"
   ]
  },
  {
   "cell_type": "code",
   "execution_count": 52,
   "id": "0b325c38-832c-4dc9-8fe5-d8de9a3d1c9c",
   "metadata": {},
   "outputs": [
    {
     "name": "stdout",
     "output_type": "stream",
     "text": [
      "Número de colunas com valores faltantes:\n"
     ]
    },
    {
     "data": {
      "text/plain": [
       "19"
      ]
     },
     "execution_count": 52,
     "metadata": {},
     "output_type": "execute_result"
    }
   ],
   "source": [
    "# Contando número de colunas com valores nulos\n",
    "print(\"Número de colunas com valores faltantes:\")\n",
    "missing_counts_df.count()[0]"
   ]
  },
  {
   "cell_type": "code",
   "execution_count": 53,
   "id": "baf58e19-0c22-44ab-b37b-95e57606e972",
   "metadata": {},
   "outputs": [
    {
     "data": {
      "text/html": [
       "<div>\n",
       "<style scoped>\n",
       "    .dataframe tbody tr th:only-of-type {\n",
       "        vertical-align: middle;\n",
       "    }\n",
       "\n",
       "    .dataframe tbody tr th {\n",
       "        vertical-align: top;\n",
       "    }\n",
       "\n",
       "    .dataframe thead th {\n",
       "        text-align: right;\n",
       "    }\n",
       "</style>\n",
       "<table border=\"1\" class=\"dataframe\">\n",
       "  <thead>\n",
       "    <tr style=\"text-align: right;\">\n",
       "      <th></th>\n",
       "      <th>nulos</th>\n",
       "      <th>%nulos</th>\n",
       "    </tr>\n",
       "  </thead>\n",
       "  <tbody>\n",
       "    <tr>\n",
       "      <th>sum(CANCELLATION_CODE)</th>\n",
       "      <td>60583755</td>\n",
       "      <td>98.419011</td>\n",
       "    </tr>\n",
       "    <tr>\n",
       "      <th>sum(LATE_AIRCRAFT_DELAY)</th>\n",
       "      <td>50166224</td>\n",
       "      <td>81.495611</td>\n",
       "    </tr>\n",
       "    <tr>\n",
       "      <th>sum(SECURITY_DELAY)</th>\n",
       "      <td>50166224</td>\n",
       "      <td>81.495611</td>\n",
       "    </tr>\n",
       "    <tr>\n",
       "      <th>sum(NAS_DELAY)</th>\n",
       "      <td>50166224</td>\n",
       "      <td>81.495611</td>\n",
       "    </tr>\n",
       "    <tr>\n",
       "      <th>sum(WEATHER_DELAY)</th>\n",
       "      <td>50166224</td>\n",
       "      <td>81.495611</td>\n",
       "    </tr>\n",
       "    <tr>\n",
       "      <th>sum(CARRIER_DELAY)</th>\n",
       "      <td>50166224</td>\n",
       "      <td>81.495611</td>\n",
       "    </tr>\n",
       "    <tr>\n",
       "      <th>sum(CRS_ARR_TIME)</th>\n",
       "      <td>6096762</td>\n",
       "      <td>9.904260</td>\n",
       "    </tr>\n",
       "    <tr>\n",
       "      <th>sum(CRS_DEP_TIME)</th>\n",
       "      <td>6096762</td>\n",
       "      <td>9.904260</td>\n",
       "    </tr>\n",
       "    <tr>\n",
       "      <th>sum(ARR_DELAY)</th>\n",
       "      <td>1121351</td>\n",
       "      <td>1.821648</td>\n",
       "    </tr>\n",
       "    <tr>\n",
       "      <th>sum(ACTUAL_ELAPSED_TIME)</th>\n",
       "      <td>1118754</td>\n",
       "      <td>1.817429</td>\n",
       "    </tr>\n",
       "    <tr>\n",
       "      <th>sum(AIR_TIME)</th>\n",
       "      <td>1118753</td>\n",
       "      <td>1.817427</td>\n",
       "    </tr>\n",
       "    <tr>\n",
       "      <th>sum(WHEELS_ON)</th>\n",
       "      <td>997016</td>\n",
       "      <td>1.619664</td>\n",
       "    </tr>\n",
       "    <tr>\n",
       "      <th>sum(ARR_TIME)</th>\n",
       "      <td>997015</td>\n",
       "      <td>1.619662</td>\n",
       "    </tr>\n",
       "    <tr>\n",
       "      <th>sum(TAXI_IN)</th>\n",
       "      <td>997015</td>\n",
       "      <td>1.619662</td>\n",
       "    </tr>\n",
       "    <tr>\n",
       "      <th>sum(TAXI_OUT)</th>\n",
       "      <td>963901</td>\n",
       "      <td>1.565868</td>\n",
       "    </tr>\n",
       "    <tr>\n",
       "      <th>sum(WHEELS_OFF)</th>\n",
       "      <td>963896</td>\n",
       "      <td>1.565860</td>\n",
       "    </tr>\n",
       "    <tr>\n",
       "      <th>sum(DEP_DELAY)</th>\n",
       "      <td>940675</td>\n",
       "      <td>1.528137</td>\n",
       "    </tr>\n",
       "    <tr>\n",
       "      <th>sum(DEP_TIME)</th>\n",
       "      <td>935723</td>\n",
       "      <td>1.520093</td>\n",
       "    </tr>\n",
       "    <tr>\n",
       "      <th>sum(CRS_ELAPSED_TIME)</th>\n",
       "      <td>60</td>\n",
       "      <td>0.000097</td>\n",
       "    </tr>\n",
       "  </tbody>\n",
       "</table>\n",
       "</div>"
      ],
      "text/plain": [
       "                             nulos     %nulos\n",
       "sum(CANCELLATION_CODE)    60583755  98.419011\n",
       "sum(LATE_AIRCRAFT_DELAY)  50166224  81.495611\n",
       "sum(SECURITY_DELAY)       50166224  81.495611\n",
       "sum(NAS_DELAY)            50166224  81.495611\n",
       "sum(WEATHER_DELAY)        50166224  81.495611\n",
       "sum(CARRIER_DELAY)        50166224  81.495611\n",
       "sum(CRS_ARR_TIME)          6096762   9.904260\n",
       "sum(CRS_DEP_TIME)          6096762   9.904260\n",
       "sum(ARR_DELAY)             1121351   1.821648\n",
       "sum(ACTUAL_ELAPSED_TIME)   1118754   1.817429\n",
       "sum(AIR_TIME)              1118753   1.817427\n",
       "sum(WHEELS_ON)              997016   1.619664\n",
       "sum(ARR_TIME)               997015   1.619662\n",
       "sum(TAXI_IN)                997015   1.619662\n",
       "sum(TAXI_OUT)               963901   1.565868\n",
       "sum(WHEELS_OFF)             963896   1.565860\n",
       "sum(DEP_DELAY)              940675   1.528137\n",
       "sum(DEP_TIME)               935723   1.520093\n",
       "sum(CRS_ELAPSED_TIME)           60   0.000097"
      ]
     },
     "execution_count": 53,
     "metadata": {},
     "output_type": "execute_result"
    }
   ],
   "source": [
    "# Cálculando porcentagem de valores faltantes\n",
    "missing_counts_df[\"%nulos\"] = (missing_counts_df[\"nulos\"]/OBSERVACOES) * 100\n",
    "\n",
    "# Ordenando por % de nulos\n",
    "missing_counts_df = missing_counts_df.sort_values(\"%nulos\", ascending=False)\n",
    "\n",
    "# Visualizando resultados\n",
    "missing_counts_df"
   ]
  },
  {
   "cell_type": "code",
   "execution_count": null,
   "id": "22cf26e4-05c2-453a-aba2-86e1ad85c89e",
   "metadata": {},
   "outputs": [],
   "source": [
    "# Visualizando missing em gráfico de barras\n",
    "# Ajustando o tamanho da figura\n",
    "plt.figure(figsize=(10, 4))\n",
    "\n",
    "# Plotando o gráfico de barras\n",
    "sns.barplot(x=missing_counts_df.index, y=missing_counts_df[\"%nulos\"], color=\"red\")\n",
    "\n",
    "# Adicionando inclinação aos valores do eixo x\n",
    "plt.xticks(rotation=45, ha='right')\n",
    "\n",
    "# Adicionando título e rótulos aos eixos\n",
    "plt.title('Gráfico de Barras')\n",
    "plt.xlabel(\"Colunas\")\n",
    "plt.ylabel(\"%Nulos\")\n",
    "\n",
    "# Exibindo o gráfico\n",
    "plt.show()"
   ]
  },
  {
   "cell_type": "markdown",
   "id": "af671042-0f07-41b5-b5d1-a369839954a5",
   "metadata": {},
   "source": [
    "Conforme evidenciado no gráfico apresentado, nota-se que a coluna \"CANCELLATION_CODE\" exibe uma lacuna em praticamente 100% dos dados, enquanto as colunas \"LATE_AIRCRAFT_DELAY\", \"NAS_DELAY\", \"WEATHER_DELAY\", \"CARRIER_DELAY\" e \"SECURITY_DELAY\" apresentam uma ausência de informações em torno de 80%."
   ]
  },
  {
   "cell_type": "markdown",
   "id": "fc26e98d-433c-47c9-aec0-c7e4b57890af",
   "metadata": {
    "tags": []
   },
   "source": [
    "### Cancelamentos"
   ]
  },
  {
   "cell_type": "code",
   "execution_count": null,
   "id": "bf163363-ebbf-4e68-a7b9-d50a267947ef",
   "metadata": {},
   "outputs": [],
   "source": [
    "assert (df_final.filter((df_final.CANCELLATION_CODE.isNull()) &\n",
    "                  (df_final.CANCELLED == 0)).count() ==\n",
    "        df_final.filter(df_final.CANCELLED == 0).count())"
   ]
  },
  {
   "cell_type": "markdown",
   "id": "8a2c1b4a-9691-4607-a1ce-ce68c690819f",
   "metadata": {},
   "source": [
    "Todos os valores faltantes de CANCELLATION_CODE são referentes a voos que não foram cancelados."
   ]
  },
  {
   "cell_type": "markdown",
   "id": "fc33922d-d997-47dd-a4df-fb7e779afa17",
   "metadata": {
    "tags": []
   },
   "source": [
    "### Voo"
   ]
  },
  {
   "cell_type": "markdown",
   "id": "b1e02169-1998-49cd-8767-cf2530808c3f",
   "metadata": {
    "tags": []
   },
   "source": [
    "#### Testes"
   ]
  },
  {
   "cell_type": "markdown",
   "id": "2a91991c-3539-41b4-acb7-6f61c171bff4",
   "metadata": {},
   "source": [
    "`DEP_TIME` e `DEP_DELAY`: co-ausentes, todos cancelados"
   ]
  },
  {
   "cell_type": "code",
   "execution_count": null,
   "id": "f54caca1-c6fb-4108-bf45-62f0a8883da5",
   "metadata": {},
   "outputs": [],
   "source": [
    "assert (df_final.filter((df_final.DEP_TIME.isNull())   &\n",
    "                  (df_final.DEP_DELAY.isNull())  &\n",
    "                  (df_final.TAXI_OUT.isNull())   &\n",
    "                  (df_final.WHEELS_OFF.isNull()) &\n",
    "                  (df_final.WHEELS_ON.isNull())  &\n",
    "                  (df_final.TAXI_IN.isNull())    &\n",
    "                  (df_final.ARR_TIME.isNull())).count() ==\n",
    "        df_final.filter(df_final.DEP_TIME.isNull()).count())\n",
    "\n",
    "assert (df_final.filter((df_final.DEP_TIME.isNull())   &\n",
    "                  (df_final.DEP_DELAY.isNull())).count() ==\n",
    "        df_final.filter(df_final.DEP_TIME.isNull()).count())"
   ]
  },
  {
   "cell_type": "code",
   "execution_count": null,
   "id": "822e2907-17b5-4647-95ad-521095ccecbc",
   "metadata": {},
   "outputs": [],
   "source": [
    "assert (df_final.filter((df_final.DEP_TIME.isNull())   &\n",
    "                  (df_final.CANCELLED == 1)).count() ==\n",
    "        df_final.filter(df_final.DEP_TIME.isNull()).count())"
   ]
  },
  {
   "cell_type": "markdown",
   "id": "49bfbca8-4e1f-4e08-8dc8-75b1cbc9ed8a",
   "metadata": {},
   "source": [
    "`TAXI_OUT` e `WHEELS_OFF`: co-ausentes e cancelados"
   ]
  },
  {
   "cell_type": "code",
   "execution_count": null,
   "id": "09a4ec27-f674-4d71-879a-b8e23fa8ac1b",
   "metadata": {},
   "outputs": [],
   "source": [
    "assert (df_final.filter((df_final.TAXI_OUT.isNull())   &\n",
    "                  (df_final.WHEELS_OFF.isNull()) &\n",
    "                  (df_final.WHEELS_ON.isNull())  &\n",
    "                  (df_final.TAXI_IN.isNull())    &\n",
    "                  (df_final.ARR_TIME.isNull())).count() ==\n",
    "        df_final.filter(df_final.TAXI_OUT.isNull()).count())\n",
    "\n",
    "assert (df_final.filter((df_final.TAXI_OUT.isNull())   &\n",
    "                  (df_final.WHEELS_OFF.isNull())).count() ==\n",
    "        df_final.filter(df_final.TAXI_OUT.isNull()).count())"
   ]
  },
  {
   "cell_type": "code",
   "execution_count": null,
   "id": "5bd913d4-3138-4828-88a3-2096e267e967",
   "metadata": {},
   "outputs": [],
   "source": [
    "assert (df_final.filter((df_final.TAXI_OUT.isNull())   &\n",
    "                  (df_final.CANCELLED == 1)).count() ==\n",
    "       df_final.filter(df_final.TAXI_OUT.isNull()).count())"
   ]
  },
  {
   "cell_type": "markdown",
   "id": "84094b04-bd55-4edb-997a-2a2b8d713c8f",
   "metadata": {},
   "source": [
    "`WHEELS_ON`, `TAXI_IN` e `ARR_TIME`: co-ausentes"
   ]
  },
  {
   "cell_type": "code",
   "execution_count": null,
   "id": "c143a583-4792-47d5-a1f2-73d4385092d9",
   "metadata": {},
   "outputs": [],
   "source": [
    "assert (df_final.filter((df_final.WHEELS_ON.isNull())  &\n",
    "                  (df_final.TAXI_IN.isNull())    &\n",
    "                  (df_final.ARR_TIME.isNull())).count() ==\n",
    "        df_final.filter(df_final.TAXI_IN.isNull()).count())"
   ]
  },
  {
   "cell_type": "code",
   "execution_count": null,
   "id": "1d6f1ef6-a9d2-4be2-9470-ee291e9e95be",
   "metadata": {},
   "outputs": [],
   "source": [
    "assert (df_final.filter((df_final.TAXI_IN.isNull())   &\n",
    "                  (df_final.CANCELLED == 1)).count() ==\n",
    "        df_final.filter(df_final.CANCELLED == 1).count())"
   ]
  },
  {
   "cell_type": "code",
   "execution_count": null,
   "id": "f49170ce-083a-4637-ab46-bb75417062ec",
   "metadata": {},
   "outputs": [],
   "source": [
    "assert (df.filter((df.TAXI_IN.isNull()) &\n",
    "                  (df.CANCELLED == 0)   &\n",
    "                  (df.DIVERTED == 1)).count() ==\n",
    "        df.filter((df.TAXI_IN.isNull()) &\n",
    "                  (df.CANCELLED == 0)).count())"
   ]
  },
  {
   "cell_type": "markdown",
   "id": "3e3a7142-6bbe-48d3-a3e1-84113dce5562",
   "metadata": {
    "tags": []
   },
   "source": [
    "#### Análise"
   ]
  },
  {
   "cell_type": "markdown",
   "id": "b7cedab5-fcbd-4a7e-aa6d-4dd72e0c3b23",
   "metadata": {},
   "source": [
    "O grupo _Voo_ apresenta uma relação entre voos cancelados e as 7 variáveis:\n",
    " - DEP_TIME\n",
    " - DEP_DELAY\n",
    " - TAXI_OUT\n",
    " - WHEELS_OFF\n",
    " - WHEELS_ON\n",
    " - TAXI_IN\n",
    " - ARR_TIME\n",
    " \n",
    "Os valores faltantes para WHEELS_ON, TAXI_IN e ARR_TIME coincidem nas mesmas observações (com uma exceção descrita mais abaixo). Todos os voos cancelados se encontram dentre essas observações. Os valores faltantes para TAXI_OUT e WHEELS_OFF coincidem nas mesmas observações, todas referentes a voos cancelados. Finalmente, os valores faltantes de DEP_TIME e DEP_DELAY coincidem nas mesmas observações, todas com valores faltantes para TAXI_OUT.\n",
    "\n",
    "Todos os voos que não foram cancelados mas não tem informação da hora de aterrisagem (`(df.WHEELS_ON.isNull()) & (df.CANCELLED == 0)`) foram redirecionados para um aeroporto diferente do aeroporto destino original (`df.DIVERTED == 1`)\n",
    "\n",
    "Destas relações, supomos:\n",
    " - A diferença entre DEP_TIME e WHEELS_OFF pode ser devido a voos que chegam a sair do chão antes de serem cancelados, e voos que são cancelados após o embarque mas antes da decolagem.\n",
    " - Nenhum desses valores faltantes parece implausível o suficiente para assumirmos erro nos dados baseado apenas nessa análise. Alguns desses dados podem vir a ser retirados mesmo assim por questão de propriedades dos algorítmos utilizados mais a frente."
   ]
  },
  {
   "cell_type": "markdown",
   "id": "53ea660b-90ab-49cd-9b00-6d3c6ec62a2a",
   "metadata": {},
   "source": [
    "### Chegada"
   ]
  },
  {
   "cell_type": "markdown",
   "id": "6898560b-3e2c-428b-b518-fbd51121f92a",
   "metadata": {
    "tags": []
   },
   "source": [
    "### Atrasos\n",
    "TODO"
   ]
  },
  {
   "cell_type": "markdown",
   "id": "34976d73-0eba-47dc-b073-5e7617064c4b",
   "metadata": {},
   "source": [
    "#### Testes"
   ]
  },
  {
   "cell_type": "code",
   "execution_count": null,
   "id": "67590453-4503-47e9-8b4d-a6050e5ee726",
   "metadata": {},
   "outputs": [],
   "source": [
    "assert (df.filter((df.CANCELLED == 0) &\n",
    "                  (df.DEP_DELAY > 0)).count() == \n",
    "        2252608)"
   ]
  },
  {
   "cell_type": "code",
   "execution_count": null,
   "id": "848dc97e-4dcc-48c3-b393-b68056591ca5",
   "metadata": {},
   "outputs": [],
   "source": [
    "assert (df.filter((df.CANCELLED == 0) &\n",
    "                  (df.ARR_DELAY > 0)).count() ==\n",
    "        2402990)"
   ]
  },
  {
   "cell_type": "code",
   "execution_count": null,
   "id": "360b6632-a55e-4403-8b74-4b68cef59ab2",
   "metadata": {},
   "outputs": [],
   "source": [
    "assert (df.filter((df.CANCELLED == 0) &\n",
    "                  ((df.DEP_DELAY > 0) |\n",
    "                   (df.ARR_DELAY > 0))).count() ==\n",
    "        3052688)"
   ]
  },
  {
   "cell_type": "code",
   "execution_count": null,
   "id": "17d210a0-6792-4ca1-b80b-032fe3aeb81e",
   "metadata": {},
   "outputs": [],
   "source": [
    "assert (OBSERVACOES - df.filter(df.CARRIER_DELAY.isNull()).count() ==\n",
    "        1170501)"
   ]
  },
  {
   "cell_type": "code",
   "execution_count": null,
   "id": "f63473d2-eb2c-46bb-81ea-3a16533465e8",
   "metadata": {},
   "outputs": [],
   "source": [
    "assert (df.filter((df.CARRIER_DELAY.isNull()) &\n",
    "                  (df.WEATHER_DELAY.isNull()) &\n",
    "                  (df.NAS_DELAY.isNull()) &\n",
    "                  (df.SECURITY_DELAY.isNull()) &\n",
    "                  (df.LATE_AIRCRAFT_DELAY.isNull())).count() ==\n",
    "        df.filter(df.CARRIER_DELAY.isNull()).count())"
   ]
  },
  {
   "cell_type": "code",
   "execution_count": null,
   "id": "6bdac41c-6b88-4273-90ed-28ce5ce51ab0",
   "metadata": {},
   "outputs": [],
   "source": [
    "df.filter(df.CARRIER_DELAY == 0).select(df.OP_CARRIER_FL_NUM, df.CARRIER_DELAY).take(10)"
   ]
  },
  {
   "cell_type": "markdown",
   "id": "8a6d5baa-0389-4631-b701-4a6d89ef4e4f",
   "metadata": {},
   "source": [
    "#### Análise"
   ]
  },
  {
   "cell_type": "markdown",
   "id": "295fcc3b-629d-48c1-a863-6dc0208e31cf",
   "metadata": {},
   "source": [
    "Todos os dados faltantes referentes a categoria de atraso coincidem nas mesmas observações.\n",
    "\n",
    "Há menos observações com informação sobre a causa do atraso do que voos atrasados, independente se medindo o atraso de saída ou de chegada."
   ]
  },
  {
   "cell_type": "markdown",
   "id": "69b19f0e-bc57-4d53-9519-51dd48f1fc0e",
   "metadata": {},
   "source": [
    "### Anomalia"
   ]
  },
  {
   "cell_type": "code",
   "execution_count": null,
   "id": "40e21064-0258-41df-ba6c-06bd7d30b141",
   "metadata": {},
   "outputs": [],
   "source": [
    "assert (df.filter((df.ACTUAL_ELAPSED_TIME.isNull()) &\n",
    "                  (df.AIR_TIME == 0)                &\n",
    "                  (df.WHEELS_ON.isNull())           &\n",
    "                  (df.ARR_TIME.isNull())            &\n",
    "                  (df.ARR_DELAY == 0)               &\n",
    "                  (df.TAXI_IN == 0)                 &\n",
    "                  (df.CANCELLED == 0)).count() == 1)"
   ]
  },
  {
   "cell_type": "markdown",
   "id": "a1001ec0-a98d-4068-b913-da7feb48ba41",
   "metadata": {},
   "source": [
    "Uma mesma observação é responsavel pela discrepância na quantidade total de valores faltantes entre WHEELS_ON, TAXI_IN e ARR_TIME, e ARR_DELAY, ACTUAL_ELAPSED_TIME e AIR_TIME.\n",
    "Um valor de `AIR_TIME == 0` nao faz sentido para um voo que não foi cancelado, e o mesmo se aplica a `TAXI_IN == 0`. Ao retirar essa observação da base, a análise de dados faltantes por grupo torna-se mais consistente."
   ]
  },
  {
   "cell_type": "markdown",
   "id": "894c57fb-b1c9-488c-a46b-fec918c75ee7",
   "metadata": {},
   "source": [
    "## Consistencia"
   ]
  },
  {
   "cell_type": "code",
   "execution_count": null,
   "id": "717e20da-d461-4ca1-aed0-dad3c1c84979",
   "metadata": {},
   "outputs": [],
   "source": [
    "assert (df.filter(df.AIR_TIME + df.TAXI_IN + df.TAXI_OUT != df.ACTUAL_ELAPSED_TIME).count() == 0)"
   ]
  },
  {
   "cell_type": "code",
   "execution_count": null,
   "id": "de8cde7d-5743-4749-a9a0-37d25281d1a3",
   "metadata": {},
   "outputs": [],
   "source": [
    "assert (df.filter((df.CANCELLED == 1) &\n",
    "                  (df.DIVERTED == 1)).count() == 0)"
   ]
  },
  {
   "cell_type": "code",
   "execution_count": null,
   "id": "5076c380-82e4-41a8-ac72-7e31ff76fbde",
   "metadata": {},
   "outputs": [],
   "source": [
    "assert (df.filter((df.DEP_TIME % 1 != 0) | (df.DEP_DELAY % 1 != 0)).count() == 0)"
   ]
  },
  {
   "cell_type": "markdown",
   "id": "b9ff824a-814b-4859-abcb-b6702dda2a85",
   "metadata": {},
   "source": [
    "# Modelagem"
   ]
  },
  {
   "cell_type": "code",
   "execution_count": 12,
   "id": "0095957c-0ec3-4c9e-b560-1ffe09cef0f3",
   "metadata": {},
   "outputs": [],
   "source": [
    "# This list includes all values not known at the moment of takeoff\n",
    "# except `ARR_DELAY` which will be used as target variable\n",
    "take_off_leak = [\"WHEELS_ON\",\"TAXI_IN\",\"ARR_TIME\",\"ACTUAL_ELAPSED_TIME\",\"AIR_TIME\",\n",
    "                 \"CARRIER_DELAY\",\"WEATHER_DELAY\",\"NAS_DELAY\",\"SECURITY_DELAY\",\"LATE_AIRCRAFT_DELAY\"]"
   ]
  },
  {
   "cell_type": "code",
   "execution_count": 13,
   "id": "36927d61-ca7b-4515-9c62-5e86a02c0e9d",
   "metadata": {},
   "outputs": [],
   "source": [
    "take_off_df = df_final.drop(*take_off_leak)\\\n",
    "                      .filter(df_final.CANCELLED == 0)\\\n",
    "                      .filter(df_final.DIVERTED == 0)\\\n",
    "                      .filter(df_final.CRS_ARR_TIME.isNotNull())\\\n",
    "                      .filter(df_final.ARR_DELAY.isNotNull())\\\n",
    "                      .filter(df_final.DEP_DELAY.isNotNull())"
   ]
  },
  {
   "cell_type": "code",
   "execution_count": 14,
   "id": "27acee84-95be-42f2-ad68-139c01f6dab8",
   "metadata": {},
   "outputs": [],
   "source": [
    "missing_counts = take_off_df.select([sf.col(column).isNull().cast(\"int\").alias(column) for column in take_off_df.columns]) \\\n",
    "                       .groupBy() \\\n",
    "                       .sum()"
   ]
  },
  {
   "cell_type": "code",
   "execution_count": 15,
   "id": "3c430ee7-77ae-43fd-8c06-f014efbd34c1",
   "metadata": {},
   "outputs": [],
   "source": [
    "# Criando dataframe de colunas com valores zerados\n",
    "missing_counts_df = missing_counts.toPandas().transpose()\n",
    "\n",
    "# Filtrando apenas colunas com valores nulos\n",
    "missing_counts_df = missing_counts_df[missing_counts_df[0]>0]\n",
    "\n",
    "# Renomeando a coluna\n",
    "missing_counts_df = missing_counts_df.rename(columns={0:\"nulos\"})"
   ]
  },
  {
   "cell_type": "code",
   "execution_count": 16,
   "id": "92560ba7-63d3-458c-bc31-39443e4ae59f",
   "metadata": {},
   "outputs": [
    {
     "data": {
      "text/html": [
       "<div>\n",
       "<style scoped>\n",
       "    .dataframe tbody tr th:only-of-type {\n",
       "        vertical-align: middle;\n",
       "    }\n",
       "\n",
       "    .dataframe tbody tr th {\n",
       "        vertical-align: top;\n",
       "    }\n",
       "\n",
       "    .dataframe thead th {\n",
       "        text-align: right;\n",
       "    }\n",
       "</style>\n",
       "<table border=\"1\" class=\"dataframe\">\n",
       "  <thead>\n",
       "    <tr style=\"text-align: right;\">\n",
       "      <th></th>\n",
       "      <th>nulos</th>\n",
       "      <th>%nulos</th>\n",
       "    </tr>\n",
       "  </thead>\n",
       "  <tbody>\n",
       "    <tr>\n",
       "      <th>sum(CANCELLATION_CODE)</th>\n",
       "      <td>54425644</td>\n",
       "      <td>88.415088</td>\n",
       "    </tr>\n",
       "    <tr>\n",
       "      <th>sum(CRS_ELAPSED_TIME)</th>\n",
       "      <td>1</td>\n",
       "      <td>0.000002</td>\n",
       "    </tr>\n",
       "  </tbody>\n",
       "</table>\n",
       "</div>"
      ],
      "text/plain": [
       "                           nulos     %nulos\n",
       "sum(CANCELLATION_CODE)  54425644  88.415088\n",
       "sum(CRS_ELAPSED_TIME)          1   0.000002"
      ]
     },
     "execution_count": 16,
     "metadata": {},
     "output_type": "execute_result"
    }
   ],
   "source": [
    "# Cálculando porcentagem de valores faltantes\n",
    "missing_counts_df[\"%nulos\"] = (missing_counts_df[\"nulos\"]/OBSERVACOES) * 100\n",
    "\n",
    "# Ordenando por % de nulos\n",
    "missing_counts_df = missing_counts_df.sort_values(\"%nulos\", ascending=False)\n",
    "\n",
    "# Visualizando resultados\n",
    "missing_counts_df"
   ]
  },
  {
   "cell_type": "markdown",
   "id": "dee5087f-c0aa-417f-88f5-88c5af0236f9",
   "metadata": {},
   "source": [
    "## Train/Test Split"
   ]
  },
  {
   "cell_type": "code",
   "execution_count": 17,
   "id": "3f3abc28-4ea7-4818-a4a6-f6790bdf45ee",
   "metadata": {},
   "outputs": [],
   "source": [
    "train_df, test_df = take_off_df.randomSplit([0.8,0.2], seed=42)\n",
    "toy_df = train_df.sample(False, 0.01, seed=42)"
   ]
  },
  {
   "cell_type": "code",
   "execution_count": null,
   "id": "0e955121-cd59-44fa-8f8a-df0c424df638",
   "metadata": {},
   "outputs": [],
   "source": [
    "print(\"Train set count:\", train_df.count())\n",
    "print(\"Test set count:\", test_df.count())\n",
    "print(\"Toy set count:\", toy_df.count())"
   ]
  },
  {
   "cell_type": "markdown",
   "id": "637aa2ef-9bc3-414d-b019-9b959c53d772",
   "metadata": {},
   "source": [
    "## Feature Engineering: One-Hot-Enconding"
   ]
  },
  {
   "cell_type": "code",
   "execution_count": 18,
   "id": "fde2ff41-c88e-474e-bc4d-0f31eb3ae144",
   "metadata": {},
   "outputs": [],
   "source": [
    "cat_features = [\"OP_CARRIER\", \"OP_CARRIER_FL_NUM\", \"ORIGIN\", \"DEST\"]\n",
    "\n",
    "indexOutputCols = [x + 'Index' for x in cat_features]\n",
    "\n",
    "oheOutputCols = [x + 'OHE' for x in cat_features]\n",
    "\n",
    "stringIndex = StringIndexer(inputCols = cat_features,\n",
    "                            outputCols = indexOutputCols,\n",
    "                            handleInvalid = 'skip')\n",
    "\n",
    "oheEncoder = OneHotEncoder(inputCols = indexOutputCols,\n",
    "                           outputCols = oheOutputCols)"
   ]
  },
  {
   "cell_type": "code",
   "execution_count": 19,
   "id": "f6ebaea5-9c53-45b1-85b1-d5641bb31901",
   "metadata": {},
   "outputs": [],
   "source": [
    "num_features = [\"TAXI_OUT\", \"DEP_DELAY\", \"CRS_ELAPSED_TIME\", \"DISTANCE\"]\n",
    "\n",
    "numVecAssembler = VectorAssembler(inputCols = num_features,\n",
    "                                  outputCol = 'features',\n",
    "                                  handleInvalid = 'skip')\n",
    "\n",
    "stdScaler = StandardScaler(inputCol = 'features',\n",
    "                           outputCol = 'features_scaled')"
   ]
  },
  {
   "cell_type": "markdown",
   "id": "d8b007f0-7a51-47ec-b00a-dd2d0eee4f4a",
   "metadata": {},
   "source": [
    "## Assembling dos vetores"
   ]
  },
  {
   "cell_type": "code",
   "execution_count": 20,
   "id": "8673a5e3-2078-4d2e-b449-3ba5ffae56e8",
   "metadata": {},
   "outputs": [],
   "source": [
    "assembleInputs = oheOutputCols + ['features_scaled']\n",
    "\n",
    "vecAssembler = VectorAssembler(inputCols = assembleInputs,\n",
    "                               outputCol = 'features_vector')"
   ]
  },
  {
   "cell_type": "code",
   "execution_count": 21,
   "id": "aa15d45b-4962-4393-ada7-96886abf95c0",
   "metadata": {},
   "outputs": [],
   "source": [
    "stages = [stringIndex, oheEncoder, numVecAssembler, stdScaler, vecAssembler]"
   ]
  },
  {
   "cell_type": "markdown",
   "id": "01e1a25b-d5cd-4c08-9acd-a0613c57571e",
   "metadata": {},
   "source": [
    "## Criação do Pipeline"
   ]
  },
  {
   "cell_type": "code",
   "execution_count": 22,
   "id": "33c2f4ba-08b4-4711-9d96-1f8cec42cee3",
   "metadata": {},
   "outputs": [
    {
     "name": "stderr",
     "output_type": "stream",
     "text": [
      "/opt/conda/lib/python3.10/site-packages/pyspark/sql/pandas/conversion.py:248: FutureWarning: Passing unit-less datetime64 dtype to .astype is deprecated and will raise in a future version. Pass 'datetime64[ns]' instead\n",
      "  series = series.astype(t, copy=False)\n"
     ]
    },
    {
     "data": {
      "text/html": [
       "<div>\n",
       "<style scoped>\n",
       "    .dataframe tbody tr th:only-of-type {\n",
       "        vertical-align: middle;\n",
       "    }\n",
       "\n",
       "    .dataframe tbody tr th {\n",
       "        vertical-align: top;\n",
       "    }\n",
       "\n",
       "    .dataframe thead th {\n",
       "        text-align: right;\n",
       "    }\n",
       "</style>\n",
       "<table border=\"1\" class=\"dataframe\">\n",
       "  <thead>\n",
       "    <tr style=\"text-align: right;\">\n",
       "      <th></th>\n",
       "      <th>FL_DATE</th>\n",
       "      <th>OP_CARRIER</th>\n",
       "      <th>OP_CARRIER_FL_NUM</th>\n",
       "      <th>ORIGIN</th>\n",
       "      <th>DEST</th>\n",
       "      <th>CRS_DEP_TIME</th>\n",
       "      <th>DEP_TIME</th>\n",
       "      <th>DEP_DELAY</th>\n",
       "      <th>TAXI_OUT</th>\n",
       "      <th>WHEELS_OFF</th>\n",
       "      <th>...</th>\n",
       "      <th>OP_CARRIER_FL_NUMIndex</th>\n",
       "      <th>ORIGINIndex</th>\n",
       "      <th>DESTIndex</th>\n",
       "      <th>OP_CARRIEROHE</th>\n",
       "      <th>OP_CARRIER_FL_NUMOHE</th>\n",
       "      <th>ORIGINOHE</th>\n",
       "      <th>DESTOHE</th>\n",
       "      <th>features</th>\n",
       "      <th>features_scaled</th>\n",
       "      <th>features_vector</th>\n",
       "    </tr>\n",
       "  </thead>\n",
       "  <tbody>\n",
       "    <tr>\n",
       "      <th>0</th>\n",
       "      <td>2009-01-01</td>\n",
       "      <td>9E</td>\n",
       "      <td>2102</td>\n",
       "      <td>AUS</td>\n",
       "      <td>IND</td>\n",
       "      <td>1655</td>\n",
       "      <td>1650.0</td>\n",
       "      <td>-5.0</td>\n",
       "      <td>19.0</td>\n",
       "      <td>1709.0</td>\n",
       "      <td>...</td>\n",
       "      <td>2722.0</td>\n",
       "      <td>36.0</td>\n",
       "      <td>48.0</td>\n",
       "      <td>(0.0, 0.0, 0.0, 0.0, 0.0, 0.0, 0.0, 0.0, 0.0, ...</td>\n",
       "      <td>(0.0, 0.0, 0.0, 0.0, 0.0, 0.0, 0.0, 0.0, 0.0, ...</td>\n",
       "      <td>(0.0, 0.0, 0.0, 0.0, 0.0, 0.0, 0.0, 0.0, 0.0, ...</td>\n",
       "      <td>(0.0, 0.0, 0.0, 0.0, 0.0, 0.0, 0.0, 0.0, 0.0, ...</td>\n",
       "      <td>[19.0, -5.0, 155.0, 920.0]</td>\n",
       "      <td>[2.0237826918319213, -0.13391154613205383, 2.1...</td>\n",
       "      <td>(0.0, 0.0, 0.0, 0.0, 0.0, 0.0, 0.0, 0.0, 0.0, ...</td>\n",
       "    </tr>\n",
       "    <tr>\n",
       "      <th>1</th>\n",
       "      <td>2009-01-01</td>\n",
       "      <td>9E</td>\n",
       "      <td>2103</td>\n",
       "      <td>IND</td>\n",
       "      <td>AUS</td>\n",
       "      <td>1445</td>\n",
       "      <td>1450.0</td>\n",
       "      <td>5.0</td>\n",
       "      <td>14.0</td>\n",
       "      <td>1504.0</td>\n",
       "      <td>...</td>\n",
       "      <td>2374.0</td>\n",
       "      <td>48.0</td>\n",
       "      <td>36.0</td>\n",
       "      <td>(0.0, 0.0, 0.0, 0.0, 0.0, 0.0, 0.0, 0.0, 0.0, ...</td>\n",
       "      <td>(0.0, 0.0, 0.0, 0.0, 0.0, 0.0, 0.0, 0.0, 0.0, ...</td>\n",
       "      <td>(0.0, 0.0, 0.0, 0.0, 0.0, 0.0, 0.0, 0.0, 0.0, ...</td>\n",
       "      <td>(0.0, 0.0, 0.0, 0.0, 0.0, 0.0, 0.0, 0.0, 0.0, ...</td>\n",
       "      <td>[14.0, 5.0, 150.0, 920.0]</td>\n",
       "      <td>[1.4912082992445737, 0.13391154613205383, 2.03...</td>\n",
       "      <td>(0.0, 0.0, 0.0, 0.0, 0.0, 0.0, 0.0, 0.0, 0.0, ...</td>\n",
       "    </tr>\n",
       "    <tr>\n",
       "      <th>2</th>\n",
       "      <td>2009-01-01</td>\n",
       "      <td>9E</td>\n",
       "      <td>2109</td>\n",
       "      <td>MSP</td>\n",
       "      <td>OKC</td>\n",
       "      <td>2130</td>\n",
       "      <td>2126.0</td>\n",
       "      <td>-4.0</td>\n",
       "      <td>34.0</td>\n",
       "      <td>2200.0</td>\n",
       "      <td>...</td>\n",
       "      <td>2747.0</td>\n",
       "      <td>11.0</td>\n",
       "      <td>61.0</td>\n",
       "      <td>(0.0, 0.0, 0.0, 0.0, 0.0, 0.0, 0.0, 0.0, 0.0, ...</td>\n",
       "      <td>(0.0, 0.0, 0.0, 0.0, 0.0, 0.0, 0.0, 0.0, 0.0, ...</td>\n",
       "      <td>(0.0, 0.0, 0.0, 0.0, 0.0, 0.0, 0.0, 0.0, 0.0, ...</td>\n",
       "      <td>(0.0, 0.0, 0.0, 0.0, 0.0, 0.0, 0.0, 0.0, 0.0, ...</td>\n",
       "      <td>[34.0, -4.0, 133.0, 695.0]</td>\n",
       "      <td>[3.621505869593965, -0.10712923690564306, 1.80...</td>\n",
       "      <td>(0.0, 0.0, 0.0, 0.0, 0.0, 0.0, 0.0, 0.0, 0.0, ...</td>\n",
       "    </tr>\n",
       "    <tr>\n",
       "      <th>3</th>\n",
       "      <td>2009-01-01</td>\n",
       "      <td>9E</td>\n",
       "      <td>2110</td>\n",
       "      <td>OKC</td>\n",
       "      <td>MSP</td>\n",
       "      <td>1745</td>\n",
       "      <td>1740.0</td>\n",
       "      <td>-5.0</td>\n",
       "      <td>8.0</td>\n",
       "      <td>1748.0</td>\n",
       "      <td>...</td>\n",
       "      <td>2119.0</td>\n",
       "      <td>61.0</td>\n",
       "      <td>11.0</td>\n",
       "      <td>(0.0, 0.0, 0.0, 0.0, 0.0, 0.0, 0.0, 0.0, 0.0, ...</td>\n",
       "      <td>(0.0, 0.0, 0.0, 0.0, 0.0, 0.0, 0.0, 0.0, 0.0, ...</td>\n",
       "      <td>(0.0, 0.0, 0.0, 0.0, 0.0, 0.0, 0.0, 0.0, 0.0, ...</td>\n",
       "      <td>(0.0, 0.0, 0.0, 0.0, 0.0, 0.0, 0.0, 0.0, 0.0, ...</td>\n",
       "      <td>[8.0, -5.0, 132.0, 695.0]</td>\n",
       "      <td>[0.8521190281397564, -0.13391154613205383, 1.7...</td>\n",
       "      <td>(0.0, 0.0, 0.0, 0.0, 0.0, 0.0, 0.0, 0.0, 0.0, ...</td>\n",
       "    </tr>\n",
       "    <tr>\n",
       "      <th>4</th>\n",
       "      <td>2009-01-01</td>\n",
       "      <td>9E</td>\n",
       "      <td>2114</td>\n",
       "      <td>ALO</td>\n",
       "      <td>MSP</td>\n",
       "      <td>700</td>\n",
       "      <td>815.0</td>\n",
       "      <td>75.0</td>\n",
       "      <td>16.0</td>\n",
       "      <td>831.0</td>\n",
       "      <td>...</td>\n",
       "      <td>2233.0</td>\n",
       "      <td>306.0</td>\n",
       "      <td>11.0</td>\n",
       "      <td>(0.0, 0.0, 0.0, 0.0, 0.0, 0.0, 0.0, 0.0, 0.0, ...</td>\n",
       "      <td>(0.0, 0.0, 0.0, 0.0, 0.0, 0.0, 0.0, 0.0, 0.0, ...</td>\n",
       "      <td>(0.0, 0.0, 0.0, 0.0, 0.0, 0.0, 0.0, 0.0, 0.0, ...</td>\n",
       "      <td>(0.0, 0.0, 0.0, 0.0, 0.0, 0.0, 0.0, 0.0, 0.0, ...</td>\n",
       "      <td>[16.0, 75.0, 69.0, 166.0]</td>\n",
       "      <td>[1.7042380562795127, 2.0086731919808076, 0.938...</td>\n",
       "      <td>(0.0, 0.0, 0.0, 0.0, 0.0, 0.0, 0.0, 0.0, 0.0, ...</td>\n",
       "    </tr>\n",
       "    <tr>\n",
       "      <th>5</th>\n",
       "      <td>2009-01-01</td>\n",
       "      <td>9E</td>\n",
       "      <td>2118</td>\n",
       "      <td>MSP</td>\n",
       "      <td>GRR</td>\n",
       "      <td>1310</td>\n",
       "      <td>1337.0</td>\n",
       "      <td>27.0</td>\n",
       "      <td>14.0</td>\n",
       "      <td>1351.0</td>\n",
       "      <td>...</td>\n",
       "      <td>1901.0</td>\n",
       "      <td>11.0</td>\n",
       "      <td>77.0</td>\n",
       "      <td>(0.0, 0.0, 0.0, 0.0, 0.0, 0.0, 0.0, 0.0, 0.0, ...</td>\n",
       "      <td>(0.0, 0.0, 0.0, 0.0, 0.0, 0.0, 0.0, 0.0, 0.0, ...</td>\n",
       "      <td>(0.0, 0.0, 0.0, 0.0, 0.0, 0.0, 0.0, 0.0, 0.0, ...</td>\n",
       "      <td>(0.0, 0.0, 0.0, 0.0, 0.0, 0.0, 0.0, 0.0, 0.0, ...</td>\n",
       "      <td>[14.0, 27.0, 93.0, 408.0]</td>\n",
       "      <td>[1.4912082992445737, 0.7231223491130907, 1.264...</td>\n",
       "      <td>(0.0, 0.0, 0.0, 0.0, 0.0, 0.0, 0.0, 0.0, 0.0, ...</td>\n",
       "    </tr>\n",
       "    <tr>\n",
       "      <th>6</th>\n",
       "      <td>2009-01-01</td>\n",
       "      <td>9E</td>\n",
       "      <td>2122</td>\n",
       "      <td>CLE</td>\n",
       "      <td>MSP</td>\n",
       "      <td>1343</td>\n",
       "      <td>1338.0</td>\n",
       "      <td>-5.0</td>\n",
       "      <td>11.0</td>\n",
       "      <td>1349.0</td>\n",
       "      <td>...</td>\n",
       "      <td>2105.0</td>\n",
       "      <td>38.0</td>\n",
       "      <td>11.0</td>\n",
       "      <td>(0.0, 0.0, 0.0, 0.0, 0.0, 0.0, 0.0, 0.0, 0.0, ...</td>\n",
       "      <td>(0.0, 0.0, 0.0, 0.0, 0.0, 0.0, 0.0, 0.0, 0.0, ...</td>\n",
       "      <td>(0.0, 0.0, 0.0, 0.0, 0.0, 0.0, 0.0, 0.0, 0.0, ...</td>\n",
       "      <td>(0.0, 0.0, 0.0, 0.0, 0.0, 0.0, 0.0, 0.0, 0.0, ...</td>\n",
       "      <td>[11.0, -5.0, 135.0, 622.0]</td>\n",
       "      <td>[1.171663663692165, -0.13391154613205383, 1.83...</td>\n",
       "      <td>(0.0, 0.0, 0.0, 0.0, 0.0, 0.0, 0.0, 0.0, 0.0, ...</td>\n",
       "    </tr>\n",
       "    <tr>\n",
       "      <th>7</th>\n",
       "      <td>2009-01-01</td>\n",
       "      <td>9E</td>\n",
       "      <td>2122</td>\n",
       "      <td>MSP</td>\n",
       "      <td>RHI</td>\n",
       "      <td>1538</td>\n",
       "      <td>1549.0</td>\n",
       "      <td>11.0</td>\n",
       "      <td>12.0</td>\n",
       "      <td>1601.0</td>\n",
       "      <td>...</td>\n",
       "      <td>2105.0</td>\n",
       "      <td>11.0</td>\n",
       "      <td>273.0</td>\n",
       "      <td>(0.0, 0.0, 0.0, 0.0, 0.0, 0.0, 0.0, 0.0, 0.0, ...</td>\n",
       "      <td>(0.0, 0.0, 0.0, 0.0, 0.0, 0.0, 0.0, 0.0, 0.0, ...</td>\n",
       "      <td>(0.0, 0.0, 0.0, 0.0, 0.0, 0.0, 0.0, 0.0, 0.0, ...</td>\n",
       "      <td>(0.0, 0.0, 0.0, 0.0, 0.0, 0.0, 0.0, 0.0, 0.0, ...</td>\n",
       "      <td>[12.0, 11.0, 58.0, 190.0]</td>\n",
       "      <td>[1.2781785422096346, 0.29460540149051845, 0.78...</td>\n",
       "      <td>(0.0, 0.0, 0.0, 0.0, 0.0, 0.0, 0.0, 0.0, 0.0, ...</td>\n",
       "    </tr>\n",
       "    <tr>\n",
       "      <th>8</th>\n",
       "      <td>2009-01-01</td>\n",
       "      <td>9E</td>\n",
       "      <td>2123</td>\n",
       "      <td>DTW</td>\n",
       "      <td>GRR</td>\n",
       "      <td>1218</td>\n",
       "      <td>1214.0</td>\n",
       "      <td>-4.0</td>\n",
       "      <td>16.0</td>\n",
       "      <td>1230.0</td>\n",
       "      <td>...</td>\n",
       "      <td>2532.0</td>\n",
       "      <td>9.0</td>\n",
       "      <td>77.0</td>\n",
       "      <td>(0.0, 0.0, 0.0, 0.0, 0.0, 0.0, 0.0, 0.0, 0.0, ...</td>\n",
       "      <td>(0.0, 0.0, 0.0, 0.0, 0.0, 0.0, 0.0, 0.0, 0.0, ...</td>\n",
       "      <td>(0.0, 0.0, 0.0, 0.0, 0.0, 0.0, 0.0, 0.0, 0.0, ...</td>\n",
       "      <td>(0.0, 0.0, 0.0, 0.0, 0.0, 0.0, 0.0, 0.0, 0.0, ...</td>\n",
       "      <td>[16.0, -4.0, 62.0, 120.0]</td>\n",
       "      <td>[1.7042380562795127, -0.10712923690564306, 0.8...</td>\n",
       "      <td>(0.0, 0.0, 0.0, 0.0, 0.0, 0.0, 0.0, 0.0, 0.0, ...</td>\n",
       "    </tr>\n",
       "    <tr>\n",
       "      <th>9</th>\n",
       "      <td>2009-01-01</td>\n",
       "      <td>9E</td>\n",
       "      <td>2124</td>\n",
       "      <td>GRR</td>\n",
       "      <td>MSP</td>\n",
       "      <td>1350</td>\n",
       "      <td>1345.0</td>\n",
       "      <td>-5.0</td>\n",
       "      <td>9.0</td>\n",
       "      <td>1354.0</td>\n",
       "      <td>...</td>\n",
       "      <td>2161.0</td>\n",
       "      <td>77.0</td>\n",
       "      <td>11.0</td>\n",
       "      <td>(0.0, 0.0, 0.0, 0.0, 0.0, 0.0, 0.0, 0.0, 0.0, ...</td>\n",
       "      <td>(0.0, 0.0, 0.0, 0.0, 0.0, 0.0, 0.0, 0.0, 0.0, ...</td>\n",
       "      <td>(0.0, 0.0, 0.0, 0.0, 0.0, 0.0, 0.0, 0.0, 0.0, ...</td>\n",
       "      <td>(0.0, 0.0, 0.0, 0.0, 0.0, 0.0, 0.0, 0.0, 0.0, ...</td>\n",
       "      <td>[9.0, -5.0, 100.0, 408.0]</td>\n",
       "      <td>[0.9586339066572259, -0.13391154613205383, 1.3...</td>\n",
       "      <td>(0.0, 0.0, 0.0, 0.0, 0.0, 0.0, 0.0, 0.0, 0.0, ...</td>\n",
       "    </tr>\n",
       "  </tbody>\n",
       "</table>\n",
       "<p>10 rows × 29 columns</p>\n",
       "</div>"
      ],
      "text/plain": [
       "     FL_DATE OP_CARRIER  OP_CARRIER_FL_NUM ORIGIN DEST  CRS_DEP_TIME  \\\n",
       "0 2009-01-01         9E               2102    AUS  IND          1655   \n",
       "1 2009-01-01         9E               2103    IND  AUS          1445   \n",
       "2 2009-01-01         9E               2109    MSP  OKC          2130   \n",
       "3 2009-01-01         9E               2110    OKC  MSP          1745   \n",
       "4 2009-01-01         9E               2114    ALO  MSP           700   \n",
       "5 2009-01-01         9E               2118    MSP  GRR          1310   \n",
       "6 2009-01-01         9E               2122    CLE  MSP          1343   \n",
       "7 2009-01-01         9E               2122    MSP  RHI          1538   \n",
       "8 2009-01-01         9E               2123    DTW  GRR          1218   \n",
       "9 2009-01-01         9E               2124    GRR  MSP          1350   \n",
       "\n",
       "   DEP_TIME  DEP_DELAY  TAXI_OUT  WHEELS_OFF  ...  OP_CARRIER_FL_NUMIndex  \\\n",
       "0    1650.0       -5.0      19.0      1709.0  ...                  2722.0   \n",
       "1    1450.0        5.0      14.0      1504.0  ...                  2374.0   \n",
       "2    2126.0       -4.0      34.0      2200.0  ...                  2747.0   \n",
       "3    1740.0       -5.0       8.0      1748.0  ...                  2119.0   \n",
       "4     815.0       75.0      16.0       831.0  ...                  2233.0   \n",
       "5    1337.0       27.0      14.0      1351.0  ...                  1901.0   \n",
       "6    1338.0       -5.0      11.0      1349.0  ...                  2105.0   \n",
       "7    1549.0       11.0      12.0      1601.0  ...                  2105.0   \n",
       "8    1214.0       -4.0      16.0      1230.0  ...                  2532.0   \n",
       "9    1345.0       -5.0       9.0      1354.0  ...                  2161.0   \n",
       "\n",
       "   ORIGINIndex  DESTIndex                                      OP_CARRIEROHE  \\\n",
       "0         36.0       48.0  (0.0, 0.0, 0.0, 0.0, 0.0, 0.0, 0.0, 0.0, 0.0, ...   \n",
       "1         48.0       36.0  (0.0, 0.0, 0.0, 0.0, 0.0, 0.0, 0.0, 0.0, 0.0, ...   \n",
       "2         11.0       61.0  (0.0, 0.0, 0.0, 0.0, 0.0, 0.0, 0.0, 0.0, 0.0, ...   \n",
       "3         61.0       11.0  (0.0, 0.0, 0.0, 0.0, 0.0, 0.0, 0.0, 0.0, 0.0, ...   \n",
       "4        306.0       11.0  (0.0, 0.0, 0.0, 0.0, 0.0, 0.0, 0.0, 0.0, 0.0, ...   \n",
       "5         11.0       77.0  (0.0, 0.0, 0.0, 0.0, 0.0, 0.0, 0.0, 0.0, 0.0, ...   \n",
       "6         38.0       11.0  (0.0, 0.0, 0.0, 0.0, 0.0, 0.0, 0.0, 0.0, 0.0, ...   \n",
       "7         11.0      273.0  (0.0, 0.0, 0.0, 0.0, 0.0, 0.0, 0.0, 0.0, 0.0, ...   \n",
       "8          9.0       77.0  (0.0, 0.0, 0.0, 0.0, 0.0, 0.0, 0.0, 0.0, 0.0, ...   \n",
       "9         77.0       11.0  (0.0, 0.0, 0.0, 0.0, 0.0, 0.0, 0.0, 0.0, 0.0, ...   \n",
       "\n",
       "                                OP_CARRIER_FL_NUMOHE  \\\n",
       "0  (0.0, 0.0, 0.0, 0.0, 0.0, 0.0, 0.0, 0.0, 0.0, ...   \n",
       "1  (0.0, 0.0, 0.0, 0.0, 0.0, 0.0, 0.0, 0.0, 0.0, ...   \n",
       "2  (0.0, 0.0, 0.0, 0.0, 0.0, 0.0, 0.0, 0.0, 0.0, ...   \n",
       "3  (0.0, 0.0, 0.0, 0.0, 0.0, 0.0, 0.0, 0.0, 0.0, ...   \n",
       "4  (0.0, 0.0, 0.0, 0.0, 0.0, 0.0, 0.0, 0.0, 0.0, ...   \n",
       "5  (0.0, 0.0, 0.0, 0.0, 0.0, 0.0, 0.0, 0.0, 0.0, ...   \n",
       "6  (0.0, 0.0, 0.0, 0.0, 0.0, 0.0, 0.0, 0.0, 0.0, ...   \n",
       "7  (0.0, 0.0, 0.0, 0.0, 0.0, 0.0, 0.0, 0.0, 0.0, ...   \n",
       "8  (0.0, 0.0, 0.0, 0.0, 0.0, 0.0, 0.0, 0.0, 0.0, ...   \n",
       "9  (0.0, 0.0, 0.0, 0.0, 0.0, 0.0, 0.0, 0.0, 0.0, ...   \n",
       "\n",
       "                                           ORIGINOHE  \\\n",
       "0  (0.0, 0.0, 0.0, 0.0, 0.0, 0.0, 0.0, 0.0, 0.0, ...   \n",
       "1  (0.0, 0.0, 0.0, 0.0, 0.0, 0.0, 0.0, 0.0, 0.0, ...   \n",
       "2  (0.0, 0.0, 0.0, 0.0, 0.0, 0.0, 0.0, 0.0, 0.0, ...   \n",
       "3  (0.0, 0.0, 0.0, 0.0, 0.0, 0.0, 0.0, 0.0, 0.0, ...   \n",
       "4  (0.0, 0.0, 0.0, 0.0, 0.0, 0.0, 0.0, 0.0, 0.0, ...   \n",
       "5  (0.0, 0.0, 0.0, 0.0, 0.0, 0.0, 0.0, 0.0, 0.0, ...   \n",
       "6  (0.0, 0.0, 0.0, 0.0, 0.0, 0.0, 0.0, 0.0, 0.0, ...   \n",
       "7  (0.0, 0.0, 0.0, 0.0, 0.0, 0.0, 0.0, 0.0, 0.0, ...   \n",
       "8  (0.0, 0.0, 0.0, 0.0, 0.0, 0.0, 0.0, 0.0, 0.0, ...   \n",
       "9  (0.0, 0.0, 0.0, 0.0, 0.0, 0.0, 0.0, 0.0, 0.0, ...   \n",
       "\n",
       "                                             DESTOHE  \\\n",
       "0  (0.0, 0.0, 0.0, 0.0, 0.0, 0.0, 0.0, 0.0, 0.0, ...   \n",
       "1  (0.0, 0.0, 0.0, 0.0, 0.0, 0.0, 0.0, 0.0, 0.0, ...   \n",
       "2  (0.0, 0.0, 0.0, 0.0, 0.0, 0.0, 0.0, 0.0, 0.0, ...   \n",
       "3  (0.0, 0.0, 0.0, 0.0, 0.0, 0.0, 0.0, 0.0, 0.0, ...   \n",
       "4  (0.0, 0.0, 0.0, 0.0, 0.0, 0.0, 0.0, 0.0, 0.0, ...   \n",
       "5  (0.0, 0.0, 0.0, 0.0, 0.0, 0.0, 0.0, 0.0, 0.0, ...   \n",
       "6  (0.0, 0.0, 0.0, 0.0, 0.0, 0.0, 0.0, 0.0, 0.0, ...   \n",
       "7  (0.0, 0.0, 0.0, 0.0, 0.0, 0.0, 0.0, 0.0, 0.0, ...   \n",
       "8  (0.0, 0.0, 0.0, 0.0, 0.0, 0.0, 0.0, 0.0, 0.0, ...   \n",
       "9  (0.0, 0.0, 0.0, 0.0, 0.0, 0.0, 0.0, 0.0, 0.0, ...   \n",
       "\n",
       "                     features  \\\n",
       "0  [19.0, -5.0, 155.0, 920.0]   \n",
       "1   [14.0, 5.0, 150.0, 920.0]   \n",
       "2  [34.0, -4.0, 133.0, 695.0]   \n",
       "3   [8.0, -5.0, 132.0, 695.0]   \n",
       "4   [16.0, 75.0, 69.0, 166.0]   \n",
       "5   [14.0, 27.0, 93.0, 408.0]   \n",
       "6  [11.0, -5.0, 135.0, 622.0]   \n",
       "7   [12.0, 11.0, 58.0, 190.0]   \n",
       "8   [16.0, -4.0, 62.0, 120.0]   \n",
       "9   [9.0, -5.0, 100.0, 408.0]   \n",
       "\n",
       "                                     features_scaled  \\\n",
       "0  [2.0237826918319213, -0.13391154613205383, 2.1...   \n",
       "1  [1.4912082992445737, 0.13391154613205383, 2.03...   \n",
       "2  [3.621505869593965, -0.10712923690564306, 1.80...   \n",
       "3  [0.8521190281397564, -0.13391154613205383, 1.7...   \n",
       "4  [1.7042380562795127, 2.0086731919808076, 0.938...   \n",
       "5  [1.4912082992445737, 0.7231223491130907, 1.264...   \n",
       "6  [1.171663663692165, -0.13391154613205383, 1.83...   \n",
       "7  [1.2781785422096346, 0.29460540149051845, 0.78...   \n",
       "8  [1.7042380562795127, -0.10712923690564306, 0.8...   \n",
       "9  [0.9586339066572259, -0.13391154613205383, 1.3...   \n",
       "\n",
       "                                     features_vector  \n",
       "0  (0.0, 0.0, 0.0, 0.0, 0.0, 0.0, 0.0, 0.0, 0.0, ...  \n",
       "1  (0.0, 0.0, 0.0, 0.0, 0.0, 0.0, 0.0, 0.0, 0.0, ...  \n",
       "2  (0.0, 0.0, 0.0, 0.0, 0.0, 0.0, 0.0, 0.0, 0.0, ...  \n",
       "3  (0.0, 0.0, 0.0, 0.0, 0.0, 0.0, 0.0, 0.0, 0.0, ...  \n",
       "4  (0.0, 0.0, 0.0, 0.0, 0.0, 0.0, 0.0, 0.0, 0.0, ...  \n",
       "5  (0.0, 0.0, 0.0, 0.0, 0.0, 0.0, 0.0, 0.0, 0.0, ...  \n",
       "6  (0.0, 0.0, 0.0, 0.0, 0.0, 0.0, 0.0, 0.0, 0.0, ...  \n",
       "7  (0.0, 0.0, 0.0, 0.0, 0.0, 0.0, 0.0, 0.0, 0.0, ...  \n",
       "8  (0.0, 0.0, 0.0, 0.0, 0.0, 0.0, 0.0, 0.0, 0.0, ...  \n",
       "9  (0.0, 0.0, 0.0, 0.0, 0.0, 0.0, 0.0, 0.0, 0.0, ...  \n",
       "\n",
       "[10 rows x 29 columns]"
      ]
     },
     "execution_count": 22,
     "metadata": {},
     "output_type": "execute_result"
    }
   ],
   "source": [
    "# Criacao do pipeline de transformacao\n",
    "transform_pipeline = Pipeline(stages=stages)\n",
    "\n",
    "# Aplicacao do pipeline nos dados de treino\n",
    "fitted_transformer = transform_pipeline.fit(train_df)\n",
    "transformed_train_df = fitted_transformer.transform(train_df)\n",
    "\n",
    "transformed_train_df.limit(10).toPandas()"
   ]
  },
  {
   "cell_type": "markdown",
   "id": "3091c237-5968-4a1b-b13f-14011d468c8d",
   "metadata": {},
   "source": [
    "## Model Training"
   ]
  },
  {
   "cell_type": "code",
   "execution_count": 23,
   "id": "283629d4-fac4-4be1-9b0a-bceb90152687",
   "metadata": {},
   "outputs": [],
   "source": [
    "model = LinearRegression(maxIter = 5, # pode causar overfitting\n",
    "                         solver = 'auto',\n",
    "                         labelCol = 'ARR_DELAY',\n",
    "                         featuresCol = 'features_vector',\n",
    "                         elasticNetParam = 0.2,\n",
    "                         regParam = 0.02)\n",
    "\n",
    "pipe_stages = stages + [model]\n",
    "\n",
    "pipe = Pipeline(stages=pipe_stages)"
   ]
  },
  {
   "cell_type": "code",
   "execution_count": 24,
   "id": "570f0d44-584d-4d1a-8d5a-b2f96e2a3905",
   "metadata": {},
   "outputs": [],
   "source": [
    "fitted_pipe = pipe.fit(toy_df)"
   ]
  },
  {
   "cell_type": "markdown",
   "id": "8e1742a6-946a-4c1c-8658-4d57670b1cd9",
   "metadata": {},
   "source": [
    "## Model performance evaluation"
   ]
  },
  {
   "cell_type": "code",
   "execution_count": 25,
   "id": "bb1763ee-7617-4c9e-b6bd-42380f49cbf5",
   "metadata": {},
   "outputs": [],
   "source": [
    "preds = fitted_pipe.transform(test_df)"
   ]
  },
  {
   "cell_type": "code",
   "execution_count": 26,
   "id": "35fcfe54-2666-4620-a626-bd00d4277deb",
   "metadata": {},
   "outputs": [
    {
     "name": "stderr",
     "output_type": "stream",
     "text": [
      "/opt/conda/lib/python3.10/site-packages/pyspark/sql/pandas/conversion.py:248: FutureWarning: Passing unit-less datetime64 dtype to .astype is deprecated and will raise in a future version. Pass 'datetime64[ns]' instead\n",
      "  series = series.astype(t, copy=False)\n"
     ]
    },
    {
     "data": {
      "text/html": [
       "<div>\n",
       "<style scoped>\n",
       "    .dataframe tbody tr th:only-of-type {\n",
       "        vertical-align: middle;\n",
       "    }\n",
       "\n",
       "    .dataframe tbody tr th {\n",
       "        vertical-align: top;\n",
       "    }\n",
       "\n",
       "    .dataframe thead th {\n",
       "        text-align: right;\n",
       "    }\n",
       "</style>\n",
       "<table border=\"1\" class=\"dataframe\">\n",
       "  <thead>\n",
       "    <tr style=\"text-align: right;\">\n",
       "      <th></th>\n",
       "      <th>FL_DATE</th>\n",
       "      <th>OP_CARRIER</th>\n",
       "      <th>OP_CARRIER_FL_NUM</th>\n",
       "      <th>ORIGIN</th>\n",
       "      <th>DEST</th>\n",
       "      <th>CRS_DEP_TIME</th>\n",
       "      <th>DEP_TIME</th>\n",
       "      <th>DEP_DELAY</th>\n",
       "      <th>TAXI_OUT</th>\n",
       "      <th>WHEELS_OFF</th>\n",
       "      <th>...</th>\n",
       "      <th>ORIGINIndex</th>\n",
       "      <th>DESTIndex</th>\n",
       "      <th>OP_CARRIEROHE</th>\n",
       "      <th>OP_CARRIER_FL_NUMOHE</th>\n",
       "      <th>ORIGINOHE</th>\n",
       "      <th>DESTOHE</th>\n",
       "      <th>features</th>\n",
       "      <th>features_scaled</th>\n",
       "      <th>features_vector</th>\n",
       "      <th>prediction</th>\n",
       "    </tr>\n",
       "  </thead>\n",
       "  <tbody>\n",
       "    <tr>\n",
       "      <th>0</th>\n",
       "      <td>2009-01-01</td>\n",
       "      <td>9E</td>\n",
       "      <td>2108</td>\n",
       "      <td>OKC</td>\n",
       "      <td>MSP</td>\n",
       "      <td>700</td>\n",
       "      <td>650.0</td>\n",
       "      <td>-10.0</td>\n",
       "      <td>15.0</td>\n",
       "      <td>705.0</td>\n",
       "      <td>...</td>\n",
       "      <td>61.0</td>\n",
       "      <td>11.0</td>\n",
       "      <td>(0.0, 0.0, 0.0, 0.0, 0.0, 0.0, 0.0, 0.0, 0.0, ...</td>\n",
       "      <td>(0.0, 0.0, 0.0, 0.0, 0.0, 0.0, 0.0, 0.0, 0.0, ...</td>\n",
       "      <td>(0.0, 0.0, 0.0, 0.0, 0.0, 0.0, 0.0, 0.0, 0.0, ...</td>\n",
       "      <td>(0.0, 0.0, 0.0, 0.0, 0.0, 0.0, 0.0, 0.0, 0.0, ...</td>\n",
       "      <td>[15.0, -10.0, 135.0, 695.0]</td>\n",
       "      <td>[1.592625007550886, -0.2683625025834257, 1.834...</td>\n",
       "      <td>(0.0, 0.0, 0.0, 0.0, 0.0, 0.0, 0.0, 0.0, 0.0, ...</td>\n",
       "      <td>-15.030487</td>\n",
       "    </tr>\n",
       "    <tr>\n",
       "      <th>1</th>\n",
       "      <td>2009-01-01</td>\n",
       "      <td>9E</td>\n",
       "      <td>2115</td>\n",
       "      <td>MSP</td>\n",
       "      <td>ALO</td>\n",
       "      <td>2245</td>\n",
       "      <td>2245.0</td>\n",
       "      <td>0.0</td>\n",
       "      <td>31.0</td>\n",
       "      <td>2316.0</td>\n",
       "      <td>...</td>\n",
       "      <td>11.0</td>\n",
       "      <td>316.0</td>\n",
       "      <td>(0.0, 0.0, 0.0, 0.0, 0.0, 0.0, 0.0, 0.0, 0.0, ...</td>\n",
       "      <td>(0.0, 0.0, 0.0, 0.0, 0.0, 0.0, 0.0, 0.0, 0.0, ...</td>\n",
       "      <td>(0.0, 0.0, 0.0, 0.0, 0.0, 0.0, 0.0, 0.0, 0.0, ...</td>\n",
       "      <td>(0.0, 0.0, 0.0, 0.0, 0.0, 0.0, 0.0, 0.0, 0.0, ...</td>\n",
       "      <td>[31.0, 0.0, 58.0, 166.0]</td>\n",
       "      <td>[3.2914250156051645, 0.0, 0.7881109483871731, ...</td>\n",
       "      <td>(0.0, 0.0, 0.0, 0.0, 0.0, 0.0, 0.0, 0.0, 0.0, ...</td>\n",
       "      <td>9.436105</td>\n",
       "    </tr>\n",
       "    <tr>\n",
       "      <th>2</th>\n",
       "      <td>2009-01-01</td>\n",
       "      <td>9E</td>\n",
       "      <td>2120</td>\n",
       "      <td>STL</td>\n",
       "      <td>MSP</td>\n",
       "      <td>1610</td>\n",
       "      <td>1552.0</td>\n",
       "      <td>-18.0</td>\n",
       "      <td>7.0</td>\n",
       "      <td>1559.0</td>\n",
       "      <td>...</td>\n",
       "      <td>29.0</td>\n",
       "      <td>11.0</td>\n",
       "      <td>(0.0, 0.0, 0.0, 0.0, 0.0, 0.0, 0.0, 0.0, 0.0, ...</td>\n",
       "      <td>(0.0, 0.0, 0.0, 0.0, 0.0, 0.0, 0.0, 0.0, 0.0, ...</td>\n",
       "      <td>(0.0, 0.0, 0.0, 0.0, 0.0, 0.0, 0.0, 0.0, 0.0, ...</td>\n",
       "      <td>(0.0, 0.0, 0.0, 0.0, 0.0, 0.0, 0.0, 0.0, 0.0, ...</td>\n",
       "      <td>[7.0, -18.0, 110.0, 449.0]</td>\n",
       "      <td>[0.7432250035237469, -0.4830525046501663, 1.49...</td>\n",
       "      <td>(0.0, 0.0, 0.0, 0.0, 0.0, 0.0, 0.0, 0.0, 0.0, ...</td>\n",
       "      <td>-29.290478</td>\n",
       "    </tr>\n",
       "    <tr>\n",
       "      <th>3</th>\n",
       "      <td>2009-01-01</td>\n",
       "      <td>9E</td>\n",
       "      <td>2125</td>\n",
       "      <td>MSP</td>\n",
       "      <td>CLE</td>\n",
       "      <td>1015</td>\n",
       "      <td>1014.0</td>\n",
       "      <td>-1.0</td>\n",
       "      <td>23.0</td>\n",
       "      <td>1037.0</td>\n",
       "      <td>...</td>\n",
       "      <td>11.0</td>\n",
       "      <td>40.0</td>\n",
       "      <td>(0.0, 0.0, 0.0, 0.0, 0.0, 0.0, 0.0, 0.0, 0.0, ...</td>\n",
       "      <td>(0.0, 0.0, 0.0, 0.0, 0.0, 0.0, 0.0, 0.0, 0.0, ...</td>\n",
       "      <td>(0.0, 0.0, 0.0, 0.0, 0.0, 0.0, 0.0, 0.0, 0.0, ...</td>\n",
       "      <td>(0.0, 0.0, 0.0, 0.0, 0.0, 0.0, 0.0, 0.0, 0.0, ...</td>\n",
       "      <td>[23.0, -1.0, 117.0, 622.0]</td>\n",
       "      <td>[2.4420250115780253, -0.026836250258342572, 1....</td>\n",
       "      <td>(0.0, 0.0, 0.0, 0.0, 0.0, 0.0, 0.0, 0.0, 0.0, ...</td>\n",
       "      <td>-5.115942</td>\n",
       "    </tr>\n",
       "    <tr>\n",
       "      <th>4</th>\n",
       "      <td>2009-01-01</td>\n",
       "      <td>9E</td>\n",
       "      <td>2138</td>\n",
       "      <td>SAT</td>\n",
       "      <td>IND</td>\n",
       "      <td>1915</td>\n",
       "      <td>1916.0</td>\n",
       "      <td>1.0</td>\n",
       "      <td>14.0</td>\n",
       "      <td>1930.0</td>\n",
       "      <td>...</td>\n",
       "      <td>43.0</td>\n",
       "      <td>47.0</td>\n",
       "      <td>(0.0, 0.0, 0.0, 0.0, 0.0, 0.0, 0.0, 0.0, 0.0, ...</td>\n",
       "      <td>(0.0, 0.0, 0.0, 0.0, 0.0, 0.0, 0.0, 0.0, 0.0, ...</td>\n",
       "      <td>(0.0, 0.0, 0.0, 0.0, 0.0, 0.0, 0.0, 0.0, 0.0, ...</td>\n",
       "      <td>(0.0, 0.0, 0.0, 0.0, 0.0, 0.0, 0.0, 0.0, 0.0, ...</td>\n",
       "      <td>[14.0, 1.0, 164.0, 986.0]</td>\n",
       "      <td>[1.4864500070474937, 0.026836250258342572, 2.2...</td>\n",
       "      <td>(0.0, 0.0, 0.0, 0.0, 0.0, 0.0, 0.0, 0.0, 0.0, ...</td>\n",
       "      <td>-6.717591</td>\n",
       "    </tr>\n",
       "    <tr>\n",
       "      <th>5</th>\n",
       "      <td>2009-01-01</td>\n",
       "      <td>9E</td>\n",
       "      <td>2143</td>\n",
       "      <td>CMX</td>\n",
       "      <td>MSP</td>\n",
       "      <td>545</td>\n",
       "      <td>550.0</td>\n",
       "      <td>5.0</td>\n",
       "      <td>17.0</td>\n",
       "      <td>607.0</td>\n",
       "      <td>...</td>\n",
       "      <td>262.0</td>\n",
       "      <td>11.0</td>\n",
       "      <td>(0.0, 0.0, 0.0, 0.0, 0.0, 0.0, 0.0, 0.0, 0.0, ...</td>\n",
       "      <td>(0.0, 0.0, 0.0, 0.0, 0.0, 0.0, 0.0, 0.0, 0.0, ...</td>\n",
       "      <td>(0.0, 0.0, 0.0, 0.0, 0.0, 0.0, 0.0, 0.0, 0.0, ...</td>\n",
       "      <td>(0.0, 0.0, 0.0, 0.0, 0.0, 0.0, 0.0, 0.0, 0.0, ...</td>\n",
       "      <td>[17.0, 5.0, 82.0, 277.0]</td>\n",
       "      <td>[1.8049750085576708, 0.13418125129171285, 1.11...</td>\n",
       "      <td>(0.0, 0.0, 0.0, 0.0, 0.0, 0.0, 0.0, 0.0, 0.0, ...</td>\n",
       "      <td>1.606369</td>\n",
       "    </tr>\n",
       "    <tr>\n",
       "      <th>6</th>\n",
       "      <td>2009-01-01</td>\n",
       "      <td>9E</td>\n",
       "      <td>2149</td>\n",
       "      <td>MSP</td>\n",
       "      <td>GRB</td>\n",
       "      <td>1259</td>\n",
       "      <td>1259.0</td>\n",
       "      <td>0.0</td>\n",
       "      <td>11.0</td>\n",
       "      <td>1310.0</td>\n",
       "      <td>...</td>\n",
       "      <td>11.0</td>\n",
       "      <td>119.0</td>\n",
       "      <td>(0.0, 0.0, 0.0, 0.0, 0.0, 0.0, 0.0, 0.0, 0.0, ...</td>\n",
       "      <td>(0.0, 0.0, 0.0, 0.0, 0.0, 0.0, 0.0, 0.0, 0.0, ...</td>\n",
       "      <td>(0.0, 0.0, 0.0, 0.0, 0.0, 0.0, 0.0, 0.0, 0.0, ...</td>\n",
       "      <td>(0.0, 0.0, 0.0, 0.0, 0.0, 0.0, 0.0, 0.0, 0.0, ...</td>\n",
       "      <td>[11.0, 0.0, 70.0, 252.0]</td>\n",
       "      <td>[1.1679250055373165, 0.0, 0.9511683859845192, ...</td>\n",
       "      <td>(0.0, 0.0, 0.0, 0.0, 0.0, 0.0, 0.0, 0.0, 0.0, ...</td>\n",
       "      <td>-10.853533</td>\n",
       "    </tr>\n",
       "    <tr>\n",
       "      <th>7</th>\n",
       "      <td>2009-01-01</td>\n",
       "      <td>9E</td>\n",
       "      <td>2156</td>\n",
       "      <td>AZO</td>\n",
       "      <td>MSP</td>\n",
       "      <td>710</td>\n",
       "      <td>711.0</td>\n",
       "      <td>1.0</td>\n",
       "      <td>19.0</td>\n",
       "      <td>730.0</td>\n",
       "      <td>...</td>\n",
       "      <td>183.0</td>\n",
       "      <td>11.0</td>\n",
       "      <td>(0.0, 0.0, 0.0, 0.0, 0.0, 0.0, 0.0, 0.0, 0.0, ...</td>\n",
       "      <td>(0.0, 0.0, 0.0, 0.0, 0.0, 0.0, 0.0, 0.0, 0.0, ...</td>\n",
       "      <td>(0.0, 0.0, 0.0, 0.0, 0.0, 0.0, 0.0, 0.0, 0.0, ...</td>\n",
       "      <td>(0.0, 0.0, 0.0, 0.0, 0.0, 0.0, 0.0, 0.0, 0.0, ...</td>\n",
       "      <td>[19.0, 1.0, 108.0, 426.0]</td>\n",
       "      <td>[2.0173250095644555, 0.026836250258342572, 1.4...</td>\n",
       "      <td>(0.0, 0.0, 0.0, 0.0, 0.0, 0.0, 0.0, 0.0, 0.0, ...</td>\n",
       "      <td>-2.881877</td>\n",
       "    </tr>\n",
       "    <tr>\n",
       "      <th>8</th>\n",
       "      <td>2009-01-01</td>\n",
       "      <td>9E</td>\n",
       "      <td>2168</td>\n",
       "      <td>BDL</td>\n",
       "      <td>IND</td>\n",
       "      <td>1620</td>\n",
       "      <td>1626.0</td>\n",
       "      <td>6.0</td>\n",
       "      <td>18.0</td>\n",
       "      <td>1644.0</td>\n",
       "      <td>...</td>\n",
       "      <td>56.0</td>\n",
       "      <td>47.0</td>\n",
       "      <td>(0.0, 0.0, 0.0, 0.0, 0.0, 0.0, 0.0, 0.0, 0.0, ...</td>\n",
       "      <td>(0.0, 0.0, 0.0, 0.0, 0.0, 0.0, 0.0, 0.0, 0.0, ...</td>\n",
       "      <td>(0.0, 0.0, 0.0, 0.0, 0.0, 0.0, 0.0, 0.0, 0.0, ...</td>\n",
       "      <td>(0.0, 0.0, 0.0, 0.0, 0.0, 0.0, 0.0, 0.0, 0.0, ...</td>\n",
       "      <td>[18.0, 6.0, 155.0, 728.0]</td>\n",
       "      <td>[1.9111500090610631, 0.16101750155005543, 2.10...</td>\n",
       "      <td>(0.0, 0.0, 0.0, 0.0, 0.0, 0.0, 0.0, 0.0, 0.0, ...</td>\n",
       "      <td>0.157185</td>\n",
       "    </tr>\n",
       "    <tr>\n",
       "      <th>9</th>\n",
       "      <td>2009-01-01</td>\n",
       "      <td>9E</td>\n",
       "      <td>2170</td>\n",
       "      <td>PIT</td>\n",
       "      <td>DTW</td>\n",
       "      <td>956</td>\n",
       "      <td>1016.0</td>\n",
       "      <td>20.0</td>\n",
       "      <td>9.0</td>\n",
       "      <td>1025.0</td>\n",
       "      <td>...</td>\n",
       "      <td>47.0</td>\n",
       "      <td>9.0</td>\n",
       "      <td>(0.0, 0.0, 0.0, 0.0, 0.0, 0.0, 0.0, 0.0, 0.0, ...</td>\n",
       "      <td>(0.0, 0.0, 0.0, 0.0, 0.0, 0.0, 0.0, 0.0, 0.0, ...</td>\n",
       "      <td>(0.0, 0.0, 0.0, 0.0, 0.0, 0.0, 0.0, 0.0, 0.0, ...</td>\n",
       "      <td>(0.0, 0.0, 0.0, 0.0, 0.0, 0.0, 0.0, 0.0, 0.0, ...</td>\n",
       "      <td>[9.0, 20.0, 76.0, 201.0]</td>\n",
       "      <td>[0.9555750045305316, 0.5367250051668514, 1.032...</td>\n",
       "      <td>(0.0, 0.0, 0.0, 0.0, 0.0, 0.0, 0.0, 0.0, 0.0, ...</td>\n",
       "      <td>8.707364</td>\n",
       "    </tr>\n",
       "  </tbody>\n",
       "</table>\n",
       "<p>10 rows × 30 columns</p>\n",
       "</div>"
      ],
      "text/plain": [
       "     FL_DATE OP_CARRIER  OP_CARRIER_FL_NUM ORIGIN DEST  CRS_DEP_TIME  \\\n",
       "0 2009-01-01         9E               2108    OKC  MSP           700   \n",
       "1 2009-01-01         9E               2115    MSP  ALO          2245   \n",
       "2 2009-01-01         9E               2120    STL  MSP          1610   \n",
       "3 2009-01-01         9E               2125    MSP  CLE          1015   \n",
       "4 2009-01-01         9E               2138    SAT  IND          1915   \n",
       "5 2009-01-01         9E               2143    CMX  MSP           545   \n",
       "6 2009-01-01         9E               2149    MSP  GRB          1259   \n",
       "7 2009-01-01         9E               2156    AZO  MSP           710   \n",
       "8 2009-01-01         9E               2168    BDL  IND          1620   \n",
       "9 2009-01-01         9E               2170    PIT  DTW           956   \n",
       "\n",
       "   DEP_TIME  DEP_DELAY  TAXI_OUT  WHEELS_OFF  ...  ORIGINIndex  DESTIndex  \\\n",
       "0     650.0      -10.0      15.0       705.0  ...         61.0       11.0   \n",
       "1    2245.0        0.0      31.0      2316.0  ...         11.0      316.0   \n",
       "2    1552.0      -18.0       7.0      1559.0  ...         29.0       11.0   \n",
       "3    1014.0       -1.0      23.0      1037.0  ...         11.0       40.0   \n",
       "4    1916.0        1.0      14.0      1930.0  ...         43.0       47.0   \n",
       "5     550.0        5.0      17.0       607.0  ...        262.0       11.0   \n",
       "6    1259.0        0.0      11.0      1310.0  ...         11.0      119.0   \n",
       "7     711.0        1.0      19.0       730.0  ...        183.0       11.0   \n",
       "8    1626.0        6.0      18.0      1644.0  ...         56.0       47.0   \n",
       "9    1016.0       20.0       9.0      1025.0  ...         47.0        9.0   \n",
       "\n",
       "                                       OP_CARRIEROHE  \\\n",
       "0  (0.0, 0.0, 0.0, 0.0, 0.0, 0.0, 0.0, 0.0, 0.0, ...   \n",
       "1  (0.0, 0.0, 0.0, 0.0, 0.0, 0.0, 0.0, 0.0, 0.0, ...   \n",
       "2  (0.0, 0.0, 0.0, 0.0, 0.0, 0.0, 0.0, 0.0, 0.0, ...   \n",
       "3  (0.0, 0.0, 0.0, 0.0, 0.0, 0.0, 0.0, 0.0, 0.0, ...   \n",
       "4  (0.0, 0.0, 0.0, 0.0, 0.0, 0.0, 0.0, 0.0, 0.0, ...   \n",
       "5  (0.0, 0.0, 0.0, 0.0, 0.0, 0.0, 0.0, 0.0, 0.0, ...   \n",
       "6  (0.0, 0.0, 0.0, 0.0, 0.0, 0.0, 0.0, 0.0, 0.0, ...   \n",
       "7  (0.0, 0.0, 0.0, 0.0, 0.0, 0.0, 0.0, 0.0, 0.0, ...   \n",
       "8  (0.0, 0.0, 0.0, 0.0, 0.0, 0.0, 0.0, 0.0, 0.0, ...   \n",
       "9  (0.0, 0.0, 0.0, 0.0, 0.0, 0.0, 0.0, 0.0, 0.0, ...   \n",
       "\n",
       "                                OP_CARRIER_FL_NUMOHE  \\\n",
       "0  (0.0, 0.0, 0.0, 0.0, 0.0, 0.0, 0.0, 0.0, 0.0, ...   \n",
       "1  (0.0, 0.0, 0.0, 0.0, 0.0, 0.0, 0.0, 0.0, 0.0, ...   \n",
       "2  (0.0, 0.0, 0.0, 0.0, 0.0, 0.0, 0.0, 0.0, 0.0, ...   \n",
       "3  (0.0, 0.0, 0.0, 0.0, 0.0, 0.0, 0.0, 0.0, 0.0, ...   \n",
       "4  (0.0, 0.0, 0.0, 0.0, 0.0, 0.0, 0.0, 0.0, 0.0, ...   \n",
       "5  (0.0, 0.0, 0.0, 0.0, 0.0, 0.0, 0.0, 0.0, 0.0, ...   \n",
       "6  (0.0, 0.0, 0.0, 0.0, 0.0, 0.0, 0.0, 0.0, 0.0, ...   \n",
       "7  (0.0, 0.0, 0.0, 0.0, 0.0, 0.0, 0.0, 0.0, 0.0, ...   \n",
       "8  (0.0, 0.0, 0.0, 0.0, 0.0, 0.0, 0.0, 0.0, 0.0, ...   \n",
       "9  (0.0, 0.0, 0.0, 0.0, 0.0, 0.0, 0.0, 0.0, 0.0, ...   \n",
       "\n",
       "                                           ORIGINOHE  \\\n",
       "0  (0.0, 0.0, 0.0, 0.0, 0.0, 0.0, 0.0, 0.0, 0.0, ...   \n",
       "1  (0.0, 0.0, 0.0, 0.0, 0.0, 0.0, 0.0, 0.0, 0.0, ...   \n",
       "2  (0.0, 0.0, 0.0, 0.0, 0.0, 0.0, 0.0, 0.0, 0.0, ...   \n",
       "3  (0.0, 0.0, 0.0, 0.0, 0.0, 0.0, 0.0, 0.0, 0.0, ...   \n",
       "4  (0.0, 0.0, 0.0, 0.0, 0.0, 0.0, 0.0, 0.0, 0.0, ...   \n",
       "5  (0.0, 0.0, 0.0, 0.0, 0.0, 0.0, 0.0, 0.0, 0.0, ...   \n",
       "6  (0.0, 0.0, 0.0, 0.0, 0.0, 0.0, 0.0, 0.0, 0.0, ...   \n",
       "7  (0.0, 0.0, 0.0, 0.0, 0.0, 0.0, 0.0, 0.0, 0.0, ...   \n",
       "8  (0.0, 0.0, 0.0, 0.0, 0.0, 0.0, 0.0, 0.0, 0.0, ...   \n",
       "9  (0.0, 0.0, 0.0, 0.0, 0.0, 0.0, 0.0, 0.0, 0.0, ...   \n",
       "\n",
       "                                             DESTOHE  \\\n",
       "0  (0.0, 0.0, 0.0, 0.0, 0.0, 0.0, 0.0, 0.0, 0.0, ...   \n",
       "1  (0.0, 0.0, 0.0, 0.0, 0.0, 0.0, 0.0, 0.0, 0.0, ...   \n",
       "2  (0.0, 0.0, 0.0, 0.0, 0.0, 0.0, 0.0, 0.0, 0.0, ...   \n",
       "3  (0.0, 0.0, 0.0, 0.0, 0.0, 0.0, 0.0, 0.0, 0.0, ...   \n",
       "4  (0.0, 0.0, 0.0, 0.0, 0.0, 0.0, 0.0, 0.0, 0.0, ...   \n",
       "5  (0.0, 0.0, 0.0, 0.0, 0.0, 0.0, 0.0, 0.0, 0.0, ...   \n",
       "6  (0.0, 0.0, 0.0, 0.0, 0.0, 0.0, 0.0, 0.0, 0.0, ...   \n",
       "7  (0.0, 0.0, 0.0, 0.0, 0.0, 0.0, 0.0, 0.0, 0.0, ...   \n",
       "8  (0.0, 0.0, 0.0, 0.0, 0.0, 0.0, 0.0, 0.0, 0.0, ...   \n",
       "9  (0.0, 0.0, 0.0, 0.0, 0.0, 0.0, 0.0, 0.0, 0.0, ...   \n",
       "\n",
       "                      features  \\\n",
       "0  [15.0, -10.0, 135.0, 695.0]   \n",
       "1     [31.0, 0.0, 58.0, 166.0]   \n",
       "2   [7.0, -18.0, 110.0, 449.0]   \n",
       "3   [23.0, -1.0, 117.0, 622.0]   \n",
       "4    [14.0, 1.0, 164.0, 986.0]   \n",
       "5     [17.0, 5.0, 82.0, 277.0]   \n",
       "6     [11.0, 0.0, 70.0, 252.0]   \n",
       "7    [19.0, 1.0, 108.0, 426.0]   \n",
       "8    [18.0, 6.0, 155.0, 728.0]   \n",
       "9     [9.0, 20.0, 76.0, 201.0]   \n",
       "\n",
       "                                     features_scaled  \\\n",
       "0  [1.592625007550886, -0.2683625025834257, 1.834...   \n",
       "1  [3.2914250156051645, 0.0, 0.7881109483871731, ...   \n",
       "2  [0.7432250035237469, -0.4830525046501663, 1.49...   \n",
       "3  [2.4420250115780253, -0.026836250258342572, 1....   \n",
       "4  [1.4864500070474937, 0.026836250258342572, 2.2...   \n",
       "5  [1.8049750085576708, 0.13418125129171285, 1.11...   \n",
       "6  [1.1679250055373165, 0.0, 0.9511683859845192, ...   \n",
       "7  [2.0173250095644555, 0.026836250258342572, 1.4...   \n",
       "8  [1.9111500090610631, 0.16101750155005543, 2.10...   \n",
       "9  [0.9555750045305316, 0.5367250051668514, 1.032...   \n",
       "\n",
       "                                     features_vector  prediction  \n",
       "0  (0.0, 0.0, 0.0, 0.0, 0.0, 0.0, 0.0, 0.0, 0.0, ...  -15.030487  \n",
       "1  (0.0, 0.0, 0.0, 0.0, 0.0, 0.0, 0.0, 0.0, 0.0, ...    9.436105  \n",
       "2  (0.0, 0.0, 0.0, 0.0, 0.0, 0.0, 0.0, 0.0, 0.0, ...  -29.290478  \n",
       "3  (0.0, 0.0, 0.0, 0.0, 0.0, 0.0, 0.0, 0.0, 0.0, ...   -5.115942  \n",
       "4  (0.0, 0.0, 0.0, 0.0, 0.0, 0.0, 0.0, 0.0, 0.0, ...   -6.717591  \n",
       "5  (0.0, 0.0, 0.0, 0.0, 0.0, 0.0, 0.0, 0.0, 0.0, ...    1.606369  \n",
       "6  (0.0, 0.0, 0.0, 0.0, 0.0, 0.0, 0.0, 0.0, 0.0, ...  -10.853533  \n",
       "7  (0.0, 0.0, 0.0, 0.0, 0.0, 0.0, 0.0, 0.0, 0.0, ...   -2.881877  \n",
       "8  (0.0, 0.0, 0.0, 0.0, 0.0, 0.0, 0.0, 0.0, 0.0, ...    0.157185  \n",
       "9  (0.0, 0.0, 0.0, 0.0, 0.0, 0.0, 0.0, 0.0, 0.0, ...    8.707364  \n",
       "\n",
       "[10 rows x 30 columns]"
      ]
     },
     "execution_count": 26,
     "metadata": {},
     "output_type": "execute_result"
    }
   ],
   "source": [
    "preds.limit(10).toPandas()"
   ]
  },
  {
   "cell_type": "code",
   "execution_count": 27,
   "id": "d446574c-77f1-4cff-a4ca-c56769d0ec52",
   "metadata": {},
   "outputs": [],
   "source": [
    "rmse = RegressionEvaluator(labelCol = 'ARR_DELAY',\n",
    "                           metricName = 'rmse').evaluate(preds)"
   ]
  },
  {
   "cell_type": "code",
   "execution_count": 28,
   "id": "53799cec-de58-4f2e-ba5e-780c12d0fcc1",
   "metadata": {},
   "outputs": [
    {
     "name": "stdout",
     "output_type": "stream",
     "text": [
      "RMSEof Prediction on test set: 10.060889556975196\n"
     ]
    }
   ],
   "source": [
    "print(\"RMSEof Prediction on test set:\", rmse)"
   ]
  },
  {
   "cell_type": "code",
   "execution_count": 32,
   "id": "fe2ab8e7-ce4e-480d-88f3-e4369eef0cb3",
   "metadata": {},
   "outputs": [],
   "source": [
    "results = []\n",
    "results.append({\"run\": 1,\n",
    "                \"rmse\": rmse,\n",
    "                \"model\": \"LinearRegression\",\n",
    "                \"params\": \"maxIter = 5, solver = 'auto', labelCol = 'ARR_DELAY', featuresCol = 'features_vector', elasticNetParam = 0.2, regParam = 0.02\"})"
   ]
  },
  {
   "cell_type": "code",
   "execution_count": 29,
   "id": "68a6b8bd-18ec-4de9-bc26-32da229db7a0",
   "metadata": {},
   "outputs": [
    {
     "data": {
      "text/plain": [
       "54425644"
      ]
     },
     "execution_count": 29,
     "metadata": {},
     "output_type": "execute_result"
    }
   ],
   "source": [
    "df_final.drop(*take_off_leak)\\\n",
    "                      .filter(df_final.CANCELLED == 0)\\\n",
    "                      .filter(df_final.DIVERTED == 0)\\\n",
    "                      .filter(df_final.CRS_ARR_TIME.isNotNull())\\\n",
    "                      .filter(df_final.ARR_DELAY.isNotNull())\\\n",
    "                      .filter(df_final.DEP_DELAY.isNotNull()).count()"
   ]
  }
 ],
 "metadata": {
  "kernelspec": {
   "display_name": "Python 3 (ipykernel)",
   "language": "python",
   "name": "python3"
  },
  "language_info": {
   "codemirror_mode": {
    "name": "ipython",
    "version": 3
   },
   "file_extension": ".py",
   "mimetype": "text/x-python",
   "name": "python",
   "nbconvert_exporter": "python",
   "pygments_lexer": "ipython3",
   "version": "3.10.8"
  }
 },
 "nbformat": 4,
 "nbformat_minor": 5
}
