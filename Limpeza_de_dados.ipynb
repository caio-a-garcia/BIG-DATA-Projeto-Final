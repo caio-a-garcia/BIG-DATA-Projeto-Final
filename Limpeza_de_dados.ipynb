{
 "cells": [
  {
   "cell_type": "markdown",
   "id": "6a7fb6cb-900f-4325-a6fe-decafafc3c67",
   "metadata": {
    "tags": []
   },
   "source": [
    "# Projeto Final "
   ]
  },
  {
   "cell_type": "markdown",
   "id": "964497e2-4152-40e9-b5a7-84450252b2d0",
   "metadata": {
    "tags": []
   },
   "source": [
    "## Setup"
   ]
  },
  {
   "cell_type": "code",
   "execution_count": null,
   "id": "2854547a-e80f-4de4-ac03-d7d9e06d6c87",
   "metadata": {},
   "outputs": [],
   "source": [
    "from pyspark.sql import functions as sf\n",
    "import pyspark.sql.functions as f\n",
    "\n",
    "# Modeling\n",
    "from pyspark.ml.feature import VectorAssembler, StandardScaler\n",
    "from pyspark.ml.feature import OneHotEncoder, StringIndexer\n",
    "from pyspark.ml.regression import LinearRegression\n",
    "from pyspark.ml import Pipeline\n",
    "from pyspark.ml.tuning import CrossValidator, ParamGridBuilder\n",
    "from pyspark.ml.evaluation import RegressionEvaluator"
   ]
  },
  {
   "cell_type": "code",
   "execution_count": null,
   "id": "f0f50d82-2f20-43c3-85d2-5ec0fd8a945a",
   "metadata": {},
   "outputs": [],
   "source": [
    "## Bibliotecas Gráficas\n",
    "import seaborn as sns\n",
    "import matplotlib.pyplot as plt"
   ]
  },
  {
   "cell_type": "code",
   "execution_count": null,
   "id": "d70a5d8b-d4bb-4a4b-9a54-25da8ffc838a",
   "metadata": {},
   "outputs": [],
   "source": [
    "# Criar a sessao do Spark\n",
    "from pyspark.sql import SparkSession\n",
    "spark = SparkSession \\\n",
    "            .builder \\\n",
    "            .master(\"local[4]\") \\\n",
    "            .appName(\"nyc_caio_garcia\") \\\n",
    "            .config(\"spark.jars.packages\", \"org.apache.hadoop:hadoop-azure:3.3.4,com.microsoft.azure:azure-storage:8.6.6\") \\\n",
    "            .getOrCreate()"
   ]
  },
  {
   "cell_type": "code",
   "execution_count": null,
   "id": "1a7d4876-0f97-4e38-a005-5d4023a78348",
   "metadata": {},
   "outputs": [],
   "source": [
    "# Acesso aos dados na nuvem\n",
    "STORAGE_ACCOUNT = 'dlspadseastusprod'\n",
    "CONTAINER = 'big-data-comp-nuvem'\n",
    "FOLDER = 'airline-delay'\n",
    "TOKEN = 'lSuH4ZI9BhOFEhCF/7ZQbrpPBIhgtLcPDfXjJ8lMxQZjaADW4p6tcmiZGDX9u05o7FqSE2t9d2RD+ASt0YFG8g=='\n",
    "\n",
    "spark.conf.set(\"fs.azure.account.key.\" + STORAGE_ACCOUNT + \".blob.core.windows.net\", TOKEN)"
   ]
  },
  {
   "cell_type": "markdown",
   "id": "1f6c76c8-4ac8-4658-8f17-039cb3d4a8ca",
   "metadata": {
    "tags": []
   },
   "source": [
    "### Schema\n",
    "Schema definido de acordo com o dicionário de dados em `projeto_final_dicionário.xlsx`"
   ]
  },
  {
   "cell_type": "code",
   "execution_count": null,
   "id": "fe7e09a0-9c71-4b06-a8ff-038b37d8b6ef",
   "metadata": {},
   "outputs": [],
   "source": [
    "from pyspark.sql.types import *\n",
    "\n",
    "labels = (('FL_DATE', TimestampType()),\n",
    "          ('OP_CARRIER', StringType()),\n",
    "          ('OP_CARRIER_FL_NUM', IntegerType()),\n",
    "          ('ORIGIN', StringType()),\n",
    "          ('DEST', StringType()),\n",
    "          ('CRS_DEP_TIME', IntegerType()),\n",
    "          ('DEP_TIME', FloatType()),\n",
    "          ('DEP_DELAY', FloatType()),\n",
    "          ('TAXI_OUT', FloatType()),\n",
    "          ('WHEELS_OFF', FloatType()),\n",
    "          ('WHEELS_ON', FloatType()),\n",
    "          ('TAXI_IN', FloatType()),\n",
    "          ('CRS_ARR_TIME', IntegerType()),\n",
    "          ('ARR_TIME', FloatType()),\n",
    "          ('ARR_DELAY', FloatType()),\n",
    "          ('CANCELLED', FloatType()),\n",
    "          ('CANCELLATION_CODE', StringType()),\n",
    "          ('DIVERTED', FloatType()),\n",
    "          ('CRS_ELAPSED_TIME', FloatType()),\n",
    "          ('ACTUAL_ELAPSED_TIME', FloatType()),\n",
    "          ('AIR_TIME', FloatType()),\n",
    "          ('DISTANCE', FloatType()),\n",
    "          ('CARRIER_DELAY', FloatType()),\n",
    "          ('WEATHER_DELAY', FloatType()),\n",
    "          ('NAS_DELAY', FloatType()),\n",
    "          ('SECURITY_DELAY', FloatType()),\n",
    "          ('LATE_AIRCRAFT_DELAY', StringType()))\n",
    "\n",
    "schema = StructType([StructField(x[0], x[1], True) for x in labels])"
   ]
  },
  {
   "cell_type": "code",
   "execution_count": null,
   "id": "30a50626-1dfc-45a0-9a6c-5a20fc41d1eb",
   "metadata": {},
   "outputs": [],
   "source": [
    "# Columns with values in minutes\n",
    "minute_columns = [\"TAXI_OUT\",\"TAXI_IN\",\"DEP_DELAY\",\"ARR_DELAY\",\"AIR_TIME\",\"CRS_ELAPSED_TIME\",\"ACTUAL_ELAPSED_TIME\",\n",
    "                  \"CARRIER_DELAY\",\"WEATHER_DELAY\",\"NAS_DELAY\",\"SECURITY_DELAY\",\"LATE_AIRCRAFT_DELAY\"]\n",
    "\n",
    "# Subset from minute columns with no data leak from moment of take off\n",
    "clean_min_columns = [\"TAXI_OUT\", \"DEP_DELAY\", \"CRS_ELAPSED_TIME\"]\n",
    "\n",
    "# Columns with time information on format 'hhmm'\n",
    "# Not proper for numerical manipulation\n",
    "odd_format_columns = [\"CRS_DEP_TIME\",\"DEP_TIME\",\"WHEELS_OFF\",\"WHEELS_ON\",\"ARR_TIME\",\"CRS_ARR_TIME\"]"
   ]
  },
  {
   "cell_type": "markdown",
   "id": "45c4b10f-534e-4543-baf4-b157d802e015",
   "metadata": {},
   "source": [
    "### Carregamento de dados\n",
    "Dados carregados da nuvem como spark data frame"
   ]
  },
  {
   "cell_type": "markdown",
   "id": "9b363da8-9ca0-46cc-a2ae-51c55a181092",
   "metadata": {},
   "source": [
    "Exemplo para o ano de 2009:"
   ]
  },
  {
   "cell_type": "code",
   "execution_count": null,
   "id": "53cbc885-775c-4991-ae70-8a2995b227e6",
   "metadata": {},
   "outputs": [],
   "source": [
    "config = spark.sparkContext._jsc.hadoopConfiguration()\n",
    "config.set(\"fs.azure.account.key.\" + STORAGE_ACCOUNT + \".blob.core.windows.net\", TOKEN)\n",
    "sc = spark.sparkContext\n",
    "\n",
    "df_exemple = spark.read.csv(\"wasbs://{}@{}.blob.core.windows.net/{}/2009.csv\"\\\n",
    "                  .format(CONTAINER, STORAGE_ACCOUNT, FOLDER), header=True, schema=schema)\n",
    "df_exemple.take(2)"
   ]
  },
  {
   "cell_type": "markdown",
   "id": "8928cef2-a684-4438-a0a1-2e6a28268118",
   "metadata": {},
   "source": [
    "Como temos dados para os anos de 2009 até o ano de 2018. Iremos criar um dicionario contendo os dataframes de cada ano separadamente. "
   ]
  },
  {
   "cell_type": "code",
   "execution_count": null,
   "id": "db663578-2344-45e7-b16f-f6cc528516ff",
   "metadata": {},
   "outputs": [],
   "source": [
    "# Criando dicionario de dataframes\n",
    "df_for_year = {}\n",
    "\n",
    "# Loop lendo arquivo de cada ano e salvando no dicionario\n",
    "for year in range(2009, 2019):\n",
    "    # Ajustando o caminho\n",
    "    file_path = \"wasbs://{}@{}.blob.core.windows.net/{}/{}.csv\"\\\n",
    "                    .format(CONTAINER, STORAGE_ACCOUNT, FOLDER, year)\n",
    "    \n",
    "    # lendo arquivo csv \n",
    "    df_name = \"df_{}\".format(year)\n",
    "    df = spark.read.csv(file_path, header=True, schema=schema)\n",
    "    \n",
    "    # Adicionando df ao dicionario de dataframes \n",
    "    df_for_year[df_name] = df\n",
    "    \n",
    "\n",
    "# Visualizando as primeiras linhas de 2012\n",
    "df_for_year[\"df_2012\"].take(5)"
   ]
  },
  {
   "cell_type": "markdown",
   "id": "dca9d793-c5d2-40f8-a333-6efbaa41d1bc",
   "metadata": {},
   "source": [
    "Com todos os dataframes pré-importados(lazy) podemos realizar um merge unindo todos os anos."
   ]
  },
  {
   "cell_type": "code",
   "execution_count": null,
   "id": "31132514-807e-4e85-9f0f-bf3cb30ec720",
   "metadata": {},
   "outputs": [],
   "source": [
    "# Importando função reduce para realizar o merge\n",
    "from functools import reduce "
   ]
  },
  {
   "cell_type": "code",
   "execution_count": null,
   "id": "6d1d973a-fdd4-4d4d-be60-8ce34974b628",
   "metadata": {},
   "outputs": [],
   "source": [
    "# União de todos os DataFrames em um único Data frame\n",
    "df_final = reduce(sf.DataFrame.union, df_for_year.values())\n",
    "\n",
    "# Criando a coluna \"year\" baseada na coluna \"date\"\n",
    "df_final = df_final.withColumn(\"year\", sf.year(\"FL_DATE\"))\n",
    "\n",
    "# Exibindo as primeiras linhas\n",
    "df_final.take(10)"
   ]
  },
  {
   "cell_type": "markdown",
   "id": "bc098521-84bb-4c1e-a93b-1ca635776b06",
   "metadata": {},
   "source": [
    "Assim, temos o dataframe com todos os anos."
   ]
  },
  {
   "cell_type": "markdown",
   "id": "6cae2635-ecb0-4bc8-8b2c-406e3c8ca004",
   "metadata": {},
   "source": [
    "Criando um cahce do df_final para acelerar o processamento dos dados."
   ]
  },
  {
   "cell_type": "code",
   "execution_count": null,
   "id": "c4936a7a-d942-4f28-8b66-acbbc743f4d9",
   "metadata": {},
   "outputs": [],
   "source": [
    "df_final.cache()"
   ]
  },
  {
   "cell_type": "code",
   "execution_count": null,
   "id": "3719918f-1480-47fa-a516-f60b7ff55b8f",
   "metadata": {},
   "outputs": [],
   "source": [
    "OBSERVACOES = df_final.count()\n",
    "assert (OBSERVACOES == 61556964)"
   ]
  },
  {
   "cell_type": "code",
   "execution_count": null,
   "id": "e4990d5a-7dcd-4586-ab03-a71bb63bd77a",
   "metadata": {},
   "outputs": [],
   "source": [
    "OBSERVACOES"
   ]
  },
  {
   "cell_type": "markdown",
   "id": "c2a63038-6084-4b33-be5d-e91df607d041",
   "metadata": {},
   "source": [
    "A base contem 61556964 observações."
   ]
  },
  {
   "cell_type": "code",
   "execution_count": null,
   "id": "d9b5dc9f-3802-4a9a-bbfc-2a60220d732f",
   "metadata": {},
   "outputs": [],
   "source": [
    "CANCELAMENTOS = df_final.filter(df_final.CANCELLED == 1).count()\n",
    "assert (CANCELAMENTOS == 973209)"
   ]
  },
  {
   "cell_type": "code",
   "execution_count": null,
   "id": "3c8278bc-cfbb-4cc9-8c0f-bfd61a3b2a03",
   "metadata": {},
   "outputs": [],
   "source": [
    "CANCELAMENTOS"
   ]
  },
  {
   "cell_type": "markdown",
   "id": "b6ac7e42-65d2-477c-890a-c6add97f2ee5",
   "metadata": {},
   "source": [
    "Dos voos na base, 973209 foram cancelados."
   ]
  },
  {
   "cell_type": "markdown",
   "id": "d3310590-09b3-4fed-be80-3d90b2a311d4",
   "metadata": {
    "tags": []
   },
   "source": [
    "## Tratamento de dados faltantes"
   ]
  },
  {
   "cell_type": "markdown",
   "id": "de608229-774c-4f14-be45-7b48fdc1f298",
   "metadata": {},
   "source": [
    "Nesta etapa será realizada uma ánalise de valores nulos em cada variavel preditora."
   ]
  },
  {
   "cell_type": "markdown",
   "id": "bf07a3be-4412-4013-9ee6-0f8abd3995e3",
   "metadata": {
    "tags": []
   },
   "source": [
    "### Resumo Geral"
   ]
  },
  {
   "cell_type": "markdown",
   "id": "bb3a67c4-7635-4391-92ae-2af56d64fcbe",
   "metadata": {},
   "source": [
    "Primeiramente iremos ánalisar a quantidade de valores nulos por coluna."
   ]
  },
  {
   "cell_type": "code",
   "execution_count": null,
   "id": "e1d7d23b-f9ae-4234-adb2-ad02682b9c86",
   "metadata": {
    "tags": []
   },
   "outputs": [],
   "source": [
    "# Agrupando e calculando o numero de valores nulos por coluna\n",
    "missing_counts = df_final.select([sf.col(column).isNull().cast(\"int\").alias(column) for column in df_final.columns]) \\\n",
    "                         .groupBy() \\\n",
    "                         .sum()"
   ]
  },
  {
   "cell_type": "code",
   "execution_count": null,
   "id": "ea7a7f14-7c6f-4abe-97bd-39286d92b574",
   "metadata": {},
   "outputs": [],
   "source": [
    "# Criando dataframe de colunas com valores zerados\n",
    "missing_counts_df = missing_counts.toPandas().transpose()\n",
    "\n",
    "# Filtrando apenas colunas com valores nulos\n",
    "missing_counts_df = missing_counts_df[missing_counts_df[0]>0]\n",
    "\n",
    "# Renomeando a coluna\n",
    "missing_counts_df = missing_counts_df.rename(columns={0:\"nulos\"})"
   ]
  },
  {
   "cell_type": "code",
   "execution_count": null,
   "id": "0b325c38-832c-4dc9-8fe5-d8de9a3d1c9c",
   "metadata": {},
   "outputs": [],
   "source": [
    "# Contando número de colunas com valores nulos\n",
    "print(\"Número de colunas com valores faltantes:\")\n",
    "missing_counts_df.count()[0]"
   ]
  },
  {
   "cell_type": "code",
   "execution_count": null,
   "id": "baf58e19-0c22-44ab-b37b-95e57606e972",
   "metadata": {},
   "outputs": [],
   "source": [
    "# Cálculando porcentagem de valores faltantes\n",
    "missing_counts_df[\"%nulos\"] = (missing_counts_df[\"nulos\"]/OBSERVACOES) * 100\n",
    "\n",
    "# Ordenando por % de nulos\n",
    "missing_counts_df = missing_counts_df.sort_values(\"%nulos\", ascending=False)\n",
    "\n",
    "# Visualizando resultados\n",
    "missing_counts_df"
   ]
  },
  {
   "cell_type": "code",
   "execution_count": null,
   "id": "22cf26e4-05c2-453a-aba2-86e1ad85c89e",
   "metadata": {},
   "outputs": [],
   "source": [
    "# Visualizando missing em gráfico de barras\n",
    "# Ajustando o tamanho da figura\n",
    "plt.figure(figsize=(10, 4))\n",
    "\n",
    "# Plotando o gráfico de barras\n",
    "sns.barplot(x=missing_counts_df.index, y=missing_counts_df[\"%nulos\"], color=\"red\")\n",
    "\n",
    "# Adicionando inclinação aos valores do eixo x\n",
    "plt.xticks(rotation=45, ha='right')\n",
    "\n",
    "# Adicionando título e rótulos aos eixos\n",
    "plt.title('Gráfico de Barras')\n",
    "plt.xlabel(\"Colunas\")\n",
    "plt.ylabel(\"%Nulos\")\n",
    "\n",
    "# Exibindo o gráfico\n",
    "plt.show()"
   ]
  },
  {
   "cell_type": "markdown",
   "id": "af671042-0f07-41b5-b5d1-a369839954a5",
   "metadata": {},
   "source": [
    "Conforme evidenciado no gráfico apresentado, nota-se que a coluna \"CANCELLATION_CODE\" exibe uma lacuna em praticamente 100% dos dados, enquanto as colunas \"LATE_AIRCRAFT_DELAY\", \"NAS_DELAY\", \"WEATHER_DELAY\", \"CARRIER_DELAY\" e \"SECURITY_DELAY\" apresentam uma ausência de informações em torno de 80%.\n",
    "\n",
    "Das 27 colunas na base de dados, 19 tem valores faltantes. Para compreender melhor o impacto desses valores nulos, iremos dividir esta ánalise em grupos: _Cancelamentos_, _Voo_ e _Atrasos_"
   ]
  },
  {
   "cell_type": "markdown",
   "id": "fc26e98d-433c-47c9-aec0-c7e4b57890af",
   "metadata": {
    "tags": []
   },
   "source": [
    "### Cancelamentos"
   ]
  },
  {
   "cell_type": "markdown",
   "id": "cd01a6d1-d1b3-4e3c-8cc7-eae574f9f466",
   "metadata": {},
   "source": [
    "Dentre as colunas que indicam se o voo foi cancelado, temos a coluna CANCELLATION_CODE e CANCELLED. Nesta etapa iremos verificar se essas volunas possuem valores nulos iguais, em outras palavras, se o código descrito na coluna CANCELLATION_CODE corresponde aos voos demarcados como cancelados na coluna CANCELLED."
   ]
  },
  {
   "cell_type": "code",
   "execution_count": null,
   "id": "bf163363-ebbf-4e68-a7b9-d50a267947ef",
   "metadata": {},
   "outputs": [],
   "source": [
    "try:\n",
    "    assert (df_final.filter((df_final.CANCELLATION_CODE.isNull()) &\n",
    "                            (df_final.CANCELLED == 0)).count() ==\n",
    "            df_final.filter(df_final.CANCELLED == 0).count())\n",
    "    print(\"Igualdade atendida\")\n",
    "except AssertionError:\n",
    "    print(\"Igualdade não atendida\")"
   ]
  },
  {
   "cell_type": "markdown",
   "id": "8a2c1b4a-9691-4607-a1ce-ce68c690819f",
   "metadata": {},
   "source": [
    "Todos os valores faltantes de CANCELLATION_CODE são referentes a voos que não foram cancelados."
   ]
  },
  {
   "cell_type": "markdown",
   "id": "fc33922d-d997-47dd-a4df-fb7e779afa17",
   "metadata": {
    "tags": []
   },
   "source": [
    "### Voo"
   ]
  },
  {
   "cell_type": "markdown",
   "id": "2c30c9b7-b66d-4010-b4ef-c7d5632412cb",
   "metadata": {},
   "source": [
    "O grupo _Voo_ apresenta uma relação entre voos cancelados e as 7 variáveis:\n",
    " - DEP_TIME\n",
    " - DEP_DELAY\n",
    " - TAXI_OUT\n",
    " - WHEELS_OFF\n",
    " - WHEELS_ON\n",
    " - TAXI_IN\n",
    " - ARR_TIME"
   ]
  },
  {
   "cell_type": "markdown",
   "id": "b1e02169-1998-49cd-8767-cf2530808c3f",
   "metadata": {
    "tags": []
   },
   "source": [
    "#### Testes"
   ]
  },
  {
   "cell_type": "markdown",
   "id": "2a91991c-3539-41b4-acb7-6f61c171bff4",
   "metadata": {},
   "source": [
    "`DEP_TIME` e `DEP_DELAY`: co-ausentes, em todos os voos cancelados"
   ]
  },
  {
   "cell_type": "markdown",
   "id": "f7016674-dba8-4fba-8490-e6e0695b3b04",
   "metadata": {},
   "source": [
    "O primeiro teste realizado será conferindo se as colunas DEP_TIME, DEP_DELAY, TAXI_OUT, WHEELS_OFF, WHEELS_ON, TAXI_IN e ARR_TIME estão contidas dentro da coluna DEP_TIME."
   ]
  },
  {
   "cell_type": "code",
   "execution_count": null,
   "id": "f54caca1-c6fb-4108-bf45-62f0a8883da5",
   "metadata": {},
   "outputs": [],
   "source": [
    "try:\n",
    "    assert (\n",
    "        df_final.filter(\n",
    "            (df_final.DEP_TIME.isNull()) &\n",
    "            (df_final.DEP_DELAY.isNull()) &\n",
    "            (df_final.TAXI_OUT.isNull()) &\n",
    "            (df_final.WHEELS_OFF.isNull()) &\n",
    "            (df_final.WHEELS_ON.isNull()) &\n",
    "            (df_final.TAXI_IN.isNull()) &\n",
    "            (df_final.ARR_TIME.isNull())\n",
    "        ).count() ==\n",
    "        df_final.filter(df_final.DEP_TIME.isNull()).count()\n",
    "    )\n",
    "    print(\"Igualdade atendida\")\n",
    "except AssertionError:\n",
    "    print(\"Igualdade não atendida\")"
   ]
  },
  {
   "cell_type": "markdown",
   "id": "955a376c-120c-47ed-bc76-8edceffa5ff1",
   "metadata": {},
   "source": [
    "Ao rodar o código acima, concluimos que essas colunas estão contidas na coluna DEP_TIME.\n",
    "\n",
    "O próximo teste será com relação a coluna DEP_TIME e DEP_DELAY correspondem com relação ao número de linhas nulas."
   ]
  },
  {
   "cell_type": "code",
   "execution_count": null,
   "id": "d3d0fba1-2bdb-47c4-98d9-b345f4926a07",
   "metadata": {},
   "outputs": [],
   "source": [
    "try:\n",
    "    assert (df_final.filter((df_final.DEP_TIME.isNull())   &\n",
    "                            (df_final.DEP_DELAY.isNull())).count() ==\n",
    "            df_final.filter(\n",
    "                df_final.DEP_TIME.isNull()).count())\n",
    "    \n",
    "    print(\"Igualdade atendida\")\n",
    "    \n",
    "except AssertionError:\n",
    "    print(\"Igualdade não atendida\")"
   ]
  },
  {
   "cell_type": "code",
   "execution_count": null,
   "id": "822e2907-17b5-4647-95ad-521095ccecbc",
   "metadata": {},
   "outputs": [],
   "source": [
    "try:\n",
    "    assert (df_final.filter((df_final.DEP_TIME.isNull())   &\n",
    "                            (df_final.CANCELLED == 1)).count() ==\n",
    "            df_final.filter(\n",
    "                df_final.DEP_TIME.isNull()).count())\n",
    "    \n",
    "    print(\"Igualdade atendida\")\n",
    "    \n",
    "except AssertionError:\n",
    "    print(\"Igualdade não atendida\")"
   ]
  },
  {
   "cell_type": "markdown",
   "id": "49bfbca8-4e1f-4e08-8dc8-75b1cbc9ed8a",
   "metadata": {},
   "source": [
    "`TAXI_OUT` e `WHEELS_OFF`: co-ausentes e cancelados"
   ]
  },
  {
   "cell_type": "code",
   "execution_count": null,
   "id": "09a4ec27-f674-4d71-879a-b8e23fa8ac1b",
   "metadata": {},
   "outputs": [],
   "source": [
    "try:\n",
    "    assert (df_final.filter(\n",
    "                  (df_final.TAXI_OUT.isNull())   &\n",
    "                  (df_final.WHEELS_OFF.isNull()) &\n",
    "                  (df_final.WHEELS_ON.isNull())  &\n",
    "                  (df_final.TAXI_IN.isNull())    &\n",
    "                  (df_final.ARR_TIME.isNull())).count() ==\n",
    "            df_final.filter(\n",
    "                df_final.WHEELS_OFF.isNull()).count())\n",
    "    \n",
    "    print(\"Igualdade atendida\")\n",
    "    \n",
    "except AssertionError:\n",
    "    print(\"Igualdade não atendida\")"
   ]
  },
  {
   "cell_type": "code",
   "execution_count": null,
   "id": "fd5e7ff6-5c3f-4cb1-b2aa-8361b81b2f42",
   "metadata": {},
   "outputs": [],
   "source": [
    "try:\n",
    "    assert (df_final.filter((df_final.TAXI_OUT.isNull())   &\n",
    "                            (df_final.WHEELS_OFF.isNull())).count() ==\n",
    "        df_final.filter(\n",
    "            df_final.WHEELS_OFF.isNull()).count())\n",
    "    \n",
    "    print(\"Igualdade atendida\")\n",
    "    \n",
    "except AssertionError:\n",
    "    print(\"Igualdade não atendida\")\n"
   ]
  },
  {
   "cell_type": "code",
   "execution_count": null,
   "id": "5bd913d4-3138-4828-88a3-2096e267e967",
   "metadata": {},
   "outputs": [],
   "source": [
    "try:\n",
    "    assert (df_final.filter((df_final.TAXI_OUT.isNull())   &\n",
    "                            (df_final.CANCELLED == 1)).count() ==\n",
    "       df_final.filter(df_final.TAXI_OUT.isNull()).count())\n",
    "    \n",
    "    print(\"Igualdade atendida\")\n",
    "    \n",
    "except AssertionError:\n",
    "    print(\"Igualdade não atendida\")"
   ]
  },
  {
   "cell_type": "markdown",
   "id": "84094b04-bd55-4edb-997a-2a2b8d713c8f",
   "metadata": {},
   "source": [
    "`WHEELS_ON`, `TAXI_IN` e `ARR_TIME`: co-ausentes"
   ]
  },
  {
   "cell_type": "code",
   "execution_count": null,
   "id": "c143a583-4792-47d5-a1f2-73d4385092d9",
   "metadata": {},
   "outputs": [],
   "source": [
    "try:\n",
    "    assert (df_final.filter((df_final.WHEELS_ON.isNull())  &\n",
    "                            (df_final.TAXI_IN.isNull())    &\n",
    "                            (df_final.ARR_TIME.isNull())).count() ==\n",
    "        df_final.filter(\n",
    "            df_final.TAXI_IN.isNull()).count())\n",
    "    \n",
    "    print(\"Igualdade atendida\")\n",
    "    \n",
    "except AssertionError:\n",
    "    print(\"Igualdade não atendida\")"
   ]
  },
  {
   "cell_type": "code",
   "execution_count": null,
   "id": "1d6f1ef6-a9d2-4be2-9470-ee291e9e95be",
   "metadata": {},
   "outputs": [],
   "source": [
    "try:\n",
    "    assert (df_final.filter((df_final.TAXI_IN.isNull())   &\n",
    "                            (df_final.CANCELLED == 1)).count() ==\n",
    "        df_final.filter(\n",
    "            df_final.CANCELLED == 1).count())\n",
    "    \n",
    "    print(\"Igualdade atendida\")\n",
    "    \n",
    "except AssertionError:\n",
    "    print(\"Igualdade não atendida\")"
   ]
  },
  {
   "cell_type": "code",
   "execution_count": null,
   "id": "f49170ce-083a-4637-ab46-bb75417062ec",
   "metadata": {},
   "outputs": [],
   "source": [
    "try:\n",
    "    assert (df_final.filter((df_final.TAXI_IN.isNull()) &\n",
    "                            (df_final.CANCELLED == 0)   &\n",
    "                            (df_final.DIVERTED == 1)).count() ==\n",
    "        df_final.filter(\n",
    "            (df_final.TAXI_IN.isNull()) &\n",
    "            (df_final.CANCELLED == 0)).count())\n",
    "    \n",
    "    print(\"Igualdade atendida\")\n",
    "    \n",
    "except AssertionError:\n",
    "    print(\"Igualdade não atendida\")"
   ]
  },
  {
   "cell_type": "markdown",
   "id": "3e3a7142-6bbe-48d3-a3e1-84113dce5562",
   "metadata": {
    "tags": []
   },
   "source": [
    "#### Análise"
   ]
  },
  {
   "cell_type": "markdown",
   "id": "b7cedab5-fcbd-4a7e-aa6d-4dd72e0c3b23",
   "metadata": {},
   "source": [
    "O grupo _Voo_ apresenta uma relação entre voos cancelados e as 7 variáveis:\n",
    " - DEP_TIME\n",
    " - DEP_DELAY\n",
    " - TAXI_OUT\n",
    " - WHEELS_OFF\n",
    " - WHEELS_ON\n",
    " - TAXI_IN\n",
    " - ARR_TIME\n",
    " \n",
    "Os valores faltantes para WHEELS_ON, TAXI_IN e ARR_TIME coincidem nas mesmas observações (com uma exceção descrita mais abaixo). Todos os voos cancelados se encontram dentre essas observações. Os valores faltantes para TAXI_OUT e WHEELS_OFF coincidem nas mesmas observações, todas referentes a voos cancelados. Finalmente, os valores faltantes de DEP_TIME e DEP_DELAY coincidem nas mesmas observações, todas com valores faltantes para TAXI_OUT.\n",
    "\n",
    "Todos os voos que não foram cancelados mas não tem informação da hora de aterrisagem (`(df.WHEELS_ON.isNull()) & (df.CANCELLED == 0)`) foram redirecionados para um aeroporto diferente do aeroporto destino original (`df.DIVERTED == 1`)\n",
    "\n",
    "Destas relações, supomos:\n",
    " - A diferença entre DEP_TIME e WHEELS_OFF pode ser devido a voos que chegam a sair do chão antes de serem cancelados, e voos que são cancelados após o embarque mas antes da decolagem.\n",
    " - Nenhum desses valores faltantes parece implausível o suficiente para assumirmos erro nos dados baseado apenas nessa análise. Alguns desses dados podem vir a ser retirados mesmo assim por questão de propriedades dos algorítmos utilizados mais a frente."
   ]
  },
  {
   "cell_type": "markdown",
   "id": "6898560b-3e2c-428b-b518-fbd51121f92a",
   "metadata": {
    "tags": []
   },
   "source": [
    "### Atrasos"
   ]
  },
  {
   "cell_type": "markdown",
   "id": "34976d73-0eba-47dc-b073-5e7617064c4b",
   "metadata": {},
   "source": [
    "#### Testes"
   ]
  },
  {
   "cell_type": "code",
   "execution_count": null,
   "id": "67590453-4503-47e9-8b4d-a6050e5ee726",
   "metadata": {},
   "outputs": [],
   "source": [
    "try:\n",
    "    assert (df_final.filter((df_final.CANCELLED == 0) &\n",
    "                  (df_final.DEP_DELAY > 0)).count() == \n",
    "        22280599)\n",
    "    print(\"Igualdade atendida\")\n",
    "except AssertionError:\n",
    "    print(\"Igualdade não atendida\")"
   ]
  },
  {
   "cell_type": "code",
   "execution_count": null,
   "id": "848dc97e-4dcc-48c3-b393-b68056591ca5",
   "metadata": {},
   "outputs": [],
   "source": [
    "try:\n",
    "    assert (df_final.filter((df_final.CANCELLED == 0) &\n",
    "                  (df_final.ARR_DELAY > 0)).count() ==\n",
    "        22563856)\n",
    "    print(\"Igualdade atendida\")\n",
    "except AssertionError:\n",
    "    print(\"Igualdade não atendida\")\n"
   ]
  },
  {
   "cell_type": "code",
   "execution_count": null,
   "id": "360b6632-a55e-4403-8b74-4b68cef59ab2",
   "metadata": {},
   "outputs": [],
   "source": [
    "try:\n",
    "    assert (df_final.filter((df_final.CANCELLED == 0) &\n",
    "                  ((df_final.DEP_DELAY > 0) |\n",
    "                   (df_final.ARR_DELAY > 0))).count() ==\n",
    "        28817028)\n",
    "    print(\"Igualdade atendida\")\n",
    "except AssertionError:\n",
    "    print(\"Igualdade não atendida\")\n"
   ]
  },
  {
   "cell_type": "code",
   "execution_count": null,
   "id": "17d210a0-6792-4ca1-b80b-032fe3aeb81e",
   "metadata": {},
   "outputs": [],
   "source": [
    "try:\n",
    "    assert (OBSERVACOES - df_final.filter(df_final.CARRIER_DELAY.isNull()).count() ==\n",
    "        11390740)\n",
    "    print(\"Igualdade atendida\")\n",
    "except AssertionError:\n",
    "    print(\"Igualdade não atendida\")"
   ]
  },
  {
   "cell_type": "code",
   "execution_count": null,
   "id": "f63473d2-eb2c-46bb-81ea-3a16533465e8",
   "metadata": {},
   "outputs": [],
   "source": [
    "try:\n",
    "    assert (df_final.filter((df_final.CARRIER_DELAY.isNull()) &\n",
    "                  (df_final.WEATHER_DELAY.isNull()) &\n",
    "                  (df_final.NAS_DELAY.isNull()) &\n",
    "                  (df_final.SECURITY_DELAY.isNull()) &\n",
    "                  (df_final.LATE_AIRCRAFT_DELAY.isNull())).count() ==\n",
    "        df_final.filter(df_final.CARRIER_DELAY.isNull()).count())\n",
    "    print(\"Igualdade atendida\")\n",
    "except AssertionError:\n",
    "    print(\"Igualdade não atendida\")"
   ]
  },
  {
   "cell_type": "code",
   "execution_count": null,
   "id": "6bdac41c-6b88-4273-90ed-28ce5ce51ab0",
   "metadata": {},
   "outputs": [],
   "source": [
    "df_final.filter(df_final.CARRIER_DELAY == 0).select(df_final.OP_CARRIER_FL_NUM, df_final.CARRIER_DELAY).take(10)"
   ]
  },
  {
   "cell_type": "markdown",
   "id": "8a6d5baa-0389-4631-b701-4a6d89ef4e4f",
   "metadata": {},
   "source": [
    "#### Análise"
   ]
  },
  {
   "cell_type": "markdown",
   "id": "295fcc3b-629d-48c1-a863-6dc0208e31cf",
   "metadata": {},
   "source": [
    "Todos os dados faltantes referentes a categoria de atraso coincidem nas mesmas observações.\n",
    "\n",
    "Há menos observações com informação sobre a causa do atraso do que voos atrasados, independente se medindo o atraso de saída ou de chegada."
   ]
  },
  {
   "cell_type": "markdown",
   "id": "69b19f0e-bc57-4d53-9519-51dd48f1fc0e",
   "metadata": {},
   "source": [
    "### Anomalia"
   ]
  },
  {
   "cell_type": "code",
   "execution_count": null,
   "id": "40e21064-0258-41df-ba6c-06bd7d30b141",
   "metadata": {},
   "outputs": [],
   "source": [
    "try:\n",
    "    assert (df_final.filter((df_final.ACTUAL_ELAPSED_TIME.isNull()) &\n",
    "                  (df_final.AIR_TIME == 0)                &\n",
    "                  (df_final.WHEELS_ON.isNull())           &\n",
    "                  (df_final.ARR_TIME.isNull())            &\n",
    "                  (df_final.ARR_DELAY == 0)               &\n",
    "                  (df_final.TAXI_IN == 0)                 &\n",
    "                  (df_final.CANCELLED == 0)).count() == 1)\n",
    "    print(\"Igualdade atendida\")\n",
    "except AssertionError:\n",
    "    print(\"Igualdade não atendida\")"
   ]
  },
  {
   "cell_type": "markdown",
   "id": "a1001ec0-a98d-4068-b913-da7feb48ba41",
   "metadata": {},
   "source": [
    "Uma mesma observação é responsavel pela discrepância na quantidade total de valores faltantes entre WHEELS_ON, TAXI_IN e ARR_TIME, e ARR_DELAY, ACTUAL_ELAPSED_TIME e AIR_TIME.\n",
    "Um valor de `AIR_TIME == 0` nao faz sentido para um voo que não foi cancelado, e o mesmo se aplica a `TAXI_IN == 0`. Ao retirar essa observação da base, a análise de dados faltantes por grupo torna-se mais consistente."
   ]
  },
  {
   "cell_type": "markdown",
   "id": "894c57fb-b1c9-488c-a46b-fec918c75ee7",
   "metadata": {},
   "source": [
    "## Consistência\n",
    "Conferindo que os dados disponíveis de fato seguem as relações definidas no dicionário de dados."
   ]
  },
  {
   "cell_type": "code",
   "execution_count": null,
   "id": "717e20da-d461-4ca1-aed0-dad3c1c84979",
   "metadata": {},
   "outputs": [],
   "source": [
    "try:\n",
    "    assert (df_final.filter(df_final.AIR_TIME +\n",
    "                            df_final.TAXI_IN +\n",
    "                            df_final.TAXI_OUT !=\n",
    "                            df_final.ACTUAL_ELAPSED_TIME).count() == 0)\n",
    "    print(\"Igualdade atendida\")\n",
    "except AssertionError:\n",
    "    print(\"Igualdade não atendida\")"
   ]
  },
  {
   "cell_type": "code",
   "execution_count": null,
   "id": "de8cde7d-5743-4749-a9a0-37d25281d1a3",
   "metadata": {},
   "outputs": [],
   "source": [
    "try:\n",
    "    assert (df_final.filter((df_final.CANCELLED == 1) &\n",
    "                            (df_final.DIVERTED == 1)).count() == 0)\n",
    "    print(\"Igualdade atendida\")\n",
    "except AssertionError:\n",
    "    print(\"Igualdade não atendida\")"
   ]
  },
  {
   "cell_type": "code",
   "execution_count": null,
   "id": "5076c380-82e4-41a8-ac72-7e31ff76fbde",
   "metadata": {},
   "outputs": [],
   "source": [
    "try:\n",
    "    assert (df_final.filter((df_final.DEP_TIME % 1 != 0) | (df_final.DEP_DELAY % 1 != 0)).count() == 0)\n",
    "    print(\"Igualdade atendida\")\n",
    "except AssertionError:\n",
    "    print(\"Igualdade não atendida\")"
   ]
  },
  {
   "cell_type": "markdown",
   "id": "119e4df0-f302-455c-97ab-6338b78d3f7a",
   "metadata": {},
   "source": [
    "# Análise Exploratória"
   ]
  },
  {
   "cell_type": "markdown",
   "id": "2f4d6361-aafb-413c-8605-d2bef6debae3",
   "metadata": {},
   "source": [
    "Nesta etapa foi realizada uma análise exploratória dos dados que entraram na modelagem, dentre elas 4 categoricas e 4 númericas.\n",
    "\n",
    "Preditoras Númericas\n",
    "- TAXI_OUT\n",
    "- DEP_DELAY\n",
    "- CRS_ELAPSED_TIME\n",
    "- DISTANCE\n",
    "\n",
    "Preditoras Categóricas:\n",
    "- OP_CARRIER\n",
    "- OP_CARRIER_FL_NUM\n",
    "- ORIGIN\n",
    "- DEST"
   ]
  },
  {
   "cell_type": "markdown",
   "id": "f6e88716-61be-4aba-b6dd-86688a6882aa",
   "metadata": {},
   "source": [
    "### Númericas"
   ]
  },
  {
   "cell_type": "markdown",
   "id": "2c28ffd6-6f1e-400a-9f48-26ae5b7a5698",
   "metadata": {},
   "source": [
    "Nesta etapa iresmo analisar a influência e correlação entre as váriaveis númericas e a váriavel target. Como estamos trabalhando com um número elevado de linhas, não é possivel utilizar uma amostra muito significativa dos dados para plotar os gráficos de dispersão. Para contornar este problema estamos considerando 6 amostras com 5% da base e seeds distintos para plotar o gráfico de dispersão e entender a relação desta variavel "
   ]
  },
  {
   "cell_type": "code",
   "execution_count": null,
   "id": "8e4cb89b-653a-47bd-acc8-b5d143a9c27a",
   "metadata": {},
   "outputs": [],
   "source": [
    "# Criando dataframe com as duas váriaveis\n",
    "df_taxi_out_delay = df_final.select(\"TAXI_OUT\", \"ARR_DELAY\")\n",
    "\n",
    "# Lista de sementes aleatórias\n",
    "sementes_aleatorias = [42, 123, 567, 789, 999, 111]\n",
    "\n",
    "# Configurar subplots\n",
    "num_linhas = int(len(sementes_aleatorias) / 3)\n",
    "num_colunas = 3  # Você pode ajustar o número de colunas conforme necessário\n",
    "fig, axs = plt.subplots(num_linhas, num_colunas, figsize=(12,8))\n",
    "\n",
    "# Loop através das sementes\n",
    "for i, semente in enumerate(sementes_aleatorias):\n",
    "    # Criar uma amostra do DataFrame usando a semente\n",
    "    df_amostra = df_taxi_out_delay.sample(withReplacement=False, fraction=0.05, seed=semente)\n",
    "\n",
    "    # Coletar a amostra para o ambiente local (Pandas DataFrame)\n",
    "    df_pandas = df_amostra.toPandas()\n",
    "\n",
    "    # Realizar análise exploratória com Seaborn e Matplotlib\n",
    "    # Converter axs[i] em um eixo individual usando [0]\n",
    "    sns.scatterplot(x='TAXI_OUT', y='ARR_DELAY', data=df_pandas, ax=axs[i // num_colunas, i % num_colunas])\n",
    "    axs[i // num_colunas, i % num_colunas].set_xlabel('TAXI_OUT')\n",
    "    axs[i // num_colunas, i % num_colunas].set_ylabel('ARR_DELAY')\n",
    "    axs[i // num_colunas, i % num_colunas].set_title(f'Gráfico de Dispersão - Semente: {semente}')\n",
    "\n",
    "# Ajustar layout e exibir os subplots\n",
    "plt.tight_layout()\n",
    "plt.show()"
   ]
  },
  {
   "cell_type": "markdown",
   "id": "7f8afdbf-a3bd-4803-8485-3e8e6937b268",
   "metadata": {},
   "source": [
    "Observando os resultados dos gráficos acima, fica evidente que não há um padrão linear entre o intervalo de tempo desde a saída do avião do portão até a decolagem e o atraso na aterrissagem. No entanto, é importante notar que não foram identificados atrasos significativos mesmo quando esse período de tempo até a decolagem é ampliado."
   ]
  },
  {
   "cell_type": "markdown",
   "id": "0f98ed8e-d32b-4d11-9178-398b9bd75101",
   "metadata": {},
   "source": [
    "Realizando a ánalise com a segunda variável."
   ]
  },
  {
   "cell_type": "code",
   "execution_count": null,
   "id": "70ede656-4c82-475b-beda-a0725474ed38",
   "metadata": {},
   "outputs": [],
   "source": [
    "# Criando dataframe com as duas váriaveis\n",
    "df_dep_delay_delay = df_final.select(\"DEP_DELAY\", \"ARR_DELAY\")\n",
    "\n",
    "# Lista de sementes aleatórias\n",
    "sementes_aleatorias = [42, 123, 567, 789, 999, 111]\n",
    "\n",
    "# Configurar subplots\n",
    "num_linhas = int(len(sementes_aleatorias) / 3)\n",
    "num_colunas = 3  # Você pode ajustar o número de colunas conforme necessário\n",
    "fig, axs = plt.subplots(num_linhas, num_colunas, figsize=(12,8))\n",
    "\n",
    "# Loop através das sementes\n",
    "for i, semente in enumerate(sementes_aleatorias):\n",
    "    # Criar uma amostra do DataFrame usando a semente\n",
    "    df_amostra = df_dep_delay_delay.sample(withReplacement=False, fraction=0.05, seed=semente)\n",
    "\n",
    "    # Coletar a amostra para o ambiente local (Pandas DataFrame)\n",
    "    df_pandas = df_amostra.toPandas()\n",
    "\n",
    "    # Realizar análise exploratória com Seaborn e Matplotlib\n",
    "    # Converter axs[i] em um eixo individual usando [0]\n",
    "    sns.scatterplot(x='DEP_DELAY', y='ARR_DELAY', data=df_pandas, ax=axs[i // num_colunas, i % num_colunas], color=\"orange\")\n",
    "    axs[i // num_colunas, i % num_colunas].set_xlabel('DEP_DELAY')\n",
    "    axs[i // num_colunas, i % num_colunas].set_ylabel('ARR_DELAY')\n",
    "    axs[i // num_colunas, i % num_colunas].set_title(f'Gráfico de Dispersão - Semente: {semente}')\n",
    "\n",
    "# Ajustar layout e exibir os subplots\n",
    "plt.tight_layout()\n",
    "plt.show()"
   ]
  },
  {
   "cell_type": "markdown",
   "id": "7695e75c-37c7-4436-a353-a9b41053b0c0",
   "metadata": {},
   "source": [
    "Como pode ser observado, existe uma relação linear quase perfeita entre o atraso na decolagem e o atraso na aterrissagem dos voos analisados. Em outras palavras, quanto maior for o atraso na decolagem, maior será o atraso na chegada do avião ao seu destino. Isso era esperado, no entanto, vale a pena notar que, em algumas subdivisões de seeds, voos sem atraso na decolagem também apresentaram atrasos na aterrissagem. Isso sugere que outros fatores também podem influenciar a variável alvo."
   ]
  },
  {
   "cell_type": "code",
   "execution_count": null,
   "id": "a76067f8-0368-48a0-baa5-641a108ab0de",
   "metadata": {},
   "outputs": [],
   "source": [
    "# Criando dataframe com as duas váriaveis\n",
    "df_elapsed_time_delay = df_final.select(\"CRS_ELAPSED_TIME\", \"ARR_DELAY\")\n",
    "\n",
    "# Lista de sementes aleatórias\n",
    "sementes_aleatorias = [42, 123, 567, 789, 999, 111]\n",
    "\n",
    "# Configurar \n",
    "num_linhas = int(len(sementes_aleatorias) / 3)\n",
    "num_colunas = 3  # Você pode ajustar o número de colunas conforme necessário\n",
    "fig, axs = plt.subplots(num_linhas, num_colunas, figsize=(12,8))\n",
    "\n",
    "# Loop através das sementes\n",
    "for i, semente in enumerate(sementes_aleatorias):\n",
    "    # Criar uma amostra do DataFrame usando a semente\n",
    "    df_amostra = df_elapsed_time_delay.sample(withReplacement=False, fraction=0.05, seed=semente)\n",
    "\n",
    "    # Coletar a amostra para o ambiente local (Pandas DataFrame)\n",
    "    df_pandas = df_amostra.toPandas()\n",
    "\n",
    "    # Realizar análise exploratória com Seaborn e Matplotlib\n",
    "    # Converter axs[i] em um eixo individual usando [0]\n",
    "    sns.scatterplot(x='CRS_ELAPSED_TIME', y='ARR_DELAY', data=df_pandas, ax=axs[i // num_colunas, i % num_colunas], color=\"red\")\n",
    "    axs[i // num_colunas, i % num_colunas].set_xlabel('CRS_ELAPSED_TIME')\n",
    "    axs[i // num_colunas, i % num_colunas].set_ylabel('ARR_DELAY')\n",
    "    axs[i // num_colunas, i % num_colunas].set_title(f'Gráfico de Dispersão - Semente: {semente}')\n",
    "\n",
    "# Ajustar layout e exibir os subplots\n",
    "plt.tight_layout()\n",
    "plt.show()"
   ]
  },
  {
   "cell_type": "markdown",
   "id": "fe7cb817-e5dd-436f-9a63-25e9e499ab40",
   "metadata": {},
   "source": [
    "Obsevando o resultado dos gráficos acima, não é possivel perceber nenhuma correlação evidente entre as duas variaveis analisadas."
   ]
  },
  {
   "cell_type": "code",
   "execution_count": null,
   "id": "011593aa-83ae-45f8-be72-8b8c3230f91e",
   "metadata": {},
   "outputs": [],
   "source": [
    "# Criando dataframe com as duas váriaveis\n",
    "df_distance_delay = df_final.select(\"DISTANCE\", \"ARR_DELAY\")\n",
    "\n",
    "# Lista de sementes aleatórias\n",
    "sementes_aleatorias = [42, 123, 567, 789, 999, 111]\n",
    "\n",
    "# Configurar \n",
    "num_linhas = int(len(sementes_aleatorias) / 3)\n",
    "num_colunas = 3  # Você pode ajustar o número de colunas conforme necessário\n",
    "fig, axs = plt.subplots(num_linhas, num_colunas, figsize=(12,8))\n",
    "\n",
    "# Loop através das sementes\n",
    "for i, semente in enumerate(sementes_aleatorias):\n",
    "    # Criar uma amostra do DataFrame usando a semente\n",
    "    df_amostra = df_distance_delay.sample(withReplacement=False, fraction=0.05, seed=semente)\n",
    "\n",
    "    # Coletar a amostra para o ambiente local (Pandas DataFrame)\n",
    "    df_pandas = df_amostra.toPandas()\n",
    "\n",
    "    # Realizar análise exploratória com Seaborn e Matplotlib\n",
    "    # Converter axs[i] em um eixo individual usando [0]\n",
    "    sns.scatterplot(x='DISTANCE', y='ARR_DELAY', data=df_pandas, ax=axs[i // num_colunas, i % num_colunas], color=\"green\")\n",
    "    axs[i // num_colunas, i % num_colunas].set_xlabel('CRS_ELAPSED_TIME')\n",
    "    axs[i // num_colunas, i % num_colunas].set_ylabel('ARR_DELAY')\n",
    "    axs[i // num_colunas, i % num_colunas].set_title(f'Gráfico de Dispersão - Semente: {semente}')\n",
    "\n",
    "# Ajustar layout e exibir os subplots\n",
    "plt.tight_layout()\n",
    "plt.show()"
   ]
  },
  {
   "cell_type": "markdown",
   "id": "958729c4-4771-4346-a094-1d9831395189",
   "metadata": {},
   "source": [
    "Aparentemente o tempo de voo planejado não tem interferencia nos atrasos na aterrisagem."
   ]
  },
  {
   "cell_type": "markdown",
   "id": "64346e7d-556c-42ca-9b9a-418f35861f42",
   "metadata": {},
   "source": [
    "### Categóricas"
   ]
  },
  {
   "cell_type": "markdown",
   "id": "1812ac17-487d-4401-ae97-7547fab611fe",
   "metadata": {},
   "source": [
    "Nesta etapa da análise exploratória, vamos investigar como as variáveis categóricas selecionadas impactam nos atrasos na aterrissagem."
   ]
  },
  {
   "cell_type": "markdown",
   "id": "1fff53fe-45df-4af6-a14b-0e7124eade3a",
   "metadata": {},
   "source": [
    "#### OP_CARRIER"
   ]
  },
  {
   "cell_type": "code",
   "execution_count": null,
   "id": "0ac93a68-3424-49d3-985d-c79c17044fab",
   "metadata": {},
   "outputs": [],
   "source": [
    "# Obtendo o número de companhias presentes na base de dados\n",
    "unique_op_carrier = df_final.select(\"OP_CARRIER\").distinct()\n",
    "\n",
    "# Transformando em um pandas dataframe\n",
    "unique_op_carrier = unique_op_carrier.toPandas()\n",
    "\n",
    "# Visualizando resultado\n",
    "unique_op_carrier"
   ]
  },
  {
   "cell_type": "markdown",
   "id": "c779d916-d777-44e8-bd15-a76e7e1ec16b",
   "metadata": {},
   "source": [
    "Existem 22 companhias areareas distintas na base de dados.from pyspark.sql.functions import col, mean, stddev"
   ]
  },
  {
   "cell_type": "code",
   "execution_count": null,
   "id": "9b81c64a-d6d2-4958-8afb-319d57c33144",
   "metadata": {},
   "outputs": [],
   "source": [
    "# Importando funções \n",
    "from pyspark.sql.functions import col, mean, stddev"
   ]
  },
  {
   "cell_type": "code",
   "execution_count": null,
   "id": "93e622f7-993e-499e-8bdf-f8cce5b1a9ae",
   "metadata": {},
   "outputs": [],
   "source": [
    "# Agrupando e calculando media e desvio padrao\n",
    "op_carrier_delay_mean = df_final.groupBy(\"OP_CARRIER\").agg(\n",
    "    mean(col(\"ARR_DELAY\")).alias(\"media\"),\n",
    "    stddev(col(\"ARR_DELAY\")).alias(\"desvio_padrao\")\n",
    ")\n",
    "\n",
    "# Transfromando em um dataframe pandas\n",
    "op_carrier_delay_mean = op_carrier_delay_mean.toPandas()\n",
    "\n",
    "# Visualizando\n",
    "op_carrier_delay_mean"
   ]
  },
  {
   "cell_type": "code",
   "execution_count": null,
   "id": "2f259885-05d2-4409-a599-c7151cfc70cc",
   "metadata": {},
   "outputs": [],
   "source": [
    "# Criar o gráfico de barra usando o Seaborn\n",
    "plt.figure(figsize=(8, 6))  # Tamanho da figura (opcional)\n",
    "sns.barplot(x='OP_CARRIER', y='media', data=op_carrier_delay_mean.sort_values(\"media\", ascending=False), palette='viridis')\n",
    "\n",
    "# Adicionar título e rótulos aos eixos\n",
    "plt.title('Média de Atraso')\n",
    "plt.xlabel('Companhia Aerea')\n",
    "plt.ylabel('Atraso na Aterrisagem')\n",
    "\n",
    "# Exibir o gráfico\n",
    "plt.show()"
   ]
  },
  {
   "cell_type": "markdown",
   "id": "9cfa21b7-ea79-4adf-a5b7-2b024ce4627a",
   "metadata": {},
   "source": [
    "Como isso vemos que a companhia com maior média de atraso é a G4.\n",
    "\n",
    "Devido à presença de muitos valores zerados e negativos, os desvios padrões apresentaram valores consideravelmente elevados. A fim de adotar uma abordagem que atenue esse efeito, será conduzido o mesmo cálculo, porém, com a aplicação de um filtro nos atrasos. Dessa forma, obteremos as companhias aéreas com os maiores valores de atraso."
   ]
  },
  {
   "cell_type": "code",
   "execution_count": null,
   "id": "e05522b0-80d1-4e2e-9575-a2245004bb11",
   "metadata": {},
   "outputs": [],
   "source": [
    "# Agrupando e calculando media e desvio padrao\n",
    "op_carrier_delay_mean_2 = df_final.filter(col(\"ARR_DELAY\").isNotNull() & (col(\"ARR_DELAY\") > 0)).groupBy(\"OP_CARRIER\").agg(\n",
    "    mean(col(\"ARR_DELAY\")).alias(\"media\"),\n",
    "    stddev(col(\"ARR_DELAY\")).alias(\"desvio_padrao\")\n",
    ")\n",
    "\n",
    "# Transfromando em um dataframe pandas\n",
    "op_carrier_delay_mean_2 = op_carrier_delay_mean_2.toPandas()\n",
    "\n",
    "# Visualizando\n",
    "op_carrier_delay_mean_2"
   ]
  },
  {
   "cell_type": "code",
   "execution_count": null,
   "id": "2bc427f5-480e-4ef8-b37a-74aa5c9f864e",
   "metadata": {},
   "outputs": [],
   "source": [
    "# Criar o gráfico de barra usando o Seaborn\n",
    "plt.figure(figsize=(8, 6))  # Tamanho da figura (opcional)\n",
    "sns.barplot(x='OP_CARRIER', y='media', data=op_carrier_delay_mean_2.sort_values(\"media\", ascending=False), palette='viridis')\n",
    "\n",
    "# Adicionar título e rótulos aos eixos\n",
    "plt.title('Média dos voos atrasados')\n",
    "plt.xlabel('Companhia Aerea')\n",
    "plt.ylabel('Atraso na Aterrisagem')\n",
    "\n",
    "# Exibir o gráfico\n",
    "plt.show()"
   ]
  },
  {
   "cell_type": "markdown",
   "id": "1c9e03c8-2cc4-4da9-a4b2-6bd8251dea20",
   "metadata": {},
   "source": [
    "#### ORIGIN"
   ]
  },
  {
   "cell_type": "markdown",
   "id": "7aa89a06-ddec-486b-a8b3-06eccf39d4b4",
   "metadata": {},
   "source": [
    "Obtendo os aeroportos de partida com maior atraso médio."
   ]
  },
  {
   "cell_type": "code",
   "execution_count": null,
   "id": "4ed2fad5-dd37-42a1-86bf-79a809f8ebdc",
   "metadata": {},
   "outputs": [],
   "source": [
    "# Agrupando e calculando media e desvio padrao\n",
    "origin_delay_mean = df_final.groupBy(\"ORIGIN\").agg(\n",
    "    mean(col(\"ARR_DELAY\")).alias(\"media\"),\n",
    "    stddev(col(\"ARR_DELAY\")).alias(\"desvio_padrao\")\n",
    ")\n",
    "\n",
    "# Transfromando em um dataframe pandas\n",
    "origin_delay_mean = origin_delay_mean.toPandas()\n",
    "\n",
    "# Visualizando\n",
    "origin_delay_mean"
   ]
  },
  {
   "cell_type": "markdown",
   "id": "385f93ea-c913-4027-b74d-2b0986b09bed",
   "metadata": {},
   "source": [
    "Como temos um número elevado de aeroportos, iremos ánalisar os top10 aeroportos com maior e menor média de atraso."
   ]
  },
  {
   "cell_type": "code",
   "execution_count": null,
   "id": "35d4a7d5-fb06-4821-b70a-a044205f57d3",
   "metadata": {},
   "outputs": [],
   "source": [
    "# Criar o gráfico de barra usando o Seaborn\n",
    "plt.figure(figsize=(8, 6))  # Tamanho da figura (opcional)\n",
    "sns.barplot(x='ORIGIN', y='media', data=origin_delay_mean.sort_values(\"media\", ascending=False).head(10), color='red')\n",
    "\n",
    "# Adicionar título e rótulos aos eixos\n",
    "plt.title('Top 10 aeroportos de origem com maior média de atraso')\n",
    "plt.xlabel('Aeroporto de Origem')\n",
    "plt.ylabel('Atraso na Aterrisagem')\n",
    "\n",
    "# Exibir o gráfico\n",
    "plt.show()"
   ]
  },
  {
   "cell_type": "code",
   "execution_count": null,
   "id": "79e6c3cf-816f-4cf3-abc2-386a2ff3301d",
   "metadata": {},
   "outputs": [],
   "source": [
    "# Criar o gráfico de barra usando o Seaborn\n",
    "plt.figure(figsize=(8, 6))  # Tamanho da figura (opcional)\n",
    "sns.barplot(x='ORIGIN', y='media', data=origin_delay_mean.sort_values(\"media\", ascending=False).tail(10), color='blue')\n",
    "\n",
    "# Adicionar título e rótulos aos eixos\n",
    "plt.title('Top 10 aeroportos de origem com menor média de atraso')\n",
    "plt.xlabel('Aeroporto de Origem')\n",
    "plt.ylabel('Atraso na Aterrisagem')\n",
    "\n",
    "# Exibir o gráfico\n",
    "plt.show()"
   ]
  },
  {
   "cell_type": "markdown",
   "id": "85585f7e-2609-4381-b16f-b1bf9a849d39",
   "metadata": {},
   "source": [
    "#### DEST"
   ]
  },
  {
   "cell_type": "markdown",
   "id": "d61dce6f-a420-4053-bf8f-2a99c3cad495",
   "metadata": {},
   "source": [
    "Nesta etapa iremos analisar os aeroportos que mais recebem voos atrasados com base na média."
   ]
  },
  {
   "cell_type": "code",
   "execution_count": null,
   "id": "bdb0dbc6-a5e0-4124-831f-31ee3f82633b",
   "metadata": {},
   "outputs": [],
   "source": [
    "# Agrupando e calculando media e desvio padrao\n",
    "dest_delay_mean = df_final.groupBy(\"DEST\").agg(\n",
    "    mean(col(\"ARR_DELAY\")).alias(\"media\"),\n",
    "    stddev(col(\"ARR_DELAY\")).alias(\"desvio_padrao\")\n",
    ")\n",
    "\n",
    "# Transfromando em um dataframe pandas\n",
    "dest_delay_mean = dest_delay_mean.toPandas()\n",
    "\n",
    "# Visualizando\n",
    "dest_delay_mean"
   ]
  },
  {
   "cell_type": "code",
   "execution_count": null,
   "id": "6809b0f7-ce50-4419-8eda-6718bd6e4381",
   "metadata": {},
   "outputs": [],
   "source": [
    "# Criar o gráfico de barra usando o Seaborn\n",
    "plt.figure(figsize=(8, 6))  # Tamanho da figura (opcional)\n",
    "sns.barplot(x='DEST', y='media', data=dest_delay_mean.sort_values(\"media\", ascending=False).head(10), color='red')\n",
    "\n",
    "# Adicionar título e rótulos aos eixos\n",
    "plt.title('Top 10 aeroportos que recebem voos atrasados com base na média')\n",
    "plt.xlabel('Aeroporto de Destino')\n",
    "plt.ylabel('Atraso na Aterrisagem')\n",
    "\n",
    "# Exibir o gráfico\n",
    "plt.show()"
   ]
  },
  {
   "cell_type": "code",
   "execution_count": null,
   "id": "59b94c57-15ee-4c5b-a9a5-949a01827893",
   "metadata": {},
   "outputs": [],
   "source": [
    "# Criar o gráfico de barra usando o Seaborn\n",
    "plt.figure(figsize=(8, 6))  # Tamanho da figura (opcional)\n",
    "sns.barplot(x='DEST', y='media', data=dest_delay_mean.sort_values(\"media\", ascending=False).tail(10), color='blue')\n",
    "\n",
    "# Adicionar título e rótulos aos eixos\n",
    "plt.title('Tail 10 aeroportos que recebem voos atrasados com base na média')\n",
    "plt.xlabel('Aeroporto de Origem')\n",
    "plt.ylabel('Atraso na Aterrisagem')\n",
    "\n",
    "# Exibir o gráfico\n",
    "plt.show()"
   ]
  },
  {
   "cell_type": "markdown",
   "id": "b9ff824a-814b-4859-abcb-b6702dda2a85",
   "metadata": {},
   "source": [
    "# Modelagem"
   ]
  },
  {
   "cell_type": "code",
   "execution_count": null,
   "id": "0095957c-0ec3-4c9e-b560-1ffe09cef0f3",
   "metadata": {},
   "outputs": [],
   "source": [
    "# This list includes all values not known at the moment of takeoff\n",
    "# except `ARR_DELAY` which will be used as target variable\n",
    "take_off_leak = [\"WHEELS_ON\",\"TAXI_IN\",\"ARR_TIME\",\"ACTUAL_ELAPSED_TIME\",\"AIR_TIME\",\n",
    "                 \"CARRIER_DELAY\",\"WEATHER_DELAY\",\"NAS_DELAY\",\"SECURITY_DELAY\",\"LATE_AIRCRAFT_DELAY\"]"
   ]
  },
  {
   "cell_type": "code",
   "execution_count": null,
   "id": "36927d61-ca7b-4515-9c62-5e86a02c0e9d",
   "metadata": {},
   "outputs": [],
   "source": [
    "take_off_df = df_final.drop(*take_off_leak)\\\n",
    "                      .filter(df_final.CANCELLED == 0)\\\n",
    "                      .filter(df_final.DIVERTED == 0)\\\n",
    "                      .filter(df_final.CRS_ARR_TIME.isNotNull())\\\n",
    "                      .filter(df_final.ARR_DELAY.isNotNull())\\\n",
    "                      .filter(df_final.DEP_DELAY.isNotNull())"
   ]
  },
  {
   "cell_type": "code",
   "execution_count": null,
   "id": "27acee84-95be-42f2-ad68-139c01f6dab8",
   "metadata": {},
   "outputs": [],
   "source": [
    "missing_counts = take_off_df.select([sf.col(column).isNull().cast(\"int\").alias(column) for column in take_off_df.columns]) \\\n",
    "                       .groupBy() \\\n",
    "                       .sum()"
   ]
  },
  {
   "cell_type": "code",
   "execution_count": null,
   "id": "3c430ee7-77ae-43fd-8c06-f014efbd34c1",
   "metadata": {},
   "outputs": [],
   "source": [
    "# Criando dataframe de colunas com valores zerados\n",
    "missing_counts_df = missing_counts.toPandas().transpose()\n",
    "\n",
    "# Filtrando apenas colunas com valores nulos\n",
    "missing_counts_df = missing_counts_df[missing_counts_df[0]>0]\n",
    "\n",
    "# Renomeando a coluna\n",
    "missing_counts_df = missing_counts_df.rename(columns={0:\"nulos\"})"
   ]
  },
  {
   "cell_type": "code",
   "execution_count": null,
   "id": "92560ba7-63d3-458c-bc31-39443e4ae59f",
   "metadata": {},
   "outputs": [],
   "source": [
    "# Cálculando porcentagem de valores faltantes\n",
    "missing_counts_df[\"%nulos\"] = (missing_counts_df[\"nulos\"]/OBSERVACOES) * 100\n",
    "\n",
    "# Ordenando por % de nulos\n",
    "missing_counts_df = missing_counts_df.sort_values(\"%nulos\", ascending=False)\n",
    "\n",
    "# Visualizando resultados\n",
    "missing_counts_df"
   ]
  },
  {
   "cell_type": "markdown",
   "id": "dee5087f-c0aa-417f-88f5-88c5af0236f9",
   "metadata": {},
   "source": [
    "## Train/Test Split"
   ]
  },
  {
   "cell_type": "code",
   "execution_count": null,
   "id": "3f3abc28-4ea7-4818-a4a6-f6790bdf45ee",
   "metadata": {},
   "outputs": [],
   "source": [
    "train_df, test_df = take_off_df.randomSplit([0.8,0.2], seed=42)\n",
    "toy_df = train_df.sample(False, 0.1, seed=42)"
   ]
  },
  {
   "cell_type": "code",
   "execution_count": null,
   "id": "0e955121-cd59-44fa-8f8a-df0c424df638",
   "metadata": {},
   "outputs": [],
   "source": [
    "print(\"Train set count:\", train_df.count())\n",
    "print(\"Test set count:\", test_df.count())\n",
    "print(\"Toy set count:\", toy_df.count())"
   ]
  },
  {
   "cell_type": "markdown",
   "id": "637aa2ef-9bc3-414d-b019-9b959c53d772",
   "metadata": {},
   "source": [
    "## Feature Engineering: One-Hot-Enconding"
   ]
  },
  {
   "cell_type": "code",
   "execution_count": null,
   "id": "fde2ff41-c88e-474e-bc4d-0f31eb3ae144",
   "metadata": {},
   "outputs": [],
   "source": [
    "cat_features = [\"OP_CARRIER\", \"OP_CARRIER_FL_NUM\", \"ORIGIN\", \"DEST\"]\n",
    "\n",
    "indexOutputCols = [x + 'Index' for x in cat_features]\n",
    "\n",
    "oheOutputCols = [x + 'OHE' for x in cat_features]\n",
    "\n",
    "stringIndex = StringIndexer(inputCols = cat_features,\n",
    "                            outputCols = indexOutputCols,\n",
    "                            handleInvalid = 'skip')\n",
    "\n",
    "oheEncoder = OneHotEncoder(inputCols = indexOutputCols,\n",
    "                           outputCols = oheOutputCols)"
   ]
  },
  {
   "cell_type": "code",
   "execution_count": null,
   "id": "f6ebaea5-9c53-45b1-85b1-d5641bb31901",
   "metadata": {},
   "outputs": [],
   "source": [
    "num_features = [\"TAXI_OUT\", \"DEP_DELAY\", \"CRS_ELAPSED_TIME\", \"DISTANCE\"]\n",
    "\n",
    "numVecAssembler = VectorAssembler(inputCols = num_features,\n",
    "                                  outputCol = 'features',\n",
    "                                  handleInvalid = 'skip')\n",
    "\n",
    "stdScaler = StandardScaler(inputCol = 'features',\n",
    "                           outputCol = 'features_scaled')"
   ]
  },
  {
   "cell_type": "markdown",
   "id": "d8b007f0-7a51-47ec-b00a-dd2d0eee4f4a",
   "metadata": {},
   "source": [
    "## Assembling dos vetores"
   ]
  },
  {
   "cell_type": "code",
   "execution_count": null,
   "id": "8673a5e3-2078-4d2e-b449-3ba5ffae56e8",
   "metadata": {},
   "outputs": [],
   "source": [
    "assembleInputs = oheOutputCols + ['features_scaled']\n",
    "\n",
    "vecAssembler = VectorAssembler(inputCols = assembleInputs,\n",
    "                               outputCol = 'features_vector')"
   ]
  },
  {
   "cell_type": "code",
   "execution_count": null,
   "id": "aa15d45b-4962-4393-ada7-96886abf95c0",
   "metadata": {},
   "outputs": [],
   "source": [
    "stages = [stringIndex, oheEncoder, numVecAssembler, stdScaler, vecAssembler]"
   ]
  },
  {
   "cell_type": "markdown",
   "id": "01e1a25b-d5cd-4c08-9acd-a0613c57571e",
   "metadata": {},
   "source": [
    "## Criação do Pipeline"
   ]
  },
  {
   "cell_type": "code",
   "execution_count": null,
   "id": "33c2f4ba-08b4-4711-9d96-1f8cec42cee3",
   "metadata": {},
   "outputs": [],
   "source": [
    "# Criacao do pipeline de transformacao\n",
    "transform_pipeline = Pipeline(stages=stages)\n",
    "\n",
    "# Aplicacao do pipeline nos dados de treino\n",
    "fitted_transformer = transform_pipeline.fit(train_df)\n",
    "transformed_train_df = fitted_transformer.transform(train_df)\n",
    "\n",
    "transformed_train_df.limit(10).toPandas()"
   ]
  },
  {
   "cell_type": "markdown",
   "id": "3091c237-5968-4a1b-b13f-14011d468c8d",
   "metadata": {},
   "source": [
    "## Model Training"
   ]
  },
  {
   "cell_type": "code",
   "execution_count": null,
   "id": "283629d4-fac4-4be1-9b0a-bceb90152687",
   "metadata": {},
   "outputs": [],
   "source": [
    "model = LinearRegression(maxIter = 5, # pode causar overfitting\n",
    "                         solver = 'auto',\n",
    "                         labelCol = 'ARR_DELAY',\n",
    "                         featuresCol = 'features_vector',\n",
    "                         elasticNetParam = 0.2,\n",
    "                         regParam = 0.02)\n",
    "\n",
    "pipe_stages = stages + [model]\n",
    "\n",
    "pipe = Pipeline(stages=pipe_stages)"
   ]
  },
  {
   "cell_type": "code",
   "execution_count": null,
   "id": "570f0d44-584d-4d1a-8d5a-b2f96e2a3905",
   "metadata": {},
   "outputs": [],
   "source": [
    "fitted_pipe = pipe.fit(toy_df)"
   ]
  },
  {
   "cell_type": "markdown",
   "id": "8e1742a6-946a-4c1c-8658-4d57670b1cd9",
   "metadata": {},
   "source": [
    "## Model performance evaluation"
   ]
  },
  {
   "cell_type": "code",
   "execution_count": null,
   "id": "bb1763ee-7617-4c9e-b6bd-42380f49cbf5",
   "metadata": {},
   "outputs": [],
   "source": [
    "preds = fitted_pipe.transform(test_df)"
   ]
  },
  {
   "cell_type": "code",
   "execution_count": null,
   "id": "35fcfe54-2666-4620-a626-bd00d4277deb",
   "metadata": {},
   "outputs": [],
   "source": [
    "preds.limit(10).toPandas()"
   ]
  },
  {
   "cell_type": "code",
   "execution_count": null,
   "id": "d446574c-77f1-4cff-a4ca-c56769d0ec52",
   "metadata": {},
   "outputs": [],
   "source": [
    "rmse = RegressionEvaluator(labelCol = 'ARR_DELAY',\n",
    "                           metricName = 'rmse').evaluate(preds)"
   ]
  },
  {
   "cell_type": "code",
   "execution_count": null,
   "id": "53799cec-de58-4f2e-ba5e-780c12d0fcc1",
   "metadata": {},
   "outputs": [],
   "source": [
    "print(\"RMSEof Prediction on test set:\", rmse)"
   ]
  },
  {
   "cell_type": "code",
   "execution_count": null,
   "id": "fe2ab8e7-ce4e-480d-88f3-e4369eef0cb3",
   "metadata": {},
   "outputs": [],
   "source": [
    "results = []\n",
    "results.append({\"run\": 1,\n",
    "                \"rmse\": rmse,\n",
    "                \"model\": \"LinearRegression\",\n",
    "                \"params\": \"maxIter = 5, solver = 'auto', labelCol = 'ARR_DELAY', featuresCol = 'features_vector', elasticNetParam = 0.2, regParam = 0.02\"})"
   ]
  },
  {
   "cell_type": "code",
   "execution_count": null,
   "id": "68a6b8bd-18ec-4de9-bc26-32da229db7a0",
   "metadata": {},
   "outputs": [],
   "source": [
    "df_final.drop(*take_off_leak)\\\n",
    "                      .filter(df_final.CANCELLED == 0)\\\n",
    "                      .filter(df_final.DIVERTED == 0)\\\n",
    "                      .filter(df_final.CRS_ARR_TIME.isNotNull())\\\n",
    "                      .filter(df_final.ARR_DELAY.isNotNull())\\\n",
    "                      .filter(df_final.DEP_DELAY.isNotNull()).count()"
   ]
  },
  {
   "cell_type": "markdown",
   "id": "c77abb74-7283-4683-95bf-772690bd2401",
   "metadata": {},
   "source": [
    "## Hyperparameter Tuning"
   ]
  },
  {
   "cell_type": "code",
   "execution_count": null,
   "id": "b7dcbac8-2ee8-488c-8943-70a39c40a52d",
   "metadata": {},
   "outputs": [],
   "source": [
    "parameter_grid = ParamGridBuilder() \\\n",
    "                   .addGrid(model.elasticNetParam, [0.2, 0.3]) \\\n",
    "                   .addGrid(model.regParam, [0.02, 0.03]) \\\n",
    "                   .build()\n",
    "\n",
    "cross_val = CrossValidator(estimator=pipe,\n",
    "                           estimatorParamMaps=parameter_grid,\n",
    "                           evaluator = RegressionEvaluator(labelCol = 'ARR_DELAY'),\n",
    "                           numFolds = 5)\n",
    "\n",
    "cv_model = cross_val.fit(toy_df)"
   ]
  },
  {
   "cell_type": "code",
   "execution_count": null,
   "id": "90894486-977f-46c8-9568-c93c45dfd45f",
   "metadata": {},
   "outputs": [],
   "source": [
    "import pandas as pd\n",
    "\n",
    "en = [0.2, 0.3]\n",
    "reg = [0.02, 0.03]\n",
    "\n",
    "elastic_net = [e for e in en for r in reg]\n",
    "regularization = [r for e in en for r in reg]\n",
    "\n",
    "rmse_df = pd.DataFrame({'rmse': cv_model.avgMetrics,\n",
    "                        'elastic_net_alpha': elastic_net,\n",
    "                        'regularization_term': regularization})\n",
    "\n",
    "rmse_df.sort_values(by='rmse')"
   ]
  }
 ],
 "metadata": {
  "kernelspec": {
   "display_name": "Python 3 (ipykernel)",
   "language": "python",
   "name": "python3"
  },
  "language_info": {
   "codemirror_mode": {
    "name": "ipython",
    "version": 3
   },
   "file_extension": ".py",
   "mimetype": "text/x-python",
   "name": "python",
   "nbconvert_exporter": "python",
   "pygments_lexer": "ipython3",
   "version": "3.10.8"
  }
 },
 "nbformat": 4,
 "nbformat_minor": 5
}
